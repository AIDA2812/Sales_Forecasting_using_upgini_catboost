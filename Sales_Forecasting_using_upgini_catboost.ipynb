{
  "nbformat": 4,
  "nbformat_minor": 0,
  "metadata": {
    "colab": {
      "provenance": [],
      "authorship_tag": "ABX9TyMqoCMNROrtxwup6O6PFdV3",
      "include_colab_link": true
    },
    "kernelspec": {
      "name": "python3",
      "display_name": "Python 3"
    },
    "language_info": {
      "name": "python"
    },
    "widgets": {
      "application/vnd.jupyter.widget-state+json": {
        "ac4f7246c27345748596fabbebca9b24": {
          "model_module": "@jupyter-widgets/controls",
          "model_name": "ButtonModel",
          "model_module_version": "2.0.0",
          "state": {
            "_dom_classes": [
              "custom-button"
            ],
            "_model_module": "@jupyter-widgets/controls",
            "_model_module_version": "2.0.0",
            "_model_name": "ButtonModel",
            "_view_count": null,
            "_view_module": "@jupyter-widgets/controls",
            "_view_module_version": "2.0.0",
            "_view_name": "ButtonView",
            "button_style": "",
            "description": "Get an API KEY",
            "disabled": false,
            "icon": "",
            "layout": "IPY_MODEL_a0a086a8bd05421e987a64c8a1fd68da",
            "style": "IPY_MODEL_92bbf3d2bc854e328e917da80b18027c",
            "tabbable": null,
            "tooltip": "Register"
          }
        },
        "a0a086a8bd05421e987a64c8a1fd68da": {
          "model_module": "@jupyter-widgets/base",
          "model_name": "LayoutModel",
          "model_module_version": "2.0.0",
          "state": {
            "_model_module": "@jupyter-widgets/base",
            "_model_module_version": "2.0.0",
            "_model_name": "LayoutModel",
            "_view_count": null,
            "_view_module": "@jupyter-widgets/base",
            "_view_module_version": "2.0.0",
            "_view_name": "LayoutView",
            "align_content": null,
            "align_items": null,
            "align_self": null,
            "border_bottom": null,
            "border_left": null,
            "border_right": null,
            "border_top": null,
            "bottom": null,
            "display": null,
            "flex": null,
            "flex_flow": null,
            "grid_area": null,
            "grid_auto_columns": null,
            "grid_auto_flow": null,
            "grid_auto_rows": null,
            "grid_column": null,
            "grid_gap": null,
            "grid_row": null,
            "grid_template_areas": null,
            "grid_template_columns": null,
            "grid_template_rows": null,
            "height": null,
            "justify_content": null,
            "justify_items": null,
            "left": null,
            "margin": null,
            "max_height": null,
            "max_width": null,
            "min_height": null,
            "min_width": null,
            "object_fit": null,
            "object_position": null,
            "order": null,
            "overflow": null,
            "padding": null,
            "right": null,
            "top": null,
            "visibility": null,
            "width": "auto"
          }
        },
        "92bbf3d2bc854e328e917da80b18027c": {
          "model_module": "@jupyter-widgets/controls",
          "model_name": "ButtonStyleModel",
          "model_module_version": "2.0.0",
          "state": {
            "_model_module": "@jupyter-widgets/controls",
            "_model_module_version": "2.0.0",
            "_model_name": "ButtonStyleModel",
            "_view_count": null,
            "_view_module": "@jupyter-widgets/base",
            "_view_module_version": "2.0.0",
            "_view_name": "StyleView",
            "button_color": null,
            "font_family": null,
            "font_size": null,
            "font_style": null,
            "font_variant": null,
            "font_weight": null,
            "text_color": null,
            "text_decoration": null
          }
        },
        "8b6ee1edf38442b08486defd7b16d5ce": {
          "model_module": "@jupyter-widgets/controls",
          "model_name": "ButtonModel",
          "model_module_version": "2.0.0",
          "state": {
            "_dom_classes": [
              "custom-button"
            ],
            "_model_module": "@jupyter-widgets/controls",
            "_model_module_version": "2.0.0",
            "_model_name": "ButtonModel",
            "_view_count": null,
            "_view_module": "@jupyter-widgets/controls",
            "_view_module_version": "2.0.0",
            "_view_name": "ButtonView",
            "button_style": "",
            "description": "Get an API KEY",
            "disabled": false,
            "icon": "",
            "layout": "IPY_MODEL_c051bf65674d4c9a8320598692a22cda",
            "style": "IPY_MODEL_1247e83b2cb3479a800e87212b488cc8",
            "tabbable": null,
            "tooltip": "Register"
          }
        },
        "c051bf65674d4c9a8320598692a22cda": {
          "model_module": "@jupyter-widgets/base",
          "model_name": "LayoutModel",
          "model_module_version": "2.0.0",
          "state": {
            "_model_module": "@jupyter-widgets/base",
            "_model_module_version": "2.0.0",
            "_model_name": "LayoutModel",
            "_view_count": null,
            "_view_module": "@jupyter-widgets/base",
            "_view_module_version": "2.0.0",
            "_view_name": "LayoutView",
            "align_content": null,
            "align_items": null,
            "align_self": null,
            "border_bottom": null,
            "border_left": null,
            "border_right": null,
            "border_top": null,
            "bottom": null,
            "display": null,
            "flex": null,
            "flex_flow": null,
            "grid_area": null,
            "grid_auto_columns": null,
            "grid_auto_flow": null,
            "grid_auto_rows": null,
            "grid_column": null,
            "grid_gap": null,
            "grid_row": null,
            "grid_template_areas": null,
            "grid_template_columns": null,
            "grid_template_rows": null,
            "height": null,
            "justify_content": null,
            "justify_items": null,
            "left": null,
            "margin": null,
            "max_height": null,
            "max_width": null,
            "min_height": null,
            "min_width": null,
            "object_fit": null,
            "object_position": null,
            "order": null,
            "overflow": null,
            "padding": null,
            "right": null,
            "top": null,
            "visibility": null,
            "width": "auto"
          }
        },
        "1247e83b2cb3479a800e87212b488cc8": {
          "model_module": "@jupyter-widgets/controls",
          "model_name": "ButtonStyleModel",
          "model_module_version": "2.0.0",
          "state": {
            "_model_module": "@jupyter-widgets/controls",
            "_model_module_version": "2.0.0",
            "_model_name": "ButtonStyleModel",
            "_view_count": null,
            "_view_module": "@jupyter-widgets/base",
            "_view_module_version": "2.0.0",
            "_view_name": "StyleView",
            "button_color": null,
            "font_family": null,
            "font_size": null,
            "font_style": null,
            "font_variant": null,
            "font_weight": null,
            "text_color": null,
            "text_decoration": null
          }
        }
      }
    }
  },
  "cells": [
    {
      "cell_type": "markdown",
      "metadata": {
        "id": "view-in-github",
        "colab_type": "text"
      },
      "source": [
        "<a href=\"https://colab.research.google.com/github/AIDA2812/Sales_Forecasting_using_upgini_catboost/blob/main/Sales_Forecasting_using_upgini_catboost.ipynb\" target=\"_parent\"><img src=\"https://colab.research.google.com/assets/colab-badge.svg\" alt=\"Open In Colab\"/></a>"
      ]
    },
    {
      "cell_type": "code",
      "execution_count": 4,
      "metadata": {
        "id": "Qbqu5p8Tbbrw",
        "colab": {
          "base_uri": "https://localhost:8080/"
        },
        "outputId": "a78ae08c-ff0d-4259-bc12-d9cc94fb4a12"
      },
      "outputs": [
        {
          "output_type": "stream",
          "name": "stdout",
          "text": [
            "\u001b[2K     \u001b[90m━━━━━━━━━━━━━━━━━━━━━━━━━━━━━━━━━━━━━━━━\u001b[0m \u001b[32m51.1/51.1 kB\u001b[0m \u001b[31m1.3 MB/s\u001b[0m eta \u001b[36m0:00:00\u001b[0m\n",
            "\u001b[2K   \u001b[90m━━━━━━━━━━━━━━━━━━━━━━━━━━━━━━━━━━━━━━━━\u001b[0m \u001b[32m303.3/303.3 kB\u001b[0m \u001b[31m5.0 MB/s\u001b[0m eta \u001b[36m0:00:00\u001b[0m\n",
            "\u001b[2K   \u001b[90m━━━━━━━━━━━━━━━━━━━━━━━━━━━━━━━━━━━━━━━━\u001b[0m \u001b[32m65.3/65.3 kB\u001b[0m \u001b[31m3.1 MB/s\u001b[0m eta \u001b[36m0:00:00\u001b[0m\n",
            "\u001b[2K   \u001b[90m━━━━━━━━━━━━━━━━━━━━━━━━━━━━━━━━━━━━━━━━\u001b[0m \u001b[32m99.2/99.2 MB\u001b[0m \u001b[31m6.9 MB/s\u001b[0m eta \u001b[36m0:00:00\u001b[0m\n",
            "\u001b[2K   \u001b[90m━━━━━━━━━━━━━━━━━━━━━━━━━━━━━━━━━━━━━━━━\u001b[0m \u001b[32m85.7/85.7 kB\u001b[0m \u001b[31m7.2 MB/s\u001b[0m eta \u001b[36m0:00:00\u001b[0m\n",
            "\u001b[2K   \u001b[90m━━━━━━━━━━━━━━━━━━━━━━━━━━━━━━━━━━━━━━━━\u001b[0m \u001b[32m1.8/1.8 MB\u001b[0m \u001b[31m78.2 MB/s\u001b[0m eta \u001b[36m0:00:00\u001b[0m\n",
            "\u001b[2K   \u001b[90m━━━━━━━━━━━━━━━━━━━━━━━━━━━━━━━━━━━━━━━━\u001b[0m \u001b[32m139.8/139.8 kB\u001b[0m \u001b[31m11.9 MB/s\u001b[0m eta \u001b[36m0:00:00\u001b[0m\n",
            "\u001b[2K   \u001b[90m━━━━━━━━━━━━━━━━━━━━━━━━━━━━━━━━━━━━━━━━\u001b[0m \u001b[32m159.9/159.9 kB\u001b[0m \u001b[31m13.8 MB/s\u001b[0m eta \u001b[36m0:00:00\u001b[0m\n",
            "\u001b[2K   \u001b[90m━━━━━━━━━━━━━━━━━━━━━━━━━━━━━━━━━━━━━━━━\u001b[0m \u001b[32m125.0/125.0 kB\u001b[0m \u001b[31m11.8 MB/s\u001b[0m eta \u001b[36m0:00:00\u001b[0m\n",
            "\u001b[2K   \u001b[90m━━━━━━━━━━━━━━━━━━━━━━━━━━━━━━━━━━━━━━━━\u001b[0m \u001b[32m466.2/466.2 kB\u001b[0m \u001b[31m32.4 MB/s\u001b[0m eta \u001b[36m0:00:00\u001b[0m\n",
            "\u001b[2K   \u001b[90m━━━━━━━━━━━━━━━━━━━━━━━━━━━━━━━━━━━━━━━━\u001b[0m \u001b[32m111.8/111.8 kB\u001b[0m \u001b[31m9.2 MB/s\u001b[0m eta \u001b[36m0:00:00\u001b[0m\n",
            "\u001b[2K   \u001b[90m━━━━━━━━━━━━━━━━━━━━━━━━━━━━━━━━━━━━━━━━\u001b[0m \u001b[32m323.5/323.5 kB\u001b[0m \u001b[31m25.5 MB/s\u001b[0m eta \u001b[36m0:00:00\u001b[0m\n",
            "\u001b[2K   \u001b[90m━━━━━━━━━━━━━━━━━━━━━━━━━━━━━━━━━━━━━━━━\u001b[0m \u001b[32m3.2/3.2 MB\u001b[0m \u001b[31m99.4 MB/s\u001b[0m eta \u001b[36m0:00:00\u001b[0m\n",
            "\u001b[2K   \u001b[90m━━━━━━━━━━━━━━━━━━━━━━━━━━━━━━━━━━━━━━━━\u001b[0m \u001b[32m2.0/2.0 MB\u001b[0m \u001b[31m85.8 MB/s\u001b[0m eta \u001b[36m0:00:00\u001b[0m\n",
            "\u001b[2K   \u001b[90m━━━━━━━━━━━━━━━━━━━━━━━━━━━━━━━━━━━━━━━━\u001b[0m \u001b[32m2.2/2.2 MB\u001b[0m \u001b[31m82.7 MB/s\u001b[0m eta \u001b[36m0:00:00\u001b[0m\n",
            "\u001b[2K   \u001b[90m━━━━━━━━━━━━━━━━━━━━━━━━━━━━━━━━━━━━━━━━\u001b[0m \u001b[32m105.0/105.0 kB\u001b[0m \u001b[31m8.7 MB/s\u001b[0m eta \u001b[36m0:00:00\u001b[0m\n",
            "\u001b[2K   \u001b[90m━━━━━━━━━━━━━━━━━━━━━━━━━━━━━━━━━━━━━━━━\u001b[0m \u001b[32m1.6/1.6 MB\u001b[0m \u001b[31m70.8 MB/s\u001b[0m eta \u001b[36m0:00:00\u001b[0m\n",
            "\u001b[2K   \u001b[90m━━━━━━━━━━━━━━━━━━━━━━━━━━━━━━━━━━━━━━━━\u001b[0m \u001b[32m5.3/5.3 MB\u001b[0m \u001b[31m95.0 MB/s\u001b[0m eta \u001b[36m0:00:00\u001b[0m\n",
            "\u001b[2K   \u001b[90m━━━━━━━━━━━━━━━━━━━━━━━━━━━━━━━━━━━━━━━━\u001b[0m \u001b[32m194.6/194.6 kB\u001b[0m \u001b[31m14.1 MB/s\u001b[0m eta \u001b[36m0:00:00\u001b[0m\n",
            "\u001b[2K   \u001b[90m━━━━━━━━━━━━━━━━━━━━━━━━━━━━━━━━━━━━━━━━\u001b[0m \u001b[32m1.0/1.0 MB\u001b[0m \u001b[31m51.1 MB/s\u001b[0m eta \u001b[36m0:00:00\u001b[0m\n",
            "\u001b[?25h"
          ]
        }
      ],
      "source": [
        "%pip install -Uq upgini\n",
        "\n",
        "%pip install -Uq catboost\n"
      ]
    },
    {
      "cell_type": "code",
      "source": [
        "from os.path import exists\n",
        "import pandas as pd\n",
        "df_path = \"train.csv.zip\" if exists(\"train.csv.zip\") else \"https://github.com/upgini/upgini/raw/main/notebooks/train.csv.zip\"\n",
        "df = pd.read_csv(df_path)\n",
        "df = df.sample(n=19_000, random_state=0)\n",
        "df[\"store\"] = df[\"store\"].astype(str)\n",
        "df[\"item\"] = df[\"item\"].astype(str)\n",
        "\n",
        "df[\"date\"] = pd.to_datetime(df[\"date\"])\n",
        "df.sort_values(\"date\", inplace=True)\n",
        "df.reset_index(inplace=True, drop=True)\n",
        "df.head()\n",
        "\n"
      ],
      "metadata": {
        "colab": {
          "base_uri": "https://localhost:8080/",
          "height": 206
        },
        "id": "YEIDO5vHjRV4",
        "outputId": "c99f4d5c-0944-4d70-ea78-d7f10980a51c"
      },
      "execution_count": 5,
      "outputs": [
        {
          "output_type": "execute_result",
          "data": {
            "text/plain": [
              "        date store item  sales\n",
              "0 2013-01-01     7    5      5\n",
              "1 2013-01-01     4    9     19\n",
              "2 2013-01-01     1   33     37\n",
              "3 2013-01-01     3   41     14\n",
              "4 2013-01-01     5   24     26"
            ],
            "text/html": [
              "\n",
              "  <div id=\"df-a5852346-7ffd-4076-88da-c1aac82e62e3\" class=\"colab-df-container\">\n",
              "    <div>\n",
              "<style scoped>\n",
              "    .dataframe tbody tr th:only-of-type {\n",
              "        vertical-align: middle;\n",
              "    }\n",
              "\n",
              "    .dataframe tbody tr th {\n",
              "        vertical-align: top;\n",
              "    }\n",
              "\n",
              "    .dataframe thead th {\n",
              "        text-align: right;\n",
              "    }\n",
              "</style>\n",
              "<table border=\"1\" class=\"dataframe\">\n",
              "  <thead>\n",
              "    <tr style=\"text-align: right;\">\n",
              "      <th></th>\n",
              "      <th>date</th>\n",
              "      <th>store</th>\n",
              "      <th>item</th>\n",
              "      <th>sales</th>\n",
              "    </tr>\n",
              "  </thead>\n",
              "  <tbody>\n",
              "    <tr>\n",
              "      <th>0</th>\n",
              "      <td>2013-01-01</td>\n",
              "      <td>7</td>\n",
              "      <td>5</td>\n",
              "      <td>5</td>\n",
              "    </tr>\n",
              "    <tr>\n",
              "      <th>1</th>\n",
              "      <td>2013-01-01</td>\n",
              "      <td>4</td>\n",
              "      <td>9</td>\n",
              "      <td>19</td>\n",
              "    </tr>\n",
              "    <tr>\n",
              "      <th>2</th>\n",
              "      <td>2013-01-01</td>\n",
              "      <td>1</td>\n",
              "      <td>33</td>\n",
              "      <td>37</td>\n",
              "    </tr>\n",
              "    <tr>\n",
              "      <th>3</th>\n",
              "      <td>2013-01-01</td>\n",
              "      <td>3</td>\n",
              "      <td>41</td>\n",
              "      <td>14</td>\n",
              "    </tr>\n",
              "    <tr>\n",
              "      <th>4</th>\n",
              "      <td>2013-01-01</td>\n",
              "      <td>5</td>\n",
              "      <td>24</td>\n",
              "      <td>26</td>\n",
              "    </tr>\n",
              "  </tbody>\n",
              "</table>\n",
              "</div>\n",
              "    <div class=\"colab-df-buttons\">\n",
              "\n",
              "  <div class=\"colab-df-container\">\n",
              "    <button class=\"colab-df-convert\" onclick=\"convertToInteractive('df-a5852346-7ffd-4076-88da-c1aac82e62e3')\"\n",
              "            title=\"Convert this dataframe to an interactive table.\"\n",
              "            style=\"display:none;\">\n",
              "\n",
              "  <svg xmlns=\"http://www.w3.org/2000/svg\" height=\"24px\" viewBox=\"0 -960 960 960\">\n",
              "    <path d=\"M120-120v-720h720v720H120Zm60-500h600v-160H180v160Zm220 220h160v-160H400v160Zm0 220h160v-160H400v160ZM180-400h160v-160H180v160Zm440 0h160v-160H620v160ZM180-180h160v-160H180v160Zm440 0h160v-160H620v160Z\"/>\n",
              "  </svg>\n",
              "    </button>\n",
              "\n",
              "  <style>\n",
              "    .colab-df-container {\n",
              "      display:flex;\n",
              "      gap: 12px;\n",
              "    }\n",
              "\n",
              "    .colab-df-convert {\n",
              "      background-color: #E8F0FE;\n",
              "      border: none;\n",
              "      border-radius: 50%;\n",
              "      cursor: pointer;\n",
              "      display: none;\n",
              "      fill: #1967D2;\n",
              "      height: 32px;\n",
              "      padding: 0 0 0 0;\n",
              "      width: 32px;\n",
              "    }\n",
              "\n",
              "    .colab-df-convert:hover {\n",
              "      background-color: #E2EBFA;\n",
              "      box-shadow: 0px 1px 2px rgba(60, 64, 67, 0.3), 0px 1px 3px 1px rgba(60, 64, 67, 0.15);\n",
              "      fill: #174EA6;\n",
              "    }\n",
              "\n",
              "    .colab-df-buttons div {\n",
              "      margin-bottom: 4px;\n",
              "    }\n",
              "\n",
              "    [theme=dark] .colab-df-convert {\n",
              "      background-color: #3B4455;\n",
              "      fill: #D2E3FC;\n",
              "    }\n",
              "\n",
              "    [theme=dark] .colab-df-convert:hover {\n",
              "      background-color: #434B5C;\n",
              "      box-shadow: 0px 1px 3px 1px rgba(0, 0, 0, 0.15);\n",
              "      filter: drop-shadow(0px 1px 2px rgba(0, 0, 0, 0.3));\n",
              "      fill: #FFFFFF;\n",
              "    }\n",
              "  </style>\n",
              "\n",
              "    <script>\n",
              "      const buttonEl =\n",
              "        document.querySelector('#df-a5852346-7ffd-4076-88da-c1aac82e62e3 button.colab-df-convert');\n",
              "      buttonEl.style.display =\n",
              "        google.colab.kernel.accessAllowed ? 'block' : 'none';\n",
              "\n",
              "      async function convertToInteractive(key) {\n",
              "        const element = document.querySelector('#df-a5852346-7ffd-4076-88da-c1aac82e62e3');\n",
              "        const dataTable =\n",
              "          await google.colab.kernel.invokeFunction('convertToInteractive',\n",
              "                                                    [key], {});\n",
              "        if (!dataTable) return;\n",
              "\n",
              "        const docLinkHtml = 'Like what you see? Visit the ' +\n",
              "          '<a target=\"_blank\" href=https://colab.research.google.com/notebooks/data_table.ipynb>data table notebook</a>'\n",
              "          + ' to learn more about interactive tables.';\n",
              "        element.innerHTML = '';\n",
              "        dataTable['output_type'] = 'display_data';\n",
              "        await google.colab.output.renderOutput(dataTable, element);\n",
              "        const docLink = document.createElement('div');\n",
              "        docLink.innerHTML = docLinkHtml;\n",
              "        element.appendChild(docLink);\n",
              "      }\n",
              "    </script>\n",
              "  </div>\n",
              "\n",
              "\n",
              "    <div id=\"df-a7a48b5e-8c80-486c-948b-f3e06e93cfae\">\n",
              "      <button class=\"colab-df-quickchart\" onclick=\"quickchart('df-a7a48b5e-8c80-486c-948b-f3e06e93cfae')\"\n",
              "                title=\"Suggest charts\"\n",
              "                style=\"display:none;\">\n",
              "\n",
              "<svg xmlns=\"http://www.w3.org/2000/svg\" height=\"24px\"viewBox=\"0 0 24 24\"\n",
              "     width=\"24px\">\n",
              "    <g>\n",
              "        <path d=\"M19 3H5c-1.1 0-2 .9-2 2v14c0 1.1.9 2 2 2h14c1.1 0 2-.9 2-2V5c0-1.1-.9-2-2-2zM9 17H7v-7h2v7zm4 0h-2V7h2v10zm4 0h-2v-4h2v4z\"/>\n",
              "    </g>\n",
              "</svg>\n",
              "      </button>\n",
              "\n",
              "<style>\n",
              "  .colab-df-quickchart {\n",
              "      --bg-color: #E8F0FE;\n",
              "      --fill-color: #1967D2;\n",
              "      --hover-bg-color: #E2EBFA;\n",
              "      --hover-fill-color: #174EA6;\n",
              "      --disabled-fill-color: #AAA;\n",
              "      --disabled-bg-color: #DDD;\n",
              "  }\n",
              "\n",
              "  [theme=dark] .colab-df-quickchart {\n",
              "      --bg-color: #3B4455;\n",
              "      --fill-color: #D2E3FC;\n",
              "      --hover-bg-color: #434B5C;\n",
              "      --hover-fill-color: #FFFFFF;\n",
              "      --disabled-bg-color: #3B4455;\n",
              "      --disabled-fill-color: #666;\n",
              "  }\n",
              "\n",
              "  .colab-df-quickchart {\n",
              "    background-color: var(--bg-color);\n",
              "    border: none;\n",
              "    border-radius: 50%;\n",
              "    cursor: pointer;\n",
              "    display: none;\n",
              "    fill: var(--fill-color);\n",
              "    height: 32px;\n",
              "    padding: 0;\n",
              "    width: 32px;\n",
              "  }\n",
              "\n",
              "  .colab-df-quickchart:hover {\n",
              "    background-color: var(--hover-bg-color);\n",
              "    box-shadow: 0 1px 2px rgba(60, 64, 67, 0.3), 0 1px 3px 1px rgba(60, 64, 67, 0.15);\n",
              "    fill: var(--button-hover-fill-color);\n",
              "  }\n",
              "\n",
              "  .colab-df-quickchart-complete:disabled,\n",
              "  .colab-df-quickchart-complete:disabled:hover {\n",
              "    background-color: var(--disabled-bg-color);\n",
              "    fill: var(--disabled-fill-color);\n",
              "    box-shadow: none;\n",
              "  }\n",
              "\n",
              "  .colab-df-spinner {\n",
              "    border: 2px solid var(--fill-color);\n",
              "    border-color: transparent;\n",
              "    border-bottom-color: var(--fill-color);\n",
              "    animation:\n",
              "      spin 1s steps(1) infinite;\n",
              "  }\n",
              "\n",
              "  @keyframes spin {\n",
              "    0% {\n",
              "      border-color: transparent;\n",
              "      border-bottom-color: var(--fill-color);\n",
              "      border-left-color: var(--fill-color);\n",
              "    }\n",
              "    20% {\n",
              "      border-color: transparent;\n",
              "      border-left-color: var(--fill-color);\n",
              "      border-top-color: var(--fill-color);\n",
              "    }\n",
              "    30% {\n",
              "      border-color: transparent;\n",
              "      border-left-color: var(--fill-color);\n",
              "      border-top-color: var(--fill-color);\n",
              "      border-right-color: var(--fill-color);\n",
              "    }\n",
              "    40% {\n",
              "      border-color: transparent;\n",
              "      border-right-color: var(--fill-color);\n",
              "      border-top-color: var(--fill-color);\n",
              "    }\n",
              "    60% {\n",
              "      border-color: transparent;\n",
              "      border-right-color: var(--fill-color);\n",
              "    }\n",
              "    80% {\n",
              "      border-color: transparent;\n",
              "      border-right-color: var(--fill-color);\n",
              "      border-bottom-color: var(--fill-color);\n",
              "    }\n",
              "    90% {\n",
              "      border-color: transparent;\n",
              "      border-bottom-color: var(--fill-color);\n",
              "    }\n",
              "  }\n",
              "</style>\n",
              "\n",
              "      <script>\n",
              "        async function quickchart(key) {\n",
              "          const quickchartButtonEl =\n",
              "            document.querySelector('#' + key + ' button');\n",
              "          quickchartButtonEl.disabled = true;  // To prevent multiple clicks.\n",
              "          quickchartButtonEl.classList.add('colab-df-spinner');\n",
              "          try {\n",
              "            const charts = await google.colab.kernel.invokeFunction(\n",
              "                'suggestCharts', [key], {});\n",
              "          } catch (error) {\n",
              "            console.error('Error during call to suggestCharts:', error);\n",
              "          }\n",
              "          quickchartButtonEl.classList.remove('colab-df-spinner');\n",
              "          quickchartButtonEl.classList.add('colab-df-quickchart-complete');\n",
              "        }\n",
              "        (() => {\n",
              "          let quickchartButtonEl =\n",
              "            document.querySelector('#df-a7a48b5e-8c80-486c-948b-f3e06e93cfae button');\n",
              "          quickchartButtonEl.style.display =\n",
              "            google.colab.kernel.accessAllowed ? 'block' : 'none';\n",
              "        })();\n",
              "      </script>\n",
              "    </div>\n",
              "\n",
              "    </div>\n",
              "  </div>\n"
            ],
            "application/vnd.google.colaboratory.intrinsic+json": {
              "type": "dataframe",
              "variable_name": "df",
              "summary": "{\n  \"name\": \"df\",\n  \"rows\": 19000,\n  \"fields\": [\n    {\n      \"column\": \"date\",\n      \"properties\": {\n        \"dtype\": \"date\",\n        \"min\": \"2013-01-01 00:00:00\",\n        \"max\": \"2017-12-31 00:00:00\",\n        \"num_unique_values\": 1826,\n        \"samples\": [\n          \"2015-09-26 00:00:00\",\n          \"2017-02-27 00:00:00\",\n          \"2013-10-26 00:00:00\"\n        ],\n        \"semantic_type\": \"\",\n        \"description\": \"\"\n      }\n    },\n    {\n      \"column\": \"store\",\n      \"properties\": {\n        \"dtype\": \"category\",\n        \"num_unique_values\": 10,\n        \"samples\": [\n          \"9\",\n          \"4\",\n          \"2\"\n        ],\n        \"semantic_type\": \"\",\n        \"description\": \"\"\n      }\n    },\n    {\n      \"column\": \"item\",\n      \"properties\": {\n        \"dtype\": \"category\",\n        \"num_unique_values\": 50,\n        \"samples\": [\n          \"40\",\n          \"43\",\n          \"20\"\n        ],\n        \"semantic_type\": \"\",\n        \"description\": \"\"\n      }\n    },\n    {\n      \"column\": \"sales\",\n      \"properties\": {\n        \"dtype\": \"number\",\n        \"std\": 28,\n        \"min\": 1,\n        \"max\": 205,\n        \"num_unique_values\": 173,\n        \"samples\": [\n          196,\n          63,\n          94\n        ],\n        \"semantic_type\": \"\",\n        \"description\": \"\"\n      }\n    }\n  ]\n}"
            }
          },
          "metadata": {},
          "execution_count": 5
        }
      ]
    },
    {
      "cell_type": "code",
      "source": [
        "train = df[df[\"date\"] < \"2017-01-01\"]\n",
        "test = df[df[\"date\"] >= \"2017-01-01\"]"
      ],
      "metadata": {
        "id": "RfraP4G0o9Cg"
      },
      "execution_count": 6,
      "outputs": []
    },
    {
      "cell_type": "code",
      "source": [
        "train_features = train.drop(columns=[\"sales\"])\n",
        "train_target = train[\"sales\"]\n",
        "test_features = test.drop(columns=[\"sales\"])\n",
        "test_target = test[\"sales\"]\n"
      ],
      "metadata": {
        "id": "nwt5NK-bp69c"
      },
      "execution_count": 7,
      "outputs": []
    },
    {
      "cell_type": "code",
      "source": [
        "from upgini import FeaturesEnricher, SearchKey\n",
        "from upgini.metadata import CVType\n",
        "\n",
        "enricher = FeaturesEnricher(\n",
        "    search_keys={\n",
        "        \"date\": SearchKey.DATE,\n",
        "    },\n",
        "    cv = CVType.time_series\n",
        ")\n",
        "enricher.fit(train_features,\n",
        "             train_target,\n",
        "             eval_set=[(test_features, test_target)]\n",
        "             )"
      ],
      "metadata": {
        "colab": {
          "base_uri": "https://localhost:8080/",
          "height": 1000
        },
        "id": "foJr0ZXsqvSR",
        "outputId": "9db02817-854b-42f9-ce45-4645aacf00cb"
      },
      "execution_count": 8,
      "outputs": [
        {
          "output_type": "display_data",
          "data": {
            "text/plain": [
              "[============================================================] 100% Finished"
            ],
            "text/html": [
              "<progress style='width:60ex' max='100' value='100'></progress>  100% Finished</br>"
            ]
          },
          "metadata": {}
        },
        {
          "output_type": "display_data",
          "data": {
            "text/plain": [
              "<IPython.core.display.Javascript object>"
            ],
            "application/javascript": [
              "\n",
              "                    async function getVisitorId() {\n",
              "                        return import('https://upgini.github.io/upgini/js/a.js')\n",
              "                            .then(FingerprintJS => FingerprintJS.load())\n",
              "                            .then(fp => fp.get())\n",
              "                            .then(result => result.visitorId);\n",
              "                    }\n",
              "                    "
            ]
          },
          "metadata": {}
        },
        {
          "output_type": "stream",
          "name": "stdout",
          "text": [
            "WARNING #1: Search started with DATE search key only\n",
            "Try to add other keys like the COUNTRY, POSTAL_CODE, PHONE NUMBER, EMAIL/HEM, IP to your training dataset\n",
            "for search through all the available data sources.\n",
            "See docs https://github.com/upgini/upgini#-total-239-countries-and-up-to-41-years-of-history\n",
            "\n",
            "\n",
            "Detected task type: ModelTaskType.REGRESSION. Reason: date search key is present, treating as regression\n",
            "You can set task type manually with argument `model_task_type` of FeaturesEnricher constructor if task type detected incorrectly\n",
            "\n",
            "WARNING #2: Your training sample is unstable in number of rows per date. It is recommended to redesign the training sample\n",
            "\n"
          ]
        },
        {
          "output_type": "display_data",
          "data": {
            "text/plain": [
              "<IPython.core.display.Javascript object>"
            ],
            "application/javascript": [
              "\n",
              "                        async function getIP() {\n",
              "                            return fetch(\"https://api64.ipify.org\")\n",
              "                                .then(response => response.text())\n",
              "                                .then(data => data);\n",
              "                        }\n",
              "                        "
            ]
          },
          "metadata": {}
        },
        {
          "output_type": "display_data",
          "data": {
            "text/plain": [
              "<IPython.core.display.HTML object>"
            ],
            "text/html": [
              "<table><tr><th style='font-weight:bold'>Column name</th><th style='font-weight:bold'>Status</th><th style='font-weight:bold'>Errors</th></tr><tr><td>target</td><td style='background-color:#DAF7A6;color:black'>All valid</td><td>-</td></tr><tr><td>date</td><td style='background-color:#DAF7A6;color:black'>All valid</td><td>-</td></tr></table>"
            ]
          },
          "metadata": {}
        },
        {
          "output_type": "stream",
          "name": "stdout",
          "text": [
            "\n",
            "\n",
            "Running search request, search_id=3e3ac7a2-0364-4a74-be44-ffc8b6d8d8be\n",
            "We'll send email notification once it's completed, just use your personal api_key from profile.upgini.com\n",
            "\n"
          ]
        },
        {
          "output_type": "display_data",
          "data": {
            "text/plain": [
              "<IPython.core.display.HTML object>"
            ],
            "text/html": [
              "<style>\n",
              "            .upgini-df thead th {\n",
              "                font-weight:bold;\n",
              "                text-align: center;\n",
              "                padding: 0.5em;\n",
              "                border-bottom: 2px solid black;\n",
              "            }\n",
              "\n",
              "            .upgini-df tbody td {\n",
              "                padding: 0.5em;\n",
              "                color: black;\n",
              "            }\n",
              "\n",
              "            .upgini-df tbody tr:nth-child(odd) {\n",
              "                background-color: #ffffff;\n",
              "            }\n",
              "\n",
              "            .upgini-df tbody tr:nth-child(even) {\n",
              "                background-color: #f2f2f2;\n",
              "            }\n",
              "\n",
              "            .upgini-text {\n",
              "                text-align: left;\n",
              "            }\n",
              "\n",
              "            .upgini-number {\n",
              "                text-align: center;\n",
              "            }\n",
              "        </style>\n",
              "        <h2>Relevant features (19)</h2>\n",
              "        <div style=\"display:flex; flex-direction:column; align-items:flex-end; width: fit-content;\">\n",
              "            \n",
              "            <div style=\"text-align: right\">\n",
              "                <button onclick=navigator.clipboard.writeText(decodeURI('Feature%20name%09SHAP%20value%09PSI%20value%09Coverage%20%25%09Value%20preview%09Provider%09Source%09Updates%0Af_autofe_groupbythenmean_d5f4f809f4%098.4902%09%09100.0%090.0981,%200.0687,%200.0905%09Upgini,%20Training%20dataset%09AutoFE%3A%20feature%20from%20%3Ca%20href%3D%27https%3A%2F%2Fupgini.com%2F%23data_sources%27%20target%3D%27_blank%27%20rel%3D%27noopener%20noreferrer%27%3EMarkets%20data%3C%2Fa%3E,%20grouped%20by%20feature%20from%20training%20dataset%09Daily%0Af_economic_date_cbpol_umap_6_aa0352de%097.3931%09%09100.0%091.0587,%206.9596,%201.0408%09Upgini%09World%20economic%20indicators%09Daily%0Af_autofe_groupbythenmedian_64b28257d7%096.5439%09%09100.0%091.0005,%201.0012,%201.0004%09Upgini,%20Training%20dataset%09AutoFE%3A%20feature%20from%20%3Ca%20href%3D%27https%3A%2F%2Fupgini.com%2F%23data_sources%27%20target%3D%27_blank%27%20rel%3D%27noopener%20noreferrer%27%3EMarkets%20data%3C%2Fa%3E,%20grouped%20by%20feature%20from%20training%20dataset%09Daily%0Af_autofe_groupbythenstd_9a84d2fd29%095.5322%09%09100.0%090.7213,%200.7161,%200.6952%09Upgini,%20Training%20dataset%09AutoFE%3A%20feature%20from%20%3Ca%20href%3D%27https%3A%2F%2Fupgini.com%2F%23data_sources%27%20target%3D%27_blank%27%20rel%3D%27noopener%20noreferrer%27%3ECalendar%20data%3C%2Fa%3E,%20grouped%20by%20feature%20from%20training%20dataset%09Daily%0Af_autofe_groupbythenrank_d595da62f7%093.6036%09%09100.0%090.3398,%200.5069,%200.2105%09Upgini,%20Training%20dataset%09AutoFE%3A%20feature%20from%20%3Ca%20href%3D%27https%3A%2F%2Fupgini.com%2F%23data_sources%27%20target%3D%27_blank%27%20rel%3D%27noopener%20noreferrer%27%3ECalendar%20data%3C%2Fa%3E,%20grouped%20by%20feature%20from%20training%20dataset%09Daily%0Af_events_date_year_cos1_9014a856%092.3165%09%09100.0%090.3253,%20-0.263,%20-0.3496%09Upgini%09Calendar%20data%09Daily%0Af_financial_date_crude_oil_7d_to_1y_c3e0ad17%092.2541%09%09100.0%091.0001,%201.0769,%201.0154%09Upgini%09Markets%20data%09Daily%0Af_autofe_roll_3d_median_8e12f1e1e9%091.4845%09%09100.0%090.309,%20-0.263,%20-0.3496%09Training%20dataset,%20Upgini%09AutoFE%3A%20features%20from%20Training%20dataset,%3Ca%20href%3D%27https%3A%2F%2Fupgini.com%2F%23data_sources%27%20target%3D%27_blank%27%20rel%3D%27noopener%20noreferrer%27%3ECalendar%20data%3C%2Fa%3E%09Daily%0Af_autofe_roll_3d_min_1a2ad6d8bb%091.4531%09%09100.0%090.3253,%20-0.2795,%20-0.3817%09Training%20dataset,%20Upgini%09AutoFE%3A%20features%20from%20Training%20dataset,%3Ca%20href%3D%27https%3A%2F%2Fupgini.com%2F%23data_sources%27%20target%3D%27_blank%27%20rel%3D%27noopener%20noreferrer%27%3ECalendar%20data%3C%2Fa%3E%09Daily%0Aitem%091.0343%09%09100.0%0940,%2030,%2018%09%09%09%0Af_autofe_groupbythenrank_110e5b8df1%090.8715%09%09100.0%090.0758,%200.2147,%200.7818%09Upgini,%20Training%20dataset%09AutoFE%3A%20feature%20from%20%3Ca%20href%3D%27https%3A%2F%2Fupgini.com%2F%23data_sources%27%20target%3D%27_blank%27%20rel%3D%27noopener%20noreferrer%27%3ECalendar%20data%3C%2Fa%3E,%20grouped%20by%20feature%20from%20training%20dataset%09Daily%0Af_autofe_lag_28d_aaadd46bbb%090.824%09%0997.10896960711638%09140.0,%2016.0,%2024.0%09Training%20dataset%09AutoFE%3A%20features%20from%20Training%20dataset%09%0Af_events_date_week_sin1_847b5db1%090.5242%09%09100.0%090.0,%20-0.4339,%20-0.9749%09Upgini%09Calendar%20data%09Daily%0Af_events_date_year_sin2_59955ffd%090.4464%09%09100.0%09-0.6153,%200.3847,%20-0.1628%09Upgini%09Calendar%20data%09Daily%0Af_autofe_lag_7d_4a1d9c9dff%090.4427%09%0999.19517102615694%09140.0,%2016.0,%2024.0%09Training%20dataset%09AutoFE%3A%20features%20from%20Training%20dataset%09%0Astore%090.361%09%09100.0%095,%2010,%207%09%09%09%0Af_autofe_roll_3d_median_97804b26e6%090.3111%09%09100.0%09116.0,%2049.0,%2081.0%09Training%20dataset%09AutoFE%3A%20features%20from%20Training%20dataset%09%0Af_autofe_groupbythenrank_3729e8053b%090.0666%09%09100.0%090.3852,%200.3887,%200.3674%09Upgini,%20Training%20dataset%09AutoFE%3A%20feature%20from%20%3Ca%20href%3D%27https%3A%2F%2Fupgini.com%2F%23data_sources%27%20target%3D%27_blank%27%20rel%3D%27noopener%20noreferrer%27%3ECalendar%20data%3C%2Fa%3E,%20grouped%20by%20feature%20from%20training%20dataset%09Daily%0Af_events_date_week_cos3_7525fe31%090.0392%09%09100.0%091.0,%20-0.2225,%200.6235%09Upgini%09Calendar%20data%09Daily%0A'))>📂 Copy</button>\n",
              "                <a href='mailto:<Share with...>?subject=Relevant external data sources from Upgini.com&body=Feature%20name%09SHAP%20value%09PSI%20value%09Coverage%20%25%09Value%20preview%09Provider%09Source%09Updates%0Af_autofe_groupbythenmean_d5f4f809f4%098.4902%09%09100.0%090.0981,%200.0687,%200.0905%09Upgini,%20Training%20dataset%09AutoFE%3A%20feature%20from%20%3Ca%20href%3D%27https%3A%2F%2Fupgini.com%2F%23data_sources%27%20target%3D%27_blank%27%20rel%3D%27noopener%20noreferrer%27%3EMarkets%20data%3C%2Fa%3E,%20grouped%20by%20feature%20from%20training%20dataset%09Daily%0Af_economic_date_cbpol_umap_6_aa0352de%097.3931%09%09100.0%091.0587,%206.9596,%201.0408%09Upgini%09World%20economic%20indicators%09Daily%0Af_autofe_groupbythenmedian_64b28257d7%096.5439%09%09100.0%091.0005,%201.0012,%201.0004%09Upgini,%20Training%20dataset%09AutoFE%3A%20feature%20from%20%3Ca%20href%3D%27https%3A%2F%2Fupgini.com%2F%23data_sources%27%20target%3D%27_blank%27%20rel%3D%27noopener%20noreferrer%27%3EMarkets%20data%3C%2Fa%3E,%20grouped%20by%20feature%20from%20training%20dataset%09Daily%0Af_autofe_groupbythenstd_9a84d2fd29%095.5322%09%09100.0%090.7213,%200.7161,%200.6952%09Upgini,%20Training%20dataset%09AutoFE%3A%20feature%20from%20%3Ca%20href%3D%27https%3A%2F%2Fupgini.com%2F%23data_sources%27%20target%3D%27_blank%27%20rel%3D%27noopener%20noreferrer%27%3ECalendar%20data%3C%2Fa%3E,%20grouped%20by%20feature%20from%20training%20dataset%09Daily%0Af_autofe_groupbythenrank_d595da62f7%093.6036%09%09100.0%090.3398,%200.5069,%200.2105%09Upgini,%20Training%20dataset%09AutoFE%3A%20feature%20from%20%3Ca%20href%3D%27https%3A%2F%2Fupgini.com%2F%23data_sources%27%20target%3D%27_blank%27%20rel%3D%27noopener%20noreferrer%27%3ECalendar%20data%3C%2Fa%3E,%20grouped%20by%20feature%20from%20training%20dataset%09Daily%0Af_events_date_year_cos1_9014a856%092.3165%09%09100.0%090.3253,%20-0.263,%20-0.3496%09Upgini%09Calendar%20data%09Daily%0Af_financial_date_crude_oil_7d_to_1y_c3e0ad17%092.2541%09%09100.0%091.0001,%201.0769,%201.0154%09Upgini%09Markets%20data%09Daily%0Af_autofe_roll_3d_median_8e12f1e1e9%091.4845%09%09100.0%090.309,%20-0.263,%20-0.3496%09Training%20dataset,%20Upgini%09AutoFE%3A%20features%20from%20Training%20dataset,%3Ca%20href%3D%27https%3A%2F%2Fupgini.com%2F%23data_sources%27%20target%3D%27_blank%27%20rel%3D%27noopener%20noreferrer%27%3ECalendar%20data%3C%2Fa%3E%09Daily%0Af_autofe_roll_3d_min_1a2ad6d8bb%091.4531%09%09100.0%090.3253,%20-0.2795,%20-0.3817%09Training%20dataset,%20Upgini%09AutoFE%3A%20features%20from%20Training%20dataset,%3Ca%20href%3D%27https%3A%2F%2Fupgini.com%2F%23data_sources%27%20target%3D%27_blank%27%20rel%3D%27noopener%20noreferrer%27%3ECalendar%20data%3C%2Fa%3E%09Daily%0Aitem%091.0343%09%09100.0%0940,%2030,%2018%09%09%09%0Af_autofe_groupbythenrank_110e5b8df1%090.8715%09%09100.0%090.0758,%200.2147,%200.7818%09Upgini,%20Training%20dataset%09AutoFE%3A%20feature%20from%20%3Ca%20href%3D%27https%3A%2F%2Fupgini.com%2F%23data_sources%27%20target%3D%27_blank%27%20rel%3D%27noopener%20noreferrer%27%3ECalendar%20data%3C%2Fa%3E,%20grouped%20by%20feature%20from%20training%20dataset%09Daily%0Af_autofe_lag_28d_aaadd46bbb%090.824%09%0997.10896960711638%09140.0,%2016.0,%2024.0%09Training%20dataset%09AutoFE%3A%20features%20from%20Training%20dataset%09%0Af_events_date_week_sin1_847b5db1%090.5242%09%09100.0%090.0,%20-0.4339,%20-0.9749%09Upgini%09Calendar%20data%09Daily%0Af_events_date_year_sin2_59955ffd%090.4464%09%09100.0%09-0.6153,%200.3847,%20-0.1628%09Upgini%09Calendar%20data%09Daily%0Af_autofe_lag_7d_4a1d9c9dff%090.4427%09%0999.19517102615694%09140.0,%2016.0,%2024.0%09Training%20dataset%09AutoFE%3A%20features%20from%20Training%20dataset%09%0Astore%090.361%09%09100.0%095,%2010,%207%09%09%09%0Af_autofe_roll_3d_median_97804b26e6%090.3111%09%09100.0%09116.0,%2049.0,%2081.0%09Training%20dataset%09AutoFE%3A%20features%20from%20Training%20dataset%09%0Af_autofe_groupbythenrank_3729e8053b%090.0666%09%09100.0%090.3852,%200.3887,%200.3674%09Upgini,%20Training%20dataset%09AutoFE%3A%20feature%20from%20%3Ca%20href%3D%27https%3A%2F%2Fupgini.com%2F%23data_sources%27%20target%3D%27_blank%27%20rel%3D%27noopener%20noreferrer%27%3ECalendar%20data%3C%2Fa%3E,%20grouped%20by%20feature%20from%20training%20dataset%09Daily%0Af_events_date_week_cos3_7525fe31%090.0392%09%09100.0%091.0,%20-0.2225,%200.6235%09Upgini%09Calendar%20data%09Daily%0A'>\n",
              "                    <button>📨 Share</button>\n",
              "                </a>\n",
              "            </div>\n",
              "            <table class='upgini-df'><thead><th>Feature name</th><th>SHAP value</th><th>Coverage %</th><th>Value preview</th><th>Provider</th><th>Source</th><th>Updates</th></thead><tbody><tr><td class='upgini-text'>f_autofe_groupbythenmean_d5f4f809f4</td><td class='upgini-number'>8.4902</td><td class='upgini-number'>100.0000</td><td class='upgini-text'>0.0981, 0.0687, 0.0905</td><td class='upgini-text'><a href='https://upgini.com/' target='_blank' rel='noopener noreferrer'>Upgini</a>,Training dataset</td><td class='upgini-text'>AutoFE: feature from <a href='https://upgini.com/#data_sources' target='_blank' rel='noopener noreferrer'>Markets data</a>, grouped by feature from training dataset</td><td class='upgini-text'>Daily</td></tr><tr><td class='upgini-text'><a href='https://docs.upgini.com/public/economics/cbpol_umap#f_economic_date_cbpol_umap_6_aa0352de' target='_blank' rel='noopener noreferrer'>f_economic_date_cbpol_umap_6_aa0352de</a></td><td class='upgini-number'>7.3931</td><td class='upgini-number'>100.0000</td><td class='upgini-text'>1.0587, 6.9596, 1.0408</td><td class='upgini-text'><a href='https://upgini.com/' target='_blank' rel='noopener noreferrer'>Upgini</a></td><td class='upgini-text'><a href='https://upgini.com/#data_sources' target='_blank' rel='noopener noreferrer'>World economic indicators</a></td><td class='upgini-text'>Daily</td></tr><tr><td class='upgini-text'>f_autofe_groupbythenmedian_64b28257d7</td><td class='upgini-number'>6.5439</td><td class='upgini-number'>100.0000</td><td class='upgini-text'>1.0005, 1.0012, 1.0004</td><td class='upgini-text'><a href='https://upgini.com/' target='_blank' rel='noopener noreferrer'>Upgini</a>,Training dataset</td><td class='upgini-text'>AutoFE: feature from <a href='https://upgini.com/#data_sources' target='_blank' rel='noopener noreferrer'>Markets data</a>, grouped by feature from training dataset</td><td class='upgini-text'>Daily</td></tr><tr><td class='upgini-text'>f_autofe_groupbythenstd_9a84d2fd29</td><td class='upgini-number'>5.5322</td><td class='upgini-number'>100.0000</td><td class='upgini-text'>0.7213, 0.7161, 0.6952</td><td class='upgini-text'><a href='https://upgini.com/' target='_blank' rel='noopener noreferrer'>Upgini</a>,Training dataset</td><td class='upgini-text'>AutoFE: feature from <a href='https://upgini.com/#data_sources' target='_blank' rel='noopener noreferrer'>Calendar data</a>, grouped by feature from training dataset</td><td class='upgini-text'>Daily</td></tr><tr><td class='upgini-text'>f_autofe_groupbythenrank_d595da62f7</td><td class='upgini-number'>3.6036</td><td class='upgini-number'>100.0000</td><td class='upgini-text'>0.3398, 0.5069, 0.2105</td><td class='upgini-text'><a href='https://upgini.com/' target='_blank' rel='noopener noreferrer'>Upgini</a>,Training dataset</td><td class='upgini-text'>AutoFE: feature from <a href='https://upgini.com/#data_sources' target='_blank' rel='noopener noreferrer'>Calendar data</a>, grouped by feature from training dataset</td><td class='upgini-text'>Daily</td></tr><tr><td class='upgini-text'><a href='https://docs.upgini.com/public/calendar/calendar#f_events_date_year_cos1_9014a856' target='_blank' rel='noopener noreferrer'>f_events_date_year_cos1_9014a856</a></td><td class='upgini-number'>2.3165</td><td class='upgini-number'>100.0000</td><td class='upgini-text'>0.3253, -0.263, -0.3496</td><td class='upgini-text'><a href='https://upgini.com/' target='_blank' rel='noopener noreferrer'>Upgini</a></td><td class='upgini-text'><a href='https://upgini.com/#data_sources' target='_blank' rel='noopener noreferrer'>Calendar data</a></td><td class='upgini-text'>Daily</td></tr><tr><td class='upgini-text'><a href='https://docs.upgini.com/public/markets/finance#f_financial_date_crude_oil_7d_to_1y_c3e0ad17' target='_blank' rel='noopener noreferrer'>f_financial_date_crude_oil_7d_to_1y_c3e0ad17</a></td><td class='upgini-number'>2.2541</td><td class='upgini-number'>100.0000</td><td class='upgini-text'>1.0001, 1.0769, 1.0154</td><td class='upgini-text'><a href='https://upgini.com/' target='_blank' rel='noopener noreferrer'>Upgini</a></td><td class='upgini-text'><a href='https://upgini.com/#data_sources' target='_blank' rel='noopener noreferrer'>Markets data</a></td><td class='upgini-text'>Daily</td></tr><tr><td class='upgini-text'>f_autofe_roll_3d_median_8e12f1e1e9</td><td class='upgini-number'>1.4845</td><td class='upgini-number'>100.0000</td><td class='upgini-text'>0.309, -0.263, -0.3496</td><td class='upgini-text'>Training dataset,<a href='https://upgini.com/' target='_blank' rel='noopener noreferrer'>Upgini</a></td><td class='upgini-text'>AutoFE: features from Training dataset,<a href='https://upgini.com/#data_sources' target='_blank' rel='noopener noreferrer'>Calendar data</a></td><td class='upgini-text'>Daily</td></tr><tr><td class='upgini-text'>f_autofe_roll_3d_min_1a2ad6d8bb</td><td class='upgini-number'>1.4531</td><td class='upgini-number'>100.0000</td><td class='upgini-text'>0.3253, -0.2795, -0.3817</td><td class='upgini-text'>Training dataset,<a href='https://upgini.com/' target='_blank' rel='noopener noreferrer'>Upgini</a></td><td class='upgini-text'>AutoFE: features from Training dataset,<a href='https://upgini.com/#data_sources' target='_blank' rel='noopener noreferrer'>Calendar data</a></td><td class='upgini-text'>Daily</td></tr><tr><td class='upgini-text'>item</td><td class='upgini-number'>1.0343</td><td class='upgini-number'>100.0000</td><td class='upgini-text'>40, 30, 18</td><td class='upgini-text'>&nbsp;</td><td class='upgini-text'>&nbsp;</td><td class='upgini-text'>&nbsp;</td></tr><tr><td class='upgini-text'>f_autofe_groupbythenrank_110e5b8df1</td><td class='upgini-number'>0.8715</td><td class='upgini-number'>100.0000</td><td class='upgini-text'>0.0758, 0.2147, 0.7818</td><td class='upgini-text'><a href='https://upgini.com/' target='_blank' rel='noopener noreferrer'>Upgini</a>,Training dataset</td><td class='upgini-text'>AutoFE: feature from <a href='https://upgini.com/#data_sources' target='_blank' rel='noopener noreferrer'>Calendar data</a>, grouped by feature from training dataset</td><td class='upgini-text'>Daily</td></tr><tr><td class='upgini-text'>f_autofe_lag_28d_aaadd46bbb</td><td class='upgini-number'>0.8240</td><td class='upgini-number'>97.1090</td><td class='upgini-text'>140.0, 16.0, 24.0</td><td class='upgini-text'>Training dataset</td><td class='upgini-text'>AutoFE: features from Training dataset</td><td class='upgini-text'>&nbsp;</td></tr><tr><td class='upgini-text'><a href='https://docs.upgini.com/public/calendar/calendar#f_events_date_week_sin1_847b5db1' target='_blank' rel='noopener noreferrer'>f_events_date_week_sin1_847b5db1</a></td><td class='upgini-number'>0.5242</td><td class='upgini-number'>100.0000</td><td class='upgini-text'>0.0, -0.4339, -0.9749</td><td class='upgini-text'><a href='https://upgini.com/' target='_blank' rel='noopener noreferrer'>Upgini</a></td><td class='upgini-text'><a href='https://upgini.com/#data_sources' target='_blank' rel='noopener noreferrer'>Calendar data</a></td><td class='upgini-text'>Daily</td></tr><tr><td class='upgini-text'><a href='https://docs.upgini.com/public/calendar/calendar#f_events_date_year_sin2_59955ffd' target='_blank' rel='noopener noreferrer'>f_events_date_year_sin2_59955ffd</a></td><td class='upgini-number'>0.4464</td><td class='upgini-number'>100.0000</td><td class='upgini-text'>-0.6153, 0.3847, -0.1628</td><td class='upgini-text'><a href='https://upgini.com/' target='_blank' rel='noopener noreferrer'>Upgini</a></td><td class='upgini-text'><a href='https://upgini.com/#data_sources' target='_blank' rel='noopener noreferrer'>Calendar data</a></td><td class='upgini-text'>Daily</td></tr><tr><td class='upgini-text'>f_autofe_lag_7d_4a1d9c9dff</td><td class='upgini-number'>0.4427</td><td class='upgini-number'>99.1952</td><td class='upgini-text'>140.0, 16.0, 24.0</td><td class='upgini-text'>Training dataset</td><td class='upgini-text'>AutoFE: features from Training dataset</td><td class='upgini-text'>&nbsp;</td></tr><tr><td class='upgini-text'>store</td><td class='upgini-number'>0.3610</td><td class='upgini-number'>100.0000</td><td class='upgini-text'>5, 10, 7</td><td class='upgini-text'>&nbsp;</td><td class='upgini-text'>&nbsp;</td><td class='upgini-text'>&nbsp;</td></tr><tr><td class='upgini-text'>f_autofe_roll_3d_median_97804b26e6</td><td class='upgini-number'>0.3111</td><td class='upgini-number'>100.0000</td><td class='upgini-text'>116.0, 49.0, 81.0</td><td class='upgini-text'>Training dataset</td><td class='upgini-text'>AutoFE: features from Training dataset</td><td class='upgini-text'>&nbsp;</td></tr><tr><td class='upgini-text'>f_autofe_groupbythenrank_3729e8053b</td><td class='upgini-number'>0.0666</td><td class='upgini-number'>100.0000</td><td class='upgini-text'>0.3852, 0.3887, 0.3674</td><td class='upgini-text'><a href='https://upgini.com/' target='_blank' rel='noopener noreferrer'>Upgini</a>,Training dataset</td><td class='upgini-text'>AutoFE: feature from <a href='https://upgini.com/#data_sources' target='_blank' rel='noopener noreferrer'>Calendar data</a>, grouped by feature from training dataset</td><td class='upgini-text'>Daily</td></tr><tr><td class='upgini-text'><a href='https://docs.upgini.com/public/calendar/calendar#f_events_date_week_cos3_7525fe31' target='_blank' rel='noopener noreferrer'>f_events_date_week_cos3_7525fe31</a></td><td class='upgini-number'>0.0392</td><td class='upgini-number'>100.0000</td><td class='upgini-text'>1.0, -0.2225, 0.6235</td><td class='upgini-text'><a href='https://upgini.com/' target='_blank' rel='noopener noreferrer'>Upgini</a></td><td class='upgini-text'><a href='https://upgini.com/#data_sources' target='_blank' rel='noopener noreferrer'>Calendar data</a></td><td class='upgini-text'>Daily</td></tr></tbody></table>\n",
              "        </div>\n",
              "        "
            ]
          },
          "metadata": {}
        },
        {
          "output_type": "display_data",
          "data": {
            "text/plain": [
              "<IPython.core.display.HTML object>"
            ],
            "text/html": [
              "<style>\n",
              "            .upgini-df thead th {\n",
              "                font-weight:bold;\n",
              "                text-align: center;\n",
              "                padding: 0.5em;\n",
              "                border-bottom: 2px solid black;\n",
              "            }\n",
              "\n",
              "            .upgini-df tbody td {\n",
              "                padding: 0.5em;\n",
              "                color: black;\n",
              "            }\n",
              "\n",
              "            .upgini-df tbody tr:nth-child(odd) {\n",
              "                background-color: #ffffff;\n",
              "            }\n",
              "\n",
              "            .upgini-df tbody tr:nth-child(even) {\n",
              "                background-color: #f2f2f2;\n",
              "            }\n",
              "\n",
              "            .upgini-text {\n",
              "                text-align: left;\n",
              "            }\n",
              "\n",
              "            .upgini-number {\n",
              "                text-align: center;\n",
              "            }\n",
              "        </style>\n",
              "        <h2>Relevant data sources</h2>\n",
              "        <div style=\"display:flex; flex-direction:column; align-items:flex-end; width: fit-content;\">\n",
              "            \n",
              "            <div style=\"text-align: right\">\n",
              "                <button onclick=navigator.clipboard.writeText(decodeURI('Provider%09Source%09All%20features%20SHAP%09Number%20of%20relevant%20features%0AUpgini,%20Training%20dataset%09AutoFE%3A%20feature%20from%20%3Ca%20href%3D%27https%3A%2F%2Fupgini.com%2F%23data_sources%27%20target%3D%27_blank%27%20rel%3D%27noopener%20noreferrer%27%3EMarkets%20data%3C%2Fa%3E,%20grouped%20by%20feature%20from%20training%20dataset%0915.034099999999999%092%0AUpgini,%20Training%20dataset%09AutoFE%3A%20feature%20from%20%3Ca%20href%3D%27https%3A%2F%2Fupgini.com%2F%23data_sources%27%20target%3D%27_blank%27%20rel%3D%27noopener%20noreferrer%27%3ECalendar%20data%3C%2Fa%3E,%20grouped%20by%20feature%20from%20training%20dataset%0910.0739%094%0AUpgini%09World%20economic%20indicators%097.3931%091%0AUpgini%09Calendar%20data%093.3263%094%0ATraining%20dataset,%20Upgini%09AutoFE%3A%20features%20from%20Training%20dataset,%3Ca%20href%3D%27https%3A%2F%2Fupgini.com%2F%23data_sources%27%20target%3D%27_blank%27%20rel%3D%27noopener%20noreferrer%27%3ECalendar%20data%3C%2Fa%3E%092.9375999999999998%092%0AUpgini%09Markets%20data%092.2541%091%0ATraining%20dataset%09AutoFE%3A%20features%20from%20Training%20dataset%091.5777999999999999%093%0A'))>📂 Copy</button>\n",
              "                <a href='mailto:<Share with...>?subject=Relevant external data sources from Upgini.com&body=Provider%09Source%09All%20features%20SHAP%09Number%20of%20relevant%20features%0AUpgini,%20Training%20dataset%09AutoFE%3A%20feature%20from%20%3Ca%20href%3D%27https%3A%2F%2Fupgini.com%2F%23data_sources%27%20target%3D%27_blank%27%20rel%3D%27noopener%20noreferrer%27%3EMarkets%20data%3C%2Fa%3E,%20grouped%20by%20feature%20from%20training%20dataset%0915.034099999999999%092%0AUpgini,%20Training%20dataset%09AutoFE%3A%20feature%20from%20%3Ca%20href%3D%27https%3A%2F%2Fupgini.com%2F%23data_sources%27%20target%3D%27_blank%27%20rel%3D%27noopener%20noreferrer%27%3ECalendar%20data%3C%2Fa%3E,%20grouped%20by%20feature%20from%20training%20dataset%0910.0739%094%0AUpgini%09World%20economic%20indicators%097.3931%091%0AUpgini%09Calendar%20data%093.3263%094%0ATraining%20dataset,%20Upgini%09AutoFE%3A%20features%20from%20Training%20dataset,%3Ca%20href%3D%27https%3A%2F%2Fupgini.com%2F%23data_sources%27%20target%3D%27_blank%27%20rel%3D%27noopener%20noreferrer%27%3ECalendar%20data%3C%2Fa%3E%092.9375999999999998%092%0AUpgini%09Markets%20data%092.2541%091%0ATraining%20dataset%09AutoFE%3A%20features%20from%20Training%20dataset%091.5777999999999999%093%0A'>\n",
              "                    <button>📨 Share</button>\n",
              "                </a>\n",
              "            </div>\n",
              "            <table class='upgini-df'><thead><th>Provider</th><th>Source</th><th>All features SHAP</th><th>Number of relevant features</th></thead><tbody><tr><td class='upgini-text'><a href='https://upgini.com/' target='_blank' rel='noopener noreferrer'>Upgini</a>,Training dataset</td><td class='upgini-text'>AutoFE: feature from <a href='https://upgini.com/#data_sources' target='_blank' rel='noopener noreferrer'>Markets data</a>, grouped by feature from training dataset</td><td class='upgini-number'>15.0341</td><td class='upgini-number'>2</td></tr><tr><td class='upgini-text'><a href='https://upgini.com/' target='_blank' rel='noopener noreferrer'>Upgini</a>,Training dataset</td><td class='upgini-text'>AutoFE: feature from <a href='https://upgini.com/#data_sources' target='_blank' rel='noopener noreferrer'>Calendar data</a>, grouped by feature from training dataset</td><td class='upgini-number'>10.0739</td><td class='upgini-number'>4</td></tr><tr><td class='upgini-text'><a href='https://upgini.com/' target='_blank' rel='noopener noreferrer'>Upgini</a></td><td class='upgini-text'><a href='https://upgini.com/#data_sources' target='_blank' rel='noopener noreferrer'>World economic indicators</a></td><td class='upgini-number'>7.3931</td><td class='upgini-number'>1</td></tr><tr><td class='upgini-text'><a href='https://upgini.com/' target='_blank' rel='noopener noreferrer'>Upgini</a></td><td class='upgini-text'><a href='https://upgini.com/#data_sources' target='_blank' rel='noopener noreferrer'>Calendar data</a></td><td class='upgini-number'>3.3263</td><td class='upgini-number'>4</td></tr><tr><td class='upgini-text'>Training dataset,<a href='https://upgini.com/' target='_blank' rel='noopener noreferrer'>Upgini</a></td><td class='upgini-text'>AutoFE: features from Training dataset,<a href='https://upgini.com/#data_sources' target='_blank' rel='noopener noreferrer'>Calendar data</a></td><td class='upgini-number'>2.9376</td><td class='upgini-number'>2</td></tr><tr><td class='upgini-text'><a href='https://upgini.com/' target='_blank' rel='noopener noreferrer'>Upgini</a></td><td class='upgini-text'><a href='https://upgini.com/#data_sources' target='_blank' rel='noopener noreferrer'>Markets data</a></td><td class='upgini-number'>2.2541</td><td class='upgini-number'>1</td></tr><tr><td class='upgini-text'>Training dataset</td><td class='upgini-text'>AutoFE: features from Training dataset</td><td class='upgini-number'>1.5778</td><td class='upgini-number'>3</td></tr></tbody></table>\n",
              "        </div>\n",
              "        "
            ]
          },
          "metadata": {}
        },
        {
          "output_type": "display_data",
          "data": {
            "text/plain": [
              "<IPython.core.display.HTML object>"
            ],
            "text/html": [
              "<style>\n",
              "            .upgini-df thead th {\n",
              "                font-weight:bold;\n",
              "                text-align: center;\n",
              "                padding: 0.5em;\n",
              "                border-bottom: 2px solid black;\n",
              "            }\n",
              "\n",
              "            .upgini-df tbody td {\n",
              "                padding: 0.5em;\n",
              "                color: black;\n",
              "            }\n",
              "\n",
              "            .upgini-df tbody tr:nth-child(odd) {\n",
              "                background-color: #ffffff;\n",
              "            }\n",
              "\n",
              "            .upgini-df tbody tr:nth-child(even) {\n",
              "                background-color: #f2f2f2;\n",
              "            }\n",
              "\n",
              "            .upgini-text {\n",
              "                text-align: left;\n",
              "            }\n",
              "\n",
              "            .upgini-number {\n",
              "                text-align: center;\n",
              "            }\n",
              "        </style>\n",
              "        <h2>*Description of AutoFE feature names</h2>\n",
              "        <div style=\"display:flex; flex-direction:column; align-items:flex-end; width: fit-content;\">\n",
              "            \n",
              "            <div style=\"text-align: right\">\n",
              "                <button onclick=navigator.clipboard.writeText(decodeURI('Sources%09Feature%20name%09Feature%201%09Feature%202%09Function%0A%3Ca%20href%3D%27https%3A%2F%2Fupgini.com%2F%23data_sources%27%20target%3D%27_blank%27%20rel%3D%27noopener%20noreferrer%27%3EMarkets%20data%3C%2Fa%3E,%20grouped%20by%20feature%20from%20training%20dataset%09f_autofe_groupbythenmean_d5f4f809f4%09f_financial_date_vix_gap_b64bd2b9%09store_824d80%09GroupByThenMean%0A%3Ca%20href%3D%27https%3A%2F%2Fupgini.com%2F%23data_sources%27%20target%3D%27_blank%27%20rel%3D%27noopener%20noreferrer%27%3EMarkets%20data%3C%2Fa%3E,%20grouped%20by%20feature%20from%20training%20dataset%09f_autofe_groupbythenmedian_64b28257d7%09f_financial_date_usd_eur_1d_to_7d_d8b89b5d%09item_4a33ea%09GroupByThenMedian%0A%3Ca%20href%3D%27https%3A%2F%2Fupgini.com%2F%23data_sources%27%20target%3D%27_blank%27%20rel%3D%27noopener%20noreferrer%27%3ECalendar%20data%3C%2Fa%3E,%20grouped%20by%20feature%20from%20training%20dataset%09f_autofe_groupbythenstd_9a84d2fd29%09f_events_date_year_cos8_d2a83ca9%09item_4a33ea%09GroupByThenStd%0A%3Ca%20href%3D%27https%3A%2F%2Fupgini.com%2F%23data_sources%27%20target%3D%27_blank%27%20rel%3D%27noopener%20noreferrer%27%3ECalendar%20data%3C%2Fa%3E,%20grouped%20by%20feature%20from%20training%20dataset%09f_autofe_groupbythenrank_d595da62f7%09f_events_date_week_cos3_7525fe31%09store_824d80%09GroupByThenRank%0ATraining%20dataset,%3Ca%20href%3D%27https%3A%2F%2Fupgini.com%2F%23data_sources%27%20target%3D%27_blank%27%20rel%3D%27noopener%20noreferrer%27%3ECalendar%20data%3C%2Fa%3E%09f_autofe_roll_3d_median_8e12f1e1e9%09f_events_date_year_cos1_9014a856%09%09roll_3d_median%0ATraining%20dataset,%3Ca%20href%3D%27https%3A%2F%2Fupgini.com%2F%23data_sources%27%20target%3D%27_blank%27%20rel%3D%27noopener%20noreferrer%27%3ECalendar%20data%3C%2Fa%3E%09f_autofe_roll_3d_min_1a2ad6d8bb%09f_events_date_year_cos1_9014a856%09%09roll_3d_min%0A%3Ca%20href%3D%27https%3A%2F%2Fupgini.com%2F%23data_sources%27%20target%3D%27_blank%27%20rel%3D%27noopener%20noreferrer%27%3ECalendar%20data%3C%2Fa%3E,%20grouped%20by%20feature%20from%20training%20dataset%09f_autofe_groupbythenrank_110e5b8df1%09f_events_date_week_cos1_f6a8c1fc%09store_824d80%09GroupByThenRank%0ATraining%20dataset%09f_autofe_lag_28d_aaadd46bbb%09target%09%09lag_28d%0ATraining%20dataset%09f_autofe_lag_7d_4a1d9c9dff%09target%09%09lag_7d%0ATraining%20dataset%09f_autofe_roll_3d_median_97804b26e6%09target%09%09roll_3d_median%0A%3Ca%20href%3D%27https%3A%2F%2Fupgini.com%2F%23data_sources%27%20target%3D%27_blank%27%20rel%3D%27noopener%20noreferrer%27%3ECalendar%20data%3C%2Fa%3E,%20grouped%20by%20feature%20from%20training%20dataset%09f_autofe_groupbythenrank_3729e8053b%09f_events_date_week_cos1_f6a8c1fc%09item_4a33ea%09GroupByThenRank%0A'))>📂 Copy</button>\n",
              "                <a href='mailto:<Share with...>?subject=Relevant external data sources from Upgini.com&body=Sources%09Feature%20name%09Feature%201%09Feature%202%09Function%0A%3Ca%20href%3D%27https%3A%2F%2Fupgini.com%2F%23data_sources%27%20target%3D%27_blank%27%20rel%3D%27noopener%20noreferrer%27%3EMarkets%20data%3C%2Fa%3E,%20grouped%20by%20feature%20from%20training%20dataset%09f_autofe_groupbythenmean_d5f4f809f4%09f_financial_date_vix_gap_b64bd2b9%09store_824d80%09GroupByThenMean%0A%3Ca%20href%3D%27https%3A%2F%2Fupgini.com%2F%23data_sources%27%20target%3D%27_blank%27%20rel%3D%27noopener%20noreferrer%27%3EMarkets%20data%3C%2Fa%3E,%20grouped%20by%20feature%20from%20training%20dataset%09f_autofe_groupbythenmedian_64b28257d7%09f_financial_date_usd_eur_1d_to_7d_d8b89b5d%09item_4a33ea%09GroupByThenMedian%0A%3Ca%20href%3D%27https%3A%2F%2Fupgini.com%2F%23data_sources%27%20target%3D%27_blank%27%20rel%3D%27noopener%20noreferrer%27%3ECalendar%20data%3C%2Fa%3E,%20grouped%20by%20feature%20from%20training%20dataset%09f_autofe_groupbythenstd_9a84d2fd29%09f_events_date_year_cos8_d2a83ca9%09item_4a33ea%09GroupByThenStd%0A%3Ca%20href%3D%27https%3A%2F%2Fupgini.com%2F%23data_sources%27%20target%3D%27_blank%27%20rel%3D%27noopener%20noreferrer%27%3ECalendar%20data%3C%2Fa%3E,%20grouped%20by%20feature%20from%20training%20dataset%09f_autofe_groupbythenrank_d595da62f7%09f_events_date_week_cos3_7525fe31%09store_824d80%09GroupByThenRank%0ATraining%20dataset,%3Ca%20href%3D%27https%3A%2F%2Fupgini.com%2F%23data_sources%27%20target%3D%27_blank%27%20rel%3D%27noopener%20noreferrer%27%3ECalendar%20data%3C%2Fa%3E%09f_autofe_roll_3d_median_8e12f1e1e9%09f_events_date_year_cos1_9014a856%09%09roll_3d_median%0ATraining%20dataset,%3Ca%20href%3D%27https%3A%2F%2Fupgini.com%2F%23data_sources%27%20target%3D%27_blank%27%20rel%3D%27noopener%20noreferrer%27%3ECalendar%20data%3C%2Fa%3E%09f_autofe_roll_3d_min_1a2ad6d8bb%09f_events_date_year_cos1_9014a856%09%09roll_3d_min%0A%3Ca%20href%3D%27https%3A%2F%2Fupgini.com%2F%23data_sources%27%20target%3D%27_blank%27%20rel%3D%27noopener%20noreferrer%27%3ECalendar%20data%3C%2Fa%3E,%20grouped%20by%20feature%20from%20training%20dataset%09f_autofe_groupbythenrank_110e5b8df1%09f_events_date_week_cos1_f6a8c1fc%09store_824d80%09GroupByThenRank%0ATraining%20dataset%09f_autofe_lag_28d_aaadd46bbb%09target%09%09lag_28d%0ATraining%20dataset%09f_autofe_lag_7d_4a1d9c9dff%09target%09%09lag_7d%0ATraining%20dataset%09f_autofe_roll_3d_median_97804b26e6%09target%09%09roll_3d_median%0A%3Ca%20href%3D%27https%3A%2F%2Fupgini.com%2F%23data_sources%27%20target%3D%27_blank%27%20rel%3D%27noopener%20noreferrer%27%3ECalendar%20data%3C%2Fa%3E,%20grouped%20by%20feature%20from%20training%20dataset%09f_autofe_groupbythenrank_3729e8053b%09f_events_date_week_cos1_f6a8c1fc%09item_4a33ea%09GroupByThenRank%0A'>\n",
              "                    <button>📨 Share</button>\n",
              "                </a>\n",
              "            </div>\n",
              "            <table class='upgini-df'><thead><th>Sources</th><th>Feature name</th><th>Feature 1</th><th>Feature 2</th><th>Function</th></thead><tbody><tr><td class='upgini-text'><a href='https://upgini.com/#data_sources' target='_blank' rel='noopener noreferrer'>Markets data</a>, grouped by feature from training dataset</td><td class='upgini-text'>f_autofe_groupbythenmean_d5f4f809f4</td><td class='upgini-text'>f_financial_date_vix_gap_b64bd2b9</td><td class='upgini-text'>store_824d80</td><td class='upgini-text'>GroupByThenMean</td></tr><tr><td class='upgini-text'><a href='https://upgini.com/#data_sources' target='_blank' rel='noopener noreferrer'>Markets data</a>, grouped by feature from training dataset</td><td class='upgini-text'>f_autofe_groupbythenmedian_64b28257d7</td><td class='upgini-text'>f_financial_date_usd_eur_1d_to_7d_d8b89b5d</td><td class='upgini-text'>item_4a33ea</td><td class='upgini-text'>GroupByThenMedian</td></tr><tr><td class='upgini-text'><a href='https://upgini.com/#data_sources' target='_blank' rel='noopener noreferrer'>Calendar data</a>, grouped by feature from training dataset</td><td class='upgini-text'>f_autofe_groupbythenstd_9a84d2fd29</td><td class='upgini-text'>f_events_date_year_cos8_d2a83ca9</td><td class='upgini-text'>item_4a33ea</td><td class='upgini-text'>GroupByThenStd</td></tr><tr><td class='upgini-text'><a href='https://upgini.com/#data_sources' target='_blank' rel='noopener noreferrer'>Calendar data</a>, grouped by feature from training dataset</td><td class='upgini-text'>f_autofe_groupbythenrank_d595da62f7</td><td class='upgini-text'>f_events_date_week_cos3_7525fe31</td><td class='upgini-text'>store_824d80</td><td class='upgini-text'>GroupByThenRank</td></tr><tr><td class='upgini-text'>Training dataset,<a href='https://upgini.com/#data_sources' target='_blank' rel='noopener noreferrer'>Calendar data</a></td><td class='upgini-text'>f_autofe_roll_3d_median_8e12f1e1e9</td><td class='upgini-text'>f_events_date_year_cos1_9014a856</td><td class='upgini-text'>&nbsp;</td><td class='upgini-text'>roll_3d_median</td></tr><tr><td class='upgini-text'>Training dataset,<a href='https://upgini.com/#data_sources' target='_blank' rel='noopener noreferrer'>Calendar data</a></td><td class='upgini-text'>f_autofe_roll_3d_min_1a2ad6d8bb</td><td class='upgini-text'>f_events_date_year_cos1_9014a856</td><td class='upgini-text'>&nbsp;</td><td class='upgini-text'>roll_3d_min</td></tr><tr><td class='upgini-text'><a href='https://upgini.com/#data_sources' target='_blank' rel='noopener noreferrer'>Calendar data</a>, grouped by feature from training dataset</td><td class='upgini-text'>f_autofe_groupbythenrank_110e5b8df1</td><td class='upgini-text'>f_events_date_week_cos1_f6a8c1fc</td><td class='upgini-text'>store_824d80</td><td class='upgini-text'>GroupByThenRank</td></tr><tr><td class='upgini-text'>Training dataset</td><td class='upgini-text'>f_autofe_lag_28d_aaadd46bbb</td><td class='upgini-text'>target</td><td class='upgini-text'>&nbsp;</td><td class='upgini-text'>lag_28d</td></tr><tr><td class='upgini-text'>Training dataset</td><td class='upgini-text'>f_autofe_lag_7d_4a1d9c9dff</td><td class='upgini-text'>target</td><td class='upgini-text'>&nbsp;</td><td class='upgini-text'>lag_7d</td></tr><tr><td class='upgini-text'>Training dataset</td><td class='upgini-text'>f_autofe_roll_3d_median_97804b26e6</td><td class='upgini-text'>target</td><td class='upgini-text'>&nbsp;</td><td class='upgini-text'>roll_3d_median</td></tr><tr><td class='upgini-text'><a href='https://upgini.com/#data_sources' target='_blank' rel='noopener noreferrer'>Calendar data</a>, grouped by feature from training dataset</td><td class='upgini-text'>f_autofe_groupbythenrank_3729e8053b</td><td class='upgini-text'>f_events_date_week_cos1_f6a8c1fc</td><td class='upgini-text'>item_4a33ea</td><td class='upgini-text'>GroupByThenRank</td></tr></tbody></table>\n",
              "        </div>\n",
              "        "
            ]
          },
          "metadata": {}
        },
        {
          "output_type": "stream",
          "name": "stdout",
          "text": [
            "We detected 48 outliers in your sample.\n",
            "Examples of outliers with maximum value of target:\n",
            "33    205\n",
            "17    196\n",
            "12    187\n",
            "Name: target, dtype: int64\n",
            "Outliers will be excluded during the metrics calculation.\n",
            "Calculating accuracy uplift after enrichment...\n",
            "y distributions from the training sample and eval_set differ according to the Kolmogorov-Smirnov test,\n",
            "which makes metrics between the train and eval_set incomparable.\n"
          ]
        },
        {
          "output_type": "display_data",
          "data": {
            "text/plain": [
              "<IPython.core.display.HTML object>"
            ],
            "text/html": [
              "<style>\n",
              "            .upgini-df thead th {\n",
              "                font-weight:bold;\n",
              "                text-align: center;\n",
              "                padding: 0.5em;\n",
              "                border-bottom: 2px solid black;\n",
              "            }\n",
              "\n",
              "            .upgini-df tbody td {\n",
              "                padding: 0.5em;\n",
              "                color: black;\n",
              "            }\n",
              "\n",
              "            .upgini-df tbody tr:nth-child(odd) {\n",
              "                background-color: #ffffff;\n",
              "            }\n",
              "\n",
              "            .upgini-df tbody tr:nth-child(even) {\n",
              "                background-color: #f2f2f2;\n",
              "            }\n",
              "\n",
              "            .upgini-text {\n",
              "                text-align: left;\n",
              "            }\n",
              "\n",
              "            .upgini-number {\n",
              "                text-align: center;\n",
              "            }\n",
              "        </style>\n",
              "        <h2>Accuracy after enrichment</h2>\n",
              "        <div style=\"display:flex; flex-direction:column; align-items:flex-end; width: fit-content;\">\n",
              "            \n",
              "            <div style=\"text-align: right\">\n",
              "                <button onclick=navigator.clipboard.writeText(decodeURI('Dataset%20type%09Rows%09Mean%20target%09Baseline%20MAPE%09Enriched%20MAPE%09Uplift,%20abs%09Uplift,%20%25%0ATrain%099418%0953.3352%090.324%20%C2%B1%200.109%090.217%20%C2%B1%200.086%090.107%0933.0%25%0AEval%201%093764%0958.5994%090.278%20%C2%B1%200.009%090.195%20%C2%B1%200.021%090.082%0929.7%25%0A'))>📂 Copy</button>\n",
              "                <a href='mailto:<Share with...>?subject=Relevant external data sources from Upgini.com&body=Dataset%20type%09Rows%09Mean%20target%09Baseline%20MAPE%09Enriched%20MAPE%09Uplift,%20abs%09Uplift,%20%25%0ATrain%099418%0953.3352%090.324%20%C2%B1%200.109%090.217%20%C2%B1%200.086%090.107%0933.0%25%0AEval%201%093764%0958.5994%090.278%20%C2%B1%200.009%090.195%20%C2%B1%200.021%090.082%0929.7%25%0A'>\n",
              "                    <button>📨 Share</button>\n",
              "                </a>\n",
              "            </div>\n",
              "            <table class='upgini-df'><thead><th>Dataset type</th><th>Rows</th><th>Mean target</th><th>Baseline MAPE</th><th>Enriched MAPE</th><th>Uplift, abs</th><th>Uplift, %</th></thead><tbody><tr><td class='upgini-text'>Train</td><td class='upgini-number'>9418</td><td class='upgini-number'>53.3352</td><td class='upgini-text'>0.324 ± 0.109</td><td class='upgini-text'>0.217 ± 0.086</td><td class='upgini-number'>0.1070</td><td class='upgini-text'>33.0%</td></tr><tr><td class='upgini-text'>Eval 1</td><td class='upgini-number'>3764</td><td class='upgini-number'>58.5994</td><td class='upgini-text'>0.278 ± 0.009</td><td class='upgini-text'>0.195 ± 0.021</td><td class='upgini-number'>0.0820</td><td class='upgini-text'>29.7%</td></tr></tbody></table>\n",
              "        </div>\n",
              "        "
            ]
          },
          "metadata": {}
        },
        {
          "output_type": "display_data",
          "data": {
            "text/plain": [
              "<IPython.core.display.HTML object>"
            ],
            "text/html": [
              "<a download=\"upgini-report-46edfcc1-bf3b-491e-8ba4-e4c6abcb4bae.pdf\" href=\"data:application/pdf;base64,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\" target=\"_blank\">\n",
              "            <button>📊 Download PDF report</button></a>"
            ]
          },
          "metadata": {}
        }
      ]
    },
    {
      "cell_type": "markdown",
      "metadata": {
        "id": "e1825f6e"
      },
      "source": [
        "The error `NameError: name 'enricher' is not defined` indicates that the variable `enricher` was not created in the current session. This is likely because the cell where `enricher` is defined and fit (`foJr0ZXsqvSR`) has not been executed. To fix this, we need to run that cell first."
      ]
    },
    {
      "cell_type": "code",
      "source": [
        "\n",
        "from catboost import CatBoostRegressor\n",
        "from catboost.utils import eval_metric\n",
        "\n",
        "model = CatBoostRegressor(verbose=False, allow_writing_files=False, random_state=0)\n",
        "enricher.calculate_metrics(\n",
        "    train_features, train_target,\n",
        "    eval_set=[(test_features, test_target)],\n",
        "    estimator=model,\n",
        "    scoring= \"mean_absolute_percentage_error\"\n",
        ")"
      ],
      "metadata": {
        "colab": {
          "base_uri": "https://localhost:8080/",
          "height": 164
        },
        "id": "4czo0-SGIV97",
        "outputId": "78ed9fb5-a88e-4620-e08b-14c9acef62c2"
      },
      "execution_count": 9,
      "outputs": [
        {
          "output_type": "stream",
          "name": "stdout",
          "text": [
            "Calculating accuracy uplift after enrichment...\n",
            "-\ry distributions from the training sample and eval_set differ according to the Kolmogorov-Smirnov test,\n",
            "which makes metrics between the train and eval_set incomparable.\n"
          ]
        },
        {
          "output_type": "execute_result",
          "data": {
            "text/plain": [
              "  Dataset type  Rows  Mean target  Baseline MAPE  Enriched MAPE  Uplift, abs  \\\n",
              "0        Train  9418      53.3352  0.288 ± 0.096  0.204 ± 0.098        0.084   \n",
              "1       Eval 1  3764      58.5994  0.247 ± 0.008  0.181 ± 0.027        0.066   \n",
              "\n",
              "  Uplift, %  \n",
              "0     29.0%  \n",
              "1     26.8%  "
            ],
            "text/html": [
              "\n",
              "  <div id=\"df-27129d8f-1a22-4b97-9451-0bf3ea9fa19e\" class=\"colab-df-container\">\n",
              "    <div>\n",
              "<style scoped>\n",
              "    .dataframe tbody tr th:only-of-type {\n",
              "        vertical-align: middle;\n",
              "    }\n",
              "\n",
              "    .dataframe tbody tr th {\n",
              "        vertical-align: top;\n",
              "    }\n",
              "\n",
              "    .dataframe thead th {\n",
              "        text-align: right;\n",
              "    }\n",
              "</style>\n",
              "<table border=\"1\" class=\"dataframe\">\n",
              "  <thead>\n",
              "    <tr style=\"text-align: right;\">\n",
              "      <th></th>\n",
              "      <th>Dataset type</th>\n",
              "      <th>Rows</th>\n",
              "      <th>Mean target</th>\n",
              "      <th>Baseline MAPE</th>\n",
              "      <th>Enriched MAPE</th>\n",
              "      <th>Uplift, abs</th>\n",
              "      <th>Uplift, %</th>\n",
              "    </tr>\n",
              "  </thead>\n",
              "  <tbody>\n",
              "    <tr>\n",
              "      <th>0</th>\n",
              "      <td>Train</td>\n",
              "      <td>9418</td>\n",
              "      <td>53.3352</td>\n",
              "      <td>0.288 ± 0.096</td>\n",
              "      <td>0.204 ± 0.098</td>\n",
              "      <td>0.084</td>\n",
              "      <td>29.0%</td>\n",
              "    </tr>\n",
              "    <tr>\n",
              "      <th>1</th>\n",
              "      <td>Eval 1</td>\n",
              "      <td>3764</td>\n",
              "      <td>58.5994</td>\n",
              "      <td>0.247 ± 0.008</td>\n",
              "      <td>0.181 ± 0.027</td>\n",
              "      <td>0.066</td>\n",
              "      <td>26.8%</td>\n",
              "    </tr>\n",
              "  </tbody>\n",
              "</table>\n",
              "</div>\n",
              "    <div class=\"colab-df-buttons\">\n",
              "\n",
              "  <div class=\"colab-df-container\">\n",
              "    <button class=\"colab-df-convert\" onclick=\"convertToInteractive('df-27129d8f-1a22-4b97-9451-0bf3ea9fa19e')\"\n",
              "            title=\"Convert this dataframe to an interactive table.\"\n",
              "            style=\"display:none;\">\n",
              "\n",
              "  <svg xmlns=\"http://www.w3.org/2000/svg\" height=\"24px\" viewBox=\"0 -960 960 960\">\n",
              "    <path d=\"M120-120v-720h720v720H120Zm60-500h600v-160H180v160Zm220 220h160v-160H400v160Zm0 220h160v-160H400v160ZM180-400h160v-160H180v160Zm440 0h160v-160H620v160ZM180-180h160v-160H180v160Zm440 0h160v-160H620v160Z\"/>\n",
              "  </svg>\n",
              "    </button>\n",
              "\n",
              "  <style>\n",
              "    .colab-df-container {\n",
              "      display:flex;\n",
              "      gap: 12px;\n",
              "    }\n",
              "\n",
              "    .colab-df-convert {\n",
              "      background-color: #E8F0FE;\n",
              "      border: none;\n",
              "      border-radius: 50%;\n",
              "      cursor: pointer;\n",
              "      display: none;\n",
              "      fill: #1967D2;\n",
              "      height: 32px;\n",
              "      padding: 0 0 0 0;\n",
              "      width: 32px;\n",
              "    }\n",
              "\n",
              "    .colab-df-convert:hover {\n",
              "      background-color: #E2EBFA;\n",
              "      box-shadow: 0px 1px 2px rgba(60, 64, 67, 0.3), 0px 1px 3px 1px rgba(60, 64, 67, 0.15);\n",
              "      fill: #174EA6;\n",
              "    }\n",
              "\n",
              "    .colab-df-buttons div {\n",
              "      margin-bottom: 4px;\n",
              "    }\n",
              "\n",
              "    [theme=dark] .colab-df-convert {\n",
              "      background-color: #3B4455;\n",
              "      fill: #D2E3FC;\n",
              "    }\n",
              "\n",
              "    [theme=dark] .colab-df-convert:hover {\n",
              "      background-color: #434B5C;\n",
              "      box-shadow: 0px 1px 3px 1px rgba(0, 0, 0, 0.15);\n",
              "      filter: drop-shadow(0px 1px 2px rgba(0, 0, 0, 0.3));\n",
              "      fill: #FFFFFF;\n",
              "    }\n",
              "  </style>\n",
              "\n",
              "    <script>\n",
              "      const buttonEl =\n",
              "        document.querySelector('#df-27129d8f-1a22-4b97-9451-0bf3ea9fa19e button.colab-df-convert');\n",
              "      buttonEl.style.display =\n",
              "        google.colab.kernel.accessAllowed ? 'block' : 'none';\n",
              "\n",
              "      async function convertToInteractive(key) {\n",
              "        const element = document.querySelector('#df-27129d8f-1a22-4b97-9451-0bf3ea9fa19e');\n",
              "        const dataTable =\n",
              "          await google.colab.kernel.invokeFunction('convertToInteractive',\n",
              "                                                    [key], {});\n",
              "        if (!dataTable) return;\n",
              "\n",
              "        const docLinkHtml = 'Like what you see? Visit the ' +\n",
              "          '<a target=\"_blank\" href=https://colab.research.google.com/notebooks/data_table.ipynb>data table notebook</a>'\n",
              "          + ' to learn more about interactive tables.';\n",
              "        element.innerHTML = '';\n",
              "        dataTable['output_type'] = 'display_data';\n",
              "        await google.colab.output.renderOutput(dataTable, element);\n",
              "        const docLink = document.createElement('div');\n",
              "        docLink.innerHTML = docLinkHtml;\n",
              "        element.appendChild(docLink);\n",
              "      }\n",
              "    </script>\n",
              "  </div>\n",
              "\n",
              "\n",
              "    <div id=\"df-f076b96a-fcc2-4803-92fb-a8c0d6269b93\">\n",
              "      <button class=\"colab-df-quickchart\" onclick=\"quickchart('df-f076b96a-fcc2-4803-92fb-a8c0d6269b93')\"\n",
              "                title=\"Suggest charts\"\n",
              "                style=\"display:none;\">\n",
              "\n",
              "<svg xmlns=\"http://www.w3.org/2000/svg\" height=\"24px\"viewBox=\"0 0 24 24\"\n",
              "     width=\"24px\">\n",
              "    <g>\n",
              "        <path d=\"M19 3H5c-1.1 0-2 .9-2 2v14c0 1.1.9 2 2 2h14c1.1 0 2-.9 2-2V5c0-1.1-.9-2-2-2zM9 17H7v-7h2v7zm4 0h-2V7h2v10zm4 0h-2v-4h2v4z\"/>\n",
              "    </g>\n",
              "</svg>\n",
              "      </button>\n",
              "\n",
              "<style>\n",
              "  .colab-df-quickchart {\n",
              "      --bg-color: #E8F0FE;\n",
              "      --fill-color: #1967D2;\n",
              "      --hover-bg-color: #E2EBFA;\n",
              "      --hover-fill-color: #174EA6;\n",
              "      --disabled-fill-color: #AAA;\n",
              "      --disabled-bg-color: #DDD;\n",
              "  }\n",
              "\n",
              "  [theme=dark] .colab-df-quickchart {\n",
              "      --bg-color: #3B4455;\n",
              "      --fill-color: #D2E3FC;\n",
              "      --hover-bg-color: #434B5C;\n",
              "      --hover-fill-color: #FFFFFF;\n",
              "      --disabled-bg-color: #3B4455;\n",
              "      --disabled-fill-color: #666;\n",
              "  }\n",
              "\n",
              "  .colab-df-quickchart {\n",
              "    background-color: var(--bg-color);\n",
              "    border: none;\n",
              "    border-radius: 50%;\n",
              "    cursor: pointer;\n",
              "    display: none;\n",
              "    fill: var(--fill-color);\n",
              "    height: 32px;\n",
              "    padding: 0;\n",
              "    width: 32px;\n",
              "  }\n",
              "\n",
              "  .colab-df-quickchart:hover {\n",
              "    background-color: var(--hover-bg-color);\n",
              "    box-shadow: 0 1px 2px rgba(60, 64, 67, 0.3), 0 1px 3px 1px rgba(60, 64, 67, 0.15);\n",
              "    fill: var(--button-hover-fill-color);\n",
              "  }\n",
              "\n",
              "  .colab-df-quickchart-complete:disabled,\n",
              "  .colab-df-quickchart-complete:disabled:hover {\n",
              "    background-color: var(--disabled-bg-color);\n",
              "    fill: var(--disabled-fill-color);\n",
              "    box-shadow: none;\n",
              "  }\n",
              "\n",
              "  .colab-df-spinner {\n",
              "    border: 2px solid var(--fill-color);\n",
              "    border-color: transparent;\n",
              "    border-bottom-color: var(--fill-color);\n",
              "    animation:\n",
              "      spin 1s steps(1) infinite;\n",
              "  }\n",
              "\n",
              "  @keyframes spin {\n",
              "    0% {\n",
              "      border-color: transparent;\n",
              "      border-bottom-color: var(--fill-color);\n",
              "      border-left-color: var(--fill-color);\n",
              "    }\n",
              "    20% {\n",
              "      border-color: transparent;\n",
              "      border-left-color: var(--fill-color);\n",
              "      border-top-color: var(--fill-color);\n",
              "    }\n",
              "    30% {\n",
              "      border-color: transparent;\n",
              "      border-left-color: var(--fill-color);\n",
              "      border-top-color: var(--fill-color);\n",
              "      border-right-color: var(--fill-color);\n",
              "    }\n",
              "    40% {\n",
              "      border-color: transparent;\n",
              "      border-right-color: var(--fill-color);\n",
              "      border-top-color: var(--fill-color);\n",
              "    }\n",
              "    60% {\n",
              "      border-color: transparent;\n",
              "      border-right-color: var(--fill-color);\n",
              "    }\n",
              "    80% {\n",
              "      border-color: transparent;\n",
              "      border-right-color: var(--fill-color);\n",
              "      border-bottom-color: var(--fill-color);\n",
              "    }\n",
              "    90% {\n",
              "      border-color: transparent;\n",
              "      border-bottom-color: var(--fill-color);\n",
              "    }\n",
              "  }\n",
              "</style>\n",
              "\n",
              "      <script>\n",
              "        async function quickchart(key) {\n",
              "          const quickchartButtonEl =\n",
              "            document.querySelector('#' + key + ' button');\n",
              "          quickchartButtonEl.disabled = true;  // To prevent multiple clicks.\n",
              "          quickchartButtonEl.classList.add('colab-df-spinner');\n",
              "          try {\n",
              "            const charts = await google.colab.kernel.invokeFunction(\n",
              "                'suggestCharts', [key], {});\n",
              "          } catch (error) {\n",
              "            console.error('Error during call to suggestCharts:', error);\n",
              "          }\n",
              "          quickchartButtonEl.classList.remove('colab-df-spinner');\n",
              "          quickchartButtonEl.classList.add('colab-df-quickchart-complete');\n",
              "        }\n",
              "        (() => {\n",
              "          let quickchartButtonEl =\n",
              "            document.querySelector('#df-f076b96a-fcc2-4803-92fb-a8c0d6269b93 button');\n",
              "          quickchartButtonEl.style.display =\n",
              "            google.colab.kernel.accessAllowed ? 'block' : 'none';\n",
              "        })();\n",
              "      </script>\n",
              "    </div>\n",
              "\n",
              "    </div>\n",
              "  </div>\n"
            ],
            "application/vnd.google.colaboratory.intrinsic+json": {
              "type": "dataframe",
              "summary": "{\n  \"name\": \")\",\n  \"rows\": 2,\n  \"fields\": [\n    {\n      \"column\": \"Dataset type\",\n      \"properties\": {\n        \"dtype\": \"string\",\n        \"num_unique_values\": 2,\n        \"samples\": [\n          \"Eval 1\",\n          \"Train\"\n        ],\n        \"semantic_type\": \"\",\n        \"description\": \"\"\n      }\n    },\n    {\n      \"column\": \"Rows\",\n      \"properties\": {\n        \"dtype\": \"number\",\n        \"std\": 3997,\n        \"min\": 3764,\n        \"max\": 9418,\n        \"num_unique_values\": 2,\n        \"samples\": [\n          3764,\n          9418\n        ],\n        \"semantic_type\": \"\",\n        \"description\": \"\"\n      }\n    },\n    {\n      \"column\": \"Mean target\",\n      \"properties\": {\n        \"dtype\": \"number\",\n        \"std\": 3.7223515175222253,\n        \"min\": 53.3352,\n        \"max\": 58.5994,\n        \"num_unique_values\": 2,\n        \"samples\": [\n          58.5994,\n          53.3352\n        ],\n        \"semantic_type\": \"\",\n        \"description\": \"\"\n      }\n    },\n    {\n      \"column\": \"Baseline MAPE\",\n      \"properties\": {\n        \"dtype\": \"string\",\n        \"num_unique_values\": 2,\n        \"samples\": [\n          \"0.247 \\u00b1 0.008\",\n          \"0.288 \\u00b1 0.096\"\n        ],\n        \"semantic_type\": \"\",\n        \"description\": \"\"\n      }\n    },\n    {\n      \"column\": \"Enriched MAPE\",\n      \"properties\": {\n        \"dtype\": \"string\",\n        \"num_unique_values\": 2,\n        \"samples\": [\n          \"0.181 \\u00b1 0.027\",\n          \"0.204 \\u00b1 0.098\"\n        ],\n        \"semantic_type\": \"\",\n        \"description\": \"\"\n      }\n    },\n    {\n      \"column\": \"Uplift, abs\",\n      \"properties\": {\n        \"dtype\": \"number\",\n        \"std\": 0.012727922061357857,\n        \"min\": 0.066,\n        \"max\": 0.084,\n        \"num_unique_values\": 2,\n        \"samples\": [\n          0.066,\n          0.084\n        ],\n        \"semantic_type\": \"\",\n        \"description\": \"\"\n      }\n    },\n    {\n      \"column\": \"Uplift, %\",\n      \"properties\": {\n        \"dtype\": \"string\",\n        \"num_unique_values\": 2,\n        \"samples\": [\n          \"26.8%\",\n          \"29.0%\"\n        ],\n        \"semantic_type\": \"\",\n        \"description\": \"\"\n      }\n    }\n  ]\n}"
            }
          },
          "metadata": {},
          "execution_count": 9
        }
      ]
    },
    {
      "cell_type": "code",
      "source": [
        "# Get enriched features using the correct Upgini method\n",
        "enriched_train_features = enricher.fit_transform(\n",
        "    train_features,\n",
        "    train_target,\n",
        "    keep_input=True,\n",
        "    calculate_metrics=False  # We already calculated metrics separately\n",
        ")\n",
        "\n",
        "enriched_test_features = enricher.transform(test_features)\n",
        "\n",
        "# Check if transformation was successful before calling head()\n",
        "if enriched_train_features is not None:\n",
        "    print(f\"Enriched train features shape: {enriched_train_features.shape}\")\n",
        "    enriched_train_features.head()\n",
        "else:\n",
        "    print(\"Enriched features are None - checking alternative methods...\")\n",
        "\n",
        "    # Alternative approach: use the fitted enricher directly\n",
        "    try:\n",
        "        enriched_train_features, _ = enricher._fit(train_features, train_target)\n",
        "        enriched_test_features, _ = enricher._transform(test_features)\n",
        "\n",
        "        if enriched_train_features is not None:\n",
        "            print(f\"Alternative method worked! Shape: {enriched_train_features.shape}\")\n",
        "            enriched_train_features.head()\n",
        "    except Exception as e:\n",
        "        print(f\"Alternative method also failed: {e}\")"
      ],
      "metadata": {
        "colab": {
          "base_uri": "https://localhost:8080/",
          "height": 1000,
          "referenced_widgets": [
            "ac4f7246c27345748596fabbebca9b24",
            "a0a086a8bd05421e987a64c8a1fd68da",
            "92bbf3d2bc854e328e917da80b18027c",
            "8b6ee1edf38442b08486defd7b16d5ce",
            "c051bf65674d4c9a8320598692a22cda",
            "1247e83b2cb3479a800e87212b488cc8"
          ]
        },
        "id": "pjbI2bFdJQUj",
        "outputId": "fe876127-99b3-4b6e-d987-a5a278e9b567"
      },
      "execution_count": 12,
      "outputs": [
        {
          "output_type": "display_data",
          "data": {
            "text/plain": [
              "[============================================================] 100% Finished"
            ],
            "text/html": [
              "<progress style='width:60ex' max='100' value='100'></progress>  100% Finished</br>"
            ]
          },
          "metadata": {}
        },
        {
          "output_type": "stream",
          "name": "stdout",
          "text": [
            "WARNING #1: Search started with DATE search key only\n",
            "Try to add other keys like the COUNTRY, POSTAL_CODE, PHONE NUMBER, EMAIL/HEM, IP to your training dataset\n",
            "for search through all the available data sources.\n",
            "See docs https://github.com/upgini/upgini#-total-239-countries-and-up-to-41-years-of-history\n",
            "\n",
            "WARNING #2: Your training sample is unstable in number of rows per date. It is recommended to redesign the training sample\n",
            "\n"
          ]
        },
        {
          "output_type": "display_data",
          "data": {
            "text/plain": [
              "<IPython.core.display.HTML object>"
            ],
            "text/html": [
              "<table><tr><th style='font-weight:bold'>Column name</th><th style='font-weight:bold'>Status</th><th style='font-weight:bold'>Errors</th></tr><tr><td>target</td><td style='background-color:#DAF7A6;color:black'>All valid</td><td>-</td></tr><tr><td>date</td><td style='background-color:#DAF7A6;color:black'>All valid</td><td>-</td></tr></table>"
            ]
          },
          "metadata": {}
        },
        {
          "output_type": "stream",
          "name": "stdout",
          "text": [
            "\n",
            "\n",
            "Running search request, search_id=d8767261-44a3-4976-acb8-a82ec4a8f821\n",
            "We'll send email notification once it's completed, just use your personal api_key from profile.upgini.com\n",
            "\n"
          ]
        },
        {
          "output_type": "display_data",
          "data": {
            "text/plain": [
              "<IPython.core.display.HTML object>"
            ],
            "text/html": [
              "<style>\n",
              "            .upgini-df thead th {\n",
              "                font-weight:bold;\n",
              "                text-align: center;\n",
              "                padding: 0.5em;\n",
              "                border-bottom: 2px solid black;\n",
              "            }\n",
              "\n",
              "            .upgini-df tbody td {\n",
              "                padding: 0.5em;\n",
              "                color: black;\n",
              "            }\n",
              "\n",
              "            .upgini-df tbody tr:nth-child(odd) {\n",
              "                background-color: #ffffff;\n",
              "            }\n",
              "\n",
              "            .upgini-df tbody tr:nth-child(even) {\n",
              "                background-color: #f2f2f2;\n",
              "            }\n",
              "\n",
              "            .upgini-text {\n",
              "                text-align: left;\n",
              "            }\n",
              "\n",
              "            .upgini-number {\n",
              "                text-align: center;\n",
              "            }\n",
              "        </style>\n",
              "        <h2>Relevant features (19)</h2>\n",
              "        <div style=\"display:flex; flex-direction:column; align-items:flex-end; width: fit-content;\">\n",
              "            \n",
              "            <div style=\"text-align: right\">\n",
              "                <button onclick=navigator.clipboard.writeText(decodeURI('Feature%20name%09SHAP%20value%09PSI%20value%09Coverage%20%25%09Value%20preview%09Provider%09Source%09Updates%0Aitem%090.5493%09%09100.0%0950,%2048,%2013%09%09%09%0Astore%090.2015%09%09100.0%0910,%201,%206%09%09%09%0Af_autofe_roll_3d_min_1a2ad6d8bb%090.0587%09%09100.0%090.3253,%20-0.2795,%20-0.3817%09Training%20dataset,%20Upgini%09AutoFE%3A%20features%20from%20Training%20dataset,%3Ca%20href%3D%27https%3A%2F%2Fupgini.com%2F%23data_sources%27%20target%3D%27_blank%27%20rel%3D%27noopener%20noreferrer%27%3ECalendar%20data%3C%2Fa%3E%09Daily%0Af_autofe_groupbythenmean_d5f4f809f4%090.0426%09%09100.0%090.1207,%200.0956,%200.1163%09Upgini,%20Training%20dataset%09AutoFE%3A%20feature%20from%20%3Ca%20href%3D%27https%3A%2F%2Fupgini.com%2F%23data_sources%27%20target%3D%27_blank%27%20rel%3D%27noopener%20noreferrer%27%3EMarkets%20data%3C%2Fa%3E,%20grouped%20by%20feature%20from%20training%20dataset%09Daily%0Af_events_date_year_cos1_9014a856%090.0397%09%09100.0%090.3253,%20-0.263,%20-0.3496%09Upgini%09Calendar%20data%09Daily%0Af_events_date_week_sin1_847b5db1%090.0365%09%09100.0%090.0,%20-0.4339,%20-0.9749%09Upgini%09Calendar%20data%09Daily%0Af_autofe_roll_3d_median_8e12f1e1e9%090.0235%09%09100.0%090.309,%20-0.263,%20-0.3496%09Training%20dataset,%20Upgini%09AutoFE%3A%20features%20from%20Training%20dataset,%3Ca%20href%3D%27https%3A%2F%2Fupgini.com%2F%23data_sources%27%20target%3D%27_blank%27%20rel%3D%27noopener%20noreferrer%27%3ECalendar%20data%3C%2Fa%3E%09Daily%0Af_financial_date_crude_oil_7d_to_1y_c3e0ad17%090.0163%09%09100.0%090.8935,%200.776,%201.0769%09Upgini%09Markets%20data%09Daily%0Af_autofe_groupbythenrank_110e5b8df1%090.0114%09%09100.0%090.0692,%200.2071,%200.801%09Upgini,%20Training%20dataset%09AutoFE%3A%20feature%20from%20%3Ca%20href%3D%27https%3A%2F%2Fupgini.com%2F%23data_sources%27%20target%3D%27_blank%27%20rel%3D%27noopener%20noreferrer%27%3ECalendar%20data%3C%2Fa%3E,%20grouped%20by%20feature%20from%20training%20dataset%09Daily%0Af_economic_date_cbpol_umap_6_aa0352de%090.0097%09%09100.0%092.2567,%201.8214,%206.9596%09Upgini%09World%20economic%20indicators%09Daily%0Af_events_date_year_sin2_59955ffd%090.0042%09%09100.0%09-0.6153,%200.3847,%20-0.1628%09Upgini%09Calendar%20data%09Daily%0Af_events_date_week_cos3_7525fe31%090.0041%09%09100.0%091.0,%20-0.2225,%200.6235%09Upgini%09Calendar%20data%09Daily%0Af_autofe_groupbythenmedian_64b28257d7%090.0035%09%09100.0%091.0007,%201.0008,%201.0011%09Upgini,%20Training%20dataset%09AutoFE%3A%20feature%20from%20%3Ca%20href%3D%27https%3A%2F%2Fupgini.com%2F%23data_sources%27%20target%3D%27_blank%27%20rel%3D%27noopener%20noreferrer%27%3EMarkets%20data%3C%2Fa%3E,%20grouped%20by%20feature%20from%20training%20dataset%09Daily%0Af_autofe_groupbythenrank_d595da62f7%090.0032%09%09100.0%090.3695,%200.4968,%200.1916%09Upgini,%20Training%20dataset%09AutoFE%3A%20feature%20from%20%3Ca%20href%3D%27https%3A%2F%2Fupgini.com%2F%23data_sources%27%20target%3D%27_blank%27%20rel%3D%27noopener%20noreferrer%27%3ECalendar%20data%3C%2Fa%3E,%20grouped%20by%20feature%20from%20training%20dataset%09Daily%0Af_autofe_groupbythenstd_9a84d2fd29%090.0029%09%09100.0%090.7032,%200.6807,%200.6856%09Upgini,%20Training%20dataset%09AutoFE%3A%20feature%20from%20%3Ca%20href%3D%27https%3A%2F%2Fupgini.com%2F%23data_sources%27%20target%3D%27_blank%27%20rel%3D%27noopener%20noreferrer%27%3ECalendar%20data%3C%2Fa%3E,%20grouped%20by%20feature%20from%20training%20dataset%09Daily%0Af_autofe_lag_28d_aaadd46bbb%090.0025%09%0997.10896960711638%09102.0,%2036.0,%2099.0%09Training%20dataset%09AutoFE%3A%20features%20from%20Training%20dataset%09%0Af_autofe_groupbythenrank_3729e8053b%090.0012%09%09100.0%090.3589,%200.2878,%200.3361%09Upgini,%20Training%20dataset%09AutoFE%3A%20feature%20from%20%3Ca%20href%3D%27https%3A%2F%2Fupgini.com%2F%23data_sources%27%20target%3D%27_blank%27%20rel%3D%27noopener%20noreferrer%27%3ECalendar%20data%3C%2Fa%3E,%20grouped%20by%20feature%20from%20training%20dataset%09Daily%0Af_autofe_lag_7d_4a1d9c9dff%090.0008%09%0999.19517102615694%09102.0,%2036.0,%2099.0%09Training%20dataset%09AutoFE%3A%20features%20from%20Training%20dataset%09%0Af_autofe_roll_3d_median_97804b26e6%090.0007%09%09100.0%0983.0,%20106.0,%2056.0%09Training%20dataset%09AutoFE%3A%20features%20from%20Training%20dataset%09%0A'))>📂 Copy</button>\n",
              "                <a href='mailto:<Share with...>?subject=Relevant external data sources from Upgini.com&body=Feature%20name%09SHAP%20value%09PSI%20value%09Coverage%20%25%09Value%20preview%09Provider%09Source%09Updates%0Aitem%090.5493%09%09100.0%0950,%2048,%2013%09%09%09%0Astore%090.2015%09%09100.0%0910,%201,%206%09%09%09%0Af_autofe_roll_3d_min_1a2ad6d8bb%090.0587%09%09100.0%090.3253,%20-0.2795,%20-0.3817%09Training%20dataset,%20Upgini%09AutoFE%3A%20features%20from%20Training%20dataset,%3Ca%20href%3D%27https%3A%2F%2Fupgini.com%2F%23data_sources%27%20target%3D%27_blank%27%20rel%3D%27noopener%20noreferrer%27%3ECalendar%20data%3C%2Fa%3E%09Daily%0Af_autofe_groupbythenmean_d5f4f809f4%090.0426%09%09100.0%090.1207,%200.0956,%200.1163%09Upgini,%20Training%20dataset%09AutoFE%3A%20feature%20from%20%3Ca%20href%3D%27https%3A%2F%2Fupgini.com%2F%23data_sources%27%20target%3D%27_blank%27%20rel%3D%27noopener%20noreferrer%27%3EMarkets%20data%3C%2Fa%3E,%20grouped%20by%20feature%20from%20training%20dataset%09Daily%0Af_events_date_year_cos1_9014a856%090.0397%09%09100.0%090.3253,%20-0.263,%20-0.3496%09Upgini%09Calendar%20data%09Daily%0Af_events_date_week_sin1_847b5db1%090.0365%09%09100.0%090.0,%20-0.4339,%20-0.9749%09Upgini%09Calendar%20data%09Daily%0Af_autofe_roll_3d_median_8e12f1e1e9%090.0235%09%09100.0%090.309,%20-0.263,%20-0.3496%09Training%20dataset,%20Upgini%09AutoFE%3A%20features%20from%20Training%20dataset,%3Ca%20href%3D%27https%3A%2F%2Fupgini.com%2F%23data_sources%27%20target%3D%27_blank%27%20rel%3D%27noopener%20noreferrer%27%3ECalendar%20data%3C%2Fa%3E%09Daily%0Af_financial_date_crude_oil_7d_to_1y_c3e0ad17%090.0163%09%09100.0%090.8935,%200.776,%201.0769%09Upgini%09Markets%20data%09Daily%0Af_autofe_groupbythenrank_110e5b8df1%090.0114%09%09100.0%090.0692,%200.2071,%200.801%09Upgini,%20Training%20dataset%09AutoFE%3A%20feature%20from%20%3Ca%20href%3D%27https%3A%2F%2Fupgini.com%2F%23data_sources%27%20target%3D%27_blank%27%20rel%3D%27noopener%20noreferrer%27%3ECalendar%20data%3C%2Fa%3E,%20grouped%20by%20feature%20from%20training%20dataset%09Daily%0Af_economic_date_cbpol_umap_6_aa0352de%090.0097%09%09100.0%092.2567,%201.8214,%206.9596%09Upgini%09World%20economic%20indicators%09Daily%0Af_events_date_year_sin2_59955ffd%090.0042%09%09100.0%09-0.6153,%200.3847,%20-0.1628%09Upgini%09Calendar%20data%09Daily%0Af_events_date_week_cos3_7525fe31%090.0041%09%09100.0%091.0,%20-0.2225,%200.6235%09Upgini%09Calendar%20data%09Daily%0Af_autofe_groupbythenmedian_64b28257d7%090.0035%09%09100.0%091.0007,%201.0008,%201.0011%09Upgini,%20Training%20dataset%09AutoFE%3A%20feature%20from%20%3Ca%20href%3D%27https%3A%2F%2Fupgini.com%2F%23data_sources%27%20target%3D%27_blank%27%20rel%3D%27noopener%20noreferrer%27%3EMarkets%20data%3C%2Fa%3E,%20grouped%20by%20feature%20from%20training%20dataset%09Daily%0Af_autofe_groupbythenrank_d595da62f7%090.0032%09%09100.0%090.3695,%200.4968,%200.1916%09Upgini,%20Training%20dataset%09AutoFE%3A%20feature%20from%20%3Ca%20href%3D%27https%3A%2F%2Fupgini.com%2F%23data_sources%27%20target%3D%27_blank%27%20rel%3D%27noopener%20noreferrer%27%3ECalendar%20data%3C%2Fa%3E,%20grouped%20by%20feature%20from%20training%20dataset%09Daily%0Af_autofe_groupbythenstd_9a84d2fd29%090.0029%09%09100.0%090.7032,%200.6807,%200.6856%09Upgini,%20Training%20dataset%09AutoFE%3A%20feature%20from%20%3Ca%20href%3D%27https%3A%2F%2Fupgini.com%2F%23data_sources%27%20target%3D%27_blank%27%20rel%3D%27noopener%20noreferrer%27%3ECalendar%20data%3C%2Fa%3E,%20grouped%20by%20feature%20from%20training%20dataset%09Daily%0Af_autofe_lag_28d_aaadd46bbb%090.0025%09%0997.10896960711638%09102.0,%2036.0,%2099.0%09Training%20dataset%09AutoFE%3A%20features%20from%20Training%20dataset%09%0Af_autofe_groupbythenrank_3729e8053b%090.0012%09%09100.0%090.3589,%200.2878,%200.3361%09Upgini,%20Training%20dataset%09AutoFE%3A%20feature%20from%20%3Ca%20href%3D%27https%3A%2F%2Fupgini.com%2F%23data_sources%27%20target%3D%27_blank%27%20rel%3D%27noopener%20noreferrer%27%3ECalendar%20data%3C%2Fa%3E,%20grouped%20by%20feature%20from%20training%20dataset%09Daily%0Af_autofe_lag_7d_4a1d9c9dff%090.0008%09%0999.19517102615694%09102.0,%2036.0,%2099.0%09Training%20dataset%09AutoFE%3A%20features%20from%20Training%20dataset%09%0Af_autofe_roll_3d_median_97804b26e6%090.0007%09%09100.0%0983.0,%20106.0,%2056.0%09Training%20dataset%09AutoFE%3A%20features%20from%20Training%20dataset%09%0A'>\n",
              "                    <button>📨 Share</button>\n",
              "                </a>\n",
              "            </div>\n",
              "            <table class='upgini-df'><thead><th>Feature name</th><th>SHAP value</th><th>Coverage %</th><th>Value preview</th><th>Provider</th><th>Source</th><th>Updates</th></thead><tbody><tr><td class='upgini-text'>item</td><td class='upgini-number'>0.5493</td><td class='upgini-number'>100.0000</td><td class='upgini-text'>50, 48, 13</td><td class='upgini-text'>&nbsp;</td><td class='upgini-text'>&nbsp;</td><td class='upgini-text'>&nbsp;</td></tr><tr><td class='upgini-text'>store</td><td class='upgini-number'>0.2015</td><td class='upgini-number'>100.0000</td><td class='upgini-text'>10, 1, 6</td><td class='upgini-text'>&nbsp;</td><td class='upgini-text'>&nbsp;</td><td class='upgini-text'>&nbsp;</td></tr><tr><td class='upgini-text'>f_autofe_roll_3d_min_1a2ad6d8bb</td><td class='upgini-number'>0.0587</td><td class='upgini-number'>100.0000</td><td class='upgini-text'>0.3253, -0.2795, -0.3817</td><td class='upgini-text'>Training dataset,<a href='https://upgini.com/' target='_blank' rel='noopener noreferrer'>Upgini</a></td><td class='upgini-text'>AutoFE: features from Training dataset,<a href='https://upgini.com/#data_sources' target='_blank' rel='noopener noreferrer'>Calendar data</a></td><td class='upgini-text'>Daily</td></tr><tr><td class='upgini-text'>f_autofe_groupbythenmean_d5f4f809f4</td><td class='upgini-number'>0.0426</td><td class='upgini-number'>100.0000</td><td class='upgini-text'>0.1207, 0.0956, 0.1163</td><td class='upgini-text'><a href='https://upgini.com/' target='_blank' rel='noopener noreferrer'>Upgini</a>,Training dataset</td><td class='upgini-text'>AutoFE: feature from <a href='https://upgini.com/#data_sources' target='_blank' rel='noopener noreferrer'>Markets data</a>, grouped by feature from training dataset</td><td class='upgini-text'>Daily</td></tr><tr><td class='upgini-text'><a href='https://docs.upgini.com/public/calendar/calendar#f_events_date_year_cos1_9014a856' target='_blank' rel='noopener noreferrer'>f_events_date_year_cos1_9014a856</a></td><td class='upgini-number'>0.0397</td><td class='upgini-number'>100.0000</td><td class='upgini-text'>0.3253, -0.263, -0.3496</td><td class='upgini-text'><a href='https://upgini.com/' target='_blank' rel='noopener noreferrer'>Upgini</a></td><td class='upgini-text'><a href='https://upgini.com/#data_sources' target='_blank' rel='noopener noreferrer'>Calendar data</a></td><td class='upgini-text'>Daily</td></tr><tr><td class='upgini-text'><a href='https://docs.upgini.com/public/calendar/calendar#f_events_date_week_sin1_847b5db1' target='_blank' rel='noopener noreferrer'>f_events_date_week_sin1_847b5db1</a></td><td class='upgini-number'>0.0365</td><td class='upgini-number'>100.0000</td><td class='upgini-text'>0.0, -0.4339, -0.9749</td><td class='upgini-text'><a href='https://upgini.com/' target='_blank' rel='noopener noreferrer'>Upgini</a></td><td class='upgini-text'><a href='https://upgini.com/#data_sources' target='_blank' rel='noopener noreferrer'>Calendar data</a></td><td class='upgini-text'>Daily</td></tr><tr><td class='upgini-text'>f_autofe_roll_3d_median_8e12f1e1e9</td><td class='upgini-number'>0.0235</td><td class='upgini-number'>100.0000</td><td class='upgini-text'>0.309, -0.263, -0.3496</td><td class='upgini-text'>Training dataset,<a href='https://upgini.com/' target='_blank' rel='noopener noreferrer'>Upgini</a></td><td class='upgini-text'>AutoFE: features from Training dataset,<a href='https://upgini.com/#data_sources' target='_blank' rel='noopener noreferrer'>Calendar data</a></td><td class='upgini-text'>Daily</td></tr><tr><td class='upgini-text'><a href='https://docs.upgini.com/public/markets/finance#f_financial_date_crude_oil_7d_to_1y_c3e0ad17' target='_blank' rel='noopener noreferrer'>f_financial_date_crude_oil_7d_to_1y_c3e0ad17</a></td><td class='upgini-number'>0.0163</td><td class='upgini-number'>100.0000</td><td class='upgini-text'>0.8935, 0.776, 1.0769</td><td class='upgini-text'><a href='https://upgini.com/' target='_blank' rel='noopener noreferrer'>Upgini</a></td><td class='upgini-text'><a href='https://upgini.com/#data_sources' target='_blank' rel='noopener noreferrer'>Markets data</a></td><td class='upgini-text'>Daily</td></tr><tr><td class='upgini-text'>f_autofe_groupbythenrank_110e5b8df1</td><td class='upgini-number'>0.0114</td><td class='upgini-number'>100.0000</td><td class='upgini-text'>0.0692, 0.2071, 0.801</td><td class='upgini-text'><a href='https://upgini.com/' target='_blank' rel='noopener noreferrer'>Upgini</a>,Training dataset</td><td class='upgini-text'>AutoFE: feature from <a href='https://upgini.com/#data_sources' target='_blank' rel='noopener noreferrer'>Calendar data</a>, grouped by feature from training dataset</td><td class='upgini-text'>Daily</td></tr><tr><td class='upgini-text'><a href='https://docs.upgini.com/public/economics/cbpol_umap#f_economic_date_cbpol_umap_6_aa0352de' target='_blank' rel='noopener noreferrer'>f_economic_date_cbpol_umap_6_aa0352de</a></td><td class='upgini-number'>0.0097</td><td class='upgini-number'>100.0000</td><td class='upgini-text'>2.2567, 1.8214, 6.9596</td><td class='upgini-text'><a href='https://upgini.com/' target='_blank' rel='noopener noreferrer'>Upgini</a></td><td class='upgini-text'><a href='https://upgini.com/#data_sources' target='_blank' rel='noopener noreferrer'>World economic indicators</a></td><td class='upgini-text'>Daily</td></tr><tr><td class='upgini-text'><a href='https://docs.upgini.com/public/calendar/calendar#f_events_date_year_sin2_59955ffd' target='_blank' rel='noopener noreferrer'>f_events_date_year_sin2_59955ffd</a></td><td class='upgini-number'>0.0042</td><td class='upgini-number'>100.0000</td><td class='upgini-text'>-0.6153, 0.3847, -0.1628</td><td class='upgini-text'><a href='https://upgini.com/' target='_blank' rel='noopener noreferrer'>Upgini</a></td><td class='upgini-text'><a href='https://upgini.com/#data_sources' target='_blank' rel='noopener noreferrer'>Calendar data</a></td><td class='upgini-text'>Daily</td></tr><tr><td class='upgini-text'><a href='https://docs.upgini.com/public/calendar/calendar#f_events_date_week_cos3_7525fe31' target='_blank' rel='noopener noreferrer'>f_events_date_week_cos3_7525fe31</a></td><td class='upgini-number'>0.0041</td><td class='upgini-number'>100.0000</td><td class='upgini-text'>1.0, -0.2225, 0.6235</td><td class='upgini-text'><a href='https://upgini.com/' target='_blank' rel='noopener noreferrer'>Upgini</a></td><td class='upgini-text'><a href='https://upgini.com/#data_sources' target='_blank' rel='noopener noreferrer'>Calendar data</a></td><td class='upgini-text'>Daily</td></tr><tr><td class='upgini-text'>f_autofe_groupbythenmedian_64b28257d7</td><td class='upgini-number'>0.0035</td><td class='upgini-number'>100.0000</td><td class='upgini-text'>1.0007, 1.0008, 1.0011</td><td class='upgini-text'><a href='https://upgini.com/' target='_blank' rel='noopener noreferrer'>Upgini</a>,Training dataset</td><td class='upgini-text'>AutoFE: feature from <a href='https://upgini.com/#data_sources' target='_blank' rel='noopener noreferrer'>Markets data</a>, grouped by feature from training dataset</td><td class='upgini-text'>Daily</td></tr><tr><td class='upgini-text'>f_autofe_groupbythenrank_d595da62f7</td><td class='upgini-number'>0.0032</td><td class='upgini-number'>100.0000</td><td class='upgini-text'>0.3695, 0.4968, 0.1916</td><td class='upgini-text'><a href='https://upgini.com/' target='_blank' rel='noopener noreferrer'>Upgini</a>,Training dataset</td><td class='upgini-text'>AutoFE: feature from <a href='https://upgini.com/#data_sources' target='_blank' rel='noopener noreferrer'>Calendar data</a>, grouped by feature from training dataset</td><td class='upgini-text'>Daily</td></tr><tr><td class='upgini-text'>f_autofe_groupbythenstd_9a84d2fd29</td><td class='upgini-number'>0.0029</td><td class='upgini-number'>100.0000</td><td class='upgini-text'>0.7032, 0.6807, 0.6856</td><td class='upgini-text'><a href='https://upgini.com/' target='_blank' rel='noopener noreferrer'>Upgini</a>,Training dataset</td><td class='upgini-text'>AutoFE: feature from <a href='https://upgini.com/#data_sources' target='_blank' rel='noopener noreferrer'>Calendar data</a>, grouped by feature from training dataset</td><td class='upgini-text'>Daily</td></tr><tr><td class='upgini-text'>f_autofe_lag_28d_aaadd46bbb</td><td class='upgini-number'>0.0025</td><td class='upgini-number'>97.1090</td><td class='upgini-text'>102.0, 36.0, 99.0</td><td class='upgini-text'>Training dataset</td><td class='upgini-text'>AutoFE: features from Training dataset</td><td class='upgini-text'>&nbsp;</td></tr><tr><td class='upgini-text'>f_autofe_groupbythenrank_3729e8053b</td><td class='upgini-number'>0.0012</td><td class='upgini-number'>100.0000</td><td class='upgini-text'>0.3589, 0.2878, 0.3361</td><td class='upgini-text'><a href='https://upgini.com/' target='_blank' rel='noopener noreferrer'>Upgini</a>,Training dataset</td><td class='upgini-text'>AutoFE: feature from <a href='https://upgini.com/#data_sources' target='_blank' rel='noopener noreferrer'>Calendar data</a>, grouped by feature from training dataset</td><td class='upgini-text'>Daily</td></tr><tr><td class='upgini-text'>f_autofe_lag_7d_4a1d9c9dff</td><td class='upgini-number'>0.0008</td><td class='upgini-number'>99.1952</td><td class='upgini-text'>102.0, 36.0, 99.0</td><td class='upgini-text'>Training dataset</td><td class='upgini-text'>AutoFE: features from Training dataset</td><td class='upgini-text'>&nbsp;</td></tr><tr><td class='upgini-text'>f_autofe_roll_3d_median_97804b26e6</td><td class='upgini-number'>0.0007</td><td class='upgini-number'>100.0000</td><td class='upgini-text'>83.0, 106.0, 56.0</td><td class='upgini-text'>Training dataset</td><td class='upgini-text'>AutoFE: features from Training dataset</td><td class='upgini-text'>&nbsp;</td></tr></tbody></table>\n",
              "        </div>\n",
              "        "
            ]
          },
          "metadata": {}
        },
        {
          "output_type": "display_data",
          "data": {
            "text/plain": [
              "<IPython.core.display.HTML object>"
            ],
            "text/html": [
              "<style>\n",
              "            .upgini-df thead th {\n",
              "                font-weight:bold;\n",
              "                text-align: center;\n",
              "                padding: 0.5em;\n",
              "                border-bottom: 2px solid black;\n",
              "            }\n",
              "\n",
              "            .upgini-df tbody td {\n",
              "                padding: 0.5em;\n",
              "                color: black;\n",
              "            }\n",
              "\n",
              "            .upgini-df tbody tr:nth-child(odd) {\n",
              "                background-color: #ffffff;\n",
              "            }\n",
              "\n",
              "            .upgini-df tbody tr:nth-child(even) {\n",
              "                background-color: #f2f2f2;\n",
              "            }\n",
              "\n",
              "            .upgini-text {\n",
              "                text-align: left;\n",
              "            }\n",
              "\n",
              "            .upgini-number {\n",
              "                text-align: center;\n",
              "            }\n",
              "        </style>\n",
              "        <h2>Relevant data sources</h2>\n",
              "        <div style=\"display:flex; flex-direction:column; align-items:flex-end; width: fit-content;\">\n",
              "            \n",
              "            <div style=\"text-align: right\">\n",
              "                <button onclick=navigator.clipboard.writeText(decodeURI('Provider%09Source%09All%20features%20SHAP%09Number%20of%20relevant%20features%0AUpgini%09Calendar%20data%090.08449999999999999%094%0ATraining%20dataset,%20Upgini%09AutoFE%3A%20features%20from%20Training%20dataset,%3Ca%20href%3D%27https%3A%2F%2Fupgini.com%2F%23data_sources%27%20target%3D%27_blank%27%20rel%3D%27noopener%20noreferrer%27%3ECalendar%20data%3C%2Fa%3E%090.0822%092%0AUpgini,%20Training%20dataset%09AutoFE%3A%20feature%20from%20%3Ca%20href%3D%27https%3A%2F%2Fupgini.com%2F%23data_sources%27%20target%3D%27_blank%27%20rel%3D%27noopener%20noreferrer%27%3EMarkets%20data%3C%2Fa%3E,%20grouped%20by%20feature%20from%20training%20dataset%090.0461%092%0AUpgini,%20Training%20dataset%09AutoFE%3A%20feature%20from%20%3Ca%20href%3D%27https%3A%2F%2Fupgini.com%2F%23data_sources%27%20target%3D%27_blank%27%20rel%3D%27noopener%20noreferrer%27%3ECalendar%20data%3C%2Fa%3E,%20grouped%20by%20feature%20from%20training%20dataset%090.0187%094%0AUpgini%09Markets%20data%090.0163%091%0AUpgini%09World%20economic%20indicators%090.0097%091%0ATraining%20dataset%09AutoFE%3A%20features%20from%20Training%20dataset%090.004%093%0A'))>📂 Copy</button>\n",
              "                <a href='mailto:<Share with...>?subject=Relevant external data sources from Upgini.com&body=Provider%09Source%09All%20features%20SHAP%09Number%20of%20relevant%20features%0AUpgini%09Calendar%20data%090.08449999999999999%094%0ATraining%20dataset,%20Upgini%09AutoFE%3A%20features%20from%20Training%20dataset,%3Ca%20href%3D%27https%3A%2F%2Fupgini.com%2F%23data_sources%27%20target%3D%27_blank%27%20rel%3D%27noopener%20noreferrer%27%3ECalendar%20data%3C%2Fa%3E%090.0822%092%0AUpgini,%20Training%20dataset%09AutoFE%3A%20feature%20from%20%3Ca%20href%3D%27https%3A%2F%2Fupgini.com%2F%23data_sources%27%20target%3D%27_blank%27%20rel%3D%27noopener%20noreferrer%27%3EMarkets%20data%3C%2Fa%3E,%20grouped%20by%20feature%20from%20training%20dataset%090.0461%092%0AUpgini,%20Training%20dataset%09AutoFE%3A%20feature%20from%20%3Ca%20href%3D%27https%3A%2F%2Fupgini.com%2F%23data_sources%27%20target%3D%27_blank%27%20rel%3D%27noopener%20noreferrer%27%3ECalendar%20data%3C%2Fa%3E,%20grouped%20by%20feature%20from%20training%20dataset%090.0187%094%0AUpgini%09Markets%20data%090.0163%091%0AUpgini%09World%20economic%20indicators%090.0097%091%0ATraining%20dataset%09AutoFE%3A%20features%20from%20Training%20dataset%090.004%093%0A'>\n",
              "                    <button>📨 Share</button>\n",
              "                </a>\n",
              "            </div>\n",
              "            <table class='upgini-df'><thead><th>Provider</th><th>Source</th><th>All features SHAP</th><th>Number of relevant features</th></thead><tbody><tr><td class='upgini-text'><a href='https://upgini.com/' target='_blank' rel='noopener noreferrer'>Upgini</a></td><td class='upgini-text'><a href='https://upgini.com/#data_sources' target='_blank' rel='noopener noreferrer'>Calendar data</a></td><td class='upgini-number'>0.0845</td><td class='upgini-number'>4</td></tr><tr><td class='upgini-text'>Training dataset,<a href='https://upgini.com/' target='_blank' rel='noopener noreferrer'>Upgini</a></td><td class='upgini-text'>AutoFE: features from Training dataset,<a href='https://upgini.com/#data_sources' target='_blank' rel='noopener noreferrer'>Calendar data</a></td><td class='upgini-number'>0.0822</td><td class='upgini-number'>2</td></tr><tr><td class='upgini-text'><a href='https://upgini.com/' target='_blank' rel='noopener noreferrer'>Upgini</a>,Training dataset</td><td class='upgini-text'>AutoFE: feature from <a href='https://upgini.com/#data_sources' target='_blank' rel='noopener noreferrer'>Markets data</a>, grouped by feature from training dataset</td><td class='upgini-number'>0.0461</td><td class='upgini-number'>2</td></tr><tr><td class='upgini-text'><a href='https://upgini.com/' target='_blank' rel='noopener noreferrer'>Upgini</a>,Training dataset</td><td class='upgini-text'>AutoFE: feature from <a href='https://upgini.com/#data_sources' target='_blank' rel='noopener noreferrer'>Calendar data</a>, grouped by feature from training dataset</td><td class='upgini-number'>0.0187</td><td class='upgini-number'>4</td></tr><tr><td class='upgini-text'><a href='https://upgini.com/' target='_blank' rel='noopener noreferrer'>Upgini</a></td><td class='upgini-text'><a href='https://upgini.com/#data_sources' target='_blank' rel='noopener noreferrer'>Markets data</a></td><td class='upgini-number'>0.0163</td><td class='upgini-number'>1</td></tr><tr><td class='upgini-text'><a href='https://upgini.com/' target='_blank' rel='noopener noreferrer'>Upgini</a></td><td class='upgini-text'><a href='https://upgini.com/#data_sources' target='_blank' rel='noopener noreferrer'>World economic indicators</a></td><td class='upgini-number'>0.0097</td><td class='upgini-number'>1</td></tr><tr><td class='upgini-text'>Training dataset</td><td class='upgini-text'>AutoFE: features from Training dataset</td><td class='upgini-number'>0.0040</td><td class='upgini-number'>3</td></tr></tbody></table>\n",
              "        </div>\n",
              "        "
            ]
          },
          "metadata": {}
        },
        {
          "output_type": "display_data",
          "data": {
            "text/plain": [
              "<IPython.core.display.HTML object>"
            ],
            "text/html": [
              "<style>\n",
              "            .upgini-df thead th {\n",
              "                font-weight:bold;\n",
              "                text-align: center;\n",
              "                padding: 0.5em;\n",
              "                border-bottom: 2px solid black;\n",
              "            }\n",
              "\n",
              "            .upgini-df tbody td {\n",
              "                padding: 0.5em;\n",
              "                color: black;\n",
              "            }\n",
              "\n",
              "            .upgini-df tbody tr:nth-child(odd) {\n",
              "                background-color: #ffffff;\n",
              "            }\n",
              "\n",
              "            .upgini-df tbody tr:nth-child(even) {\n",
              "                background-color: #f2f2f2;\n",
              "            }\n",
              "\n",
              "            .upgini-text {\n",
              "                text-align: left;\n",
              "            }\n",
              "\n",
              "            .upgini-number {\n",
              "                text-align: center;\n",
              "            }\n",
              "        </style>\n",
              "        <h2>*Description of AutoFE feature names</h2>\n",
              "        <div style=\"display:flex; flex-direction:column; align-items:flex-end; width: fit-content;\">\n",
              "            \n",
              "            <div style=\"text-align: right\">\n",
              "                <button onclick=navigator.clipboard.writeText(decodeURI('Sources%09Feature%20name%09Feature%201%09Feature%202%09Function%0ATraining%20dataset,%3Ca%20href%3D%27https%3A%2F%2Fupgini.com%2F%23data_sources%27%20target%3D%27_blank%27%20rel%3D%27noopener%20noreferrer%27%3ECalendar%20data%3C%2Fa%3E%09f_autofe_roll_3d_min_1a2ad6d8bb%09f_events_date_year_cos1_9014a856%09%09roll_3d_min%0A%3Ca%20href%3D%27https%3A%2F%2Fupgini.com%2F%23data_sources%27%20target%3D%27_blank%27%20rel%3D%27noopener%20noreferrer%27%3EMarkets%20data%3C%2Fa%3E,%20grouped%20by%20feature%20from%20training%20dataset%09f_autofe_groupbythenmean_d5f4f809f4%09f_financial_date_vix_gap_b64bd2b9%09store_824d80%09GroupByThenMean%0ATraining%20dataset,%3Ca%20href%3D%27https%3A%2F%2Fupgini.com%2F%23data_sources%27%20target%3D%27_blank%27%20rel%3D%27noopener%20noreferrer%27%3ECalendar%20data%3C%2Fa%3E%09f_autofe_roll_3d_median_8e12f1e1e9%09f_events_date_year_cos1_9014a856%09%09roll_3d_median%0A%3Ca%20href%3D%27https%3A%2F%2Fupgini.com%2F%23data_sources%27%20target%3D%27_blank%27%20rel%3D%27noopener%20noreferrer%27%3ECalendar%20data%3C%2Fa%3E,%20grouped%20by%20feature%20from%20training%20dataset%09f_autofe_groupbythenrank_110e5b8df1%09f_events_date_week_cos1_f6a8c1fc%09store_824d80%09GroupByThenRank%0A%3Ca%20href%3D%27https%3A%2F%2Fupgini.com%2F%23data_sources%27%20target%3D%27_blank%27%20rel%3D%27noopener%20noreferrer%27%3EMarkets%20data%3C%2Fa%3E,%20grouped%20by%20feature%20from%20training%20dataset%09f_autofe_groupbythenmedian_64b28257d7%09f_financial_date_usd_eur_1d_to_7d_d8b89b5d%09item_4a33ea%09GroupByThenMedian%0A%3Ca%20href%3D%27https%3A%2F%2Fupgini.com%2F%23data_sources%27%20target%3D%27_blank%27%20rel%3D%27noopener%20noreferrer%27%3ECalendar%20data%3C%2Fa%3E,%20grouped%20by%20feature%20from%20training%20dataset%09f_autofe_groupbythenrank_d595da62f7%09f_events_date_week_cos3_7525fe31%09store_824d80%09GroupByThenRank%0A%3Ca%20href%3D%27https%3A%2F%2Fupgini.com%2F%23data_sources%27%20target%3D%27_blank%27%20rel%3D%27noopener%20noreferrer%27%3ECalendar%20data%3C%2Fa%3E,%20grouped%20by%20feature%20from%20training%20dataset%09f_autofe_groupbythenstd_9a84d2fd29%09f_events_date_year_cos8_d2a83ca9%09item_4a33ea%09GroupByThenStd%0ATraining%20dataset%09f_autofe_lag_28d_aaadd46bbb%09target%09%09lag_28d%0A%3Ca%20href%3D%27https%3A%2F%2Fupgini.com%2F%23data_sources%27%20target%3D%27_blank%27%20rel%3D%27noopener%20noreferrer%27%3ECalendar%20data%3C%2Fa%3E,%20grouped%20by%20feature%20from%20training%20dataset%09f_autofe_groupbythenrank_3729e8053b%09f_events_date_week_cos1_f6a8c1fc%09item_4a33ea%09GroupByThenRank%0ATraining%20dataset%09f_autofe_lag_7d_4a1d9c9dff%09target%09%09lag_7d%0ATraining%20dataset%09f_autofe_roll_3d_median_97804b26e6%09target%09%09roll_3d_median%0A'))>📂 Copy</button>\n",
              "                <a href='mailto:<Share with...>?subject=Relevant external data sources from Upgini.com&body=Sources%09Feature%20name%09Feature%201%09Feature%202%09Function%0ATraining%20dataset,%3Ca%20href%3D%27https%3A%2F%2Fupgini.com%2F%23data_sources%27%20target%3D%27_blank%27%20rel%3D%27noopener%20noreferrer%27%3ECalendar%20data%3C%2Fa%3E%09f_autofe_roll_3d_min_1a2ad6d8bb%09f_events_date_year_cos1_9014a856%09%09roll_3d_min%0A%3Ca%20href%3D%27https%3A%2F%2Fupgini.com%2F%23data_sources%27%20target%3D%27_blank%27%20rel%3D%27noopener%20noreferrer%27%3EMarkets%20data%3C%2Fa%3E,%20grouped%20by%20feature%20from%20training%20dataset%09f_autofe_groupbythenmean_d5f4f809f4%09f_financial_date_vix_gap_b64bd2b9%09store_824d80%09GroupByThenMean%0ATraining%20dataset,%3Ca%20href%3D%27https%3A%2F%2Fupgini.com%2F%23data_sources%27%20target%3D%27_blank%27%20rel%3D%27noopener%20noreferrer%27%3ECalendar%20data%3C%2Fa%3E%09f_autofe_roll_3d_median_8e12f1e1e9%09f_events_date_year_cos1_9014a856%09%09roll_3d_median%0A%3Ca%20href%3D%27https%3A%2F%2Fupgini.com%2F%23data_sources%27%20target%3D%27_blank%27%20rel%3D%27noopener%20noreferrer%27%3ECalendar%20data%3C%2Fa%3E,%20grouped%20by%20feature%20from%20training%20dataset%09f_autofe_groupbythenrank_110e5b8df1%09f_events_date_week_cos1_f6a8c1fc%09store_824d80%09GroupByThenRank%0A%3Ca%20href%3D%27https%3A%2F%2Fupgini.com%2F%23data_sources%27%20target%3D%27_blank%27%20rel%3D%27noopener%20noreferrer%27%3EMarkets%20data%3C%2Fa%3E,%20grouped%20by%20feature%20from%20training%20dataset%09f_autofe_groupbythenmedian_64b28257d7%09f_financial_date_usd_eur_1d_to_7d_d8b89b5d%09item_4a33ea%09GroupByThenMedian%0A%3Ca%20href%3D%27https%3A%2F%2Fupgini.com%2F%23data_sources%27%20target%3D%27_blank%27%20rel%3D%27noopener%20noreferrer%27%3ECalendar%20data%3C%2Fa%3E,%20grouped%20by%20feature%20from%20training%20dataset%09f_autofe_groupbythenrank_d595da62f7%09f_events_date_week_cos3_7525fe31%09store_824d80%09GroupByThenRank%0A%3Ca%20href%3D%27https%3A%2F%2Fupgini.com%2F%23data_sources%27%20target%3D%27_blank%27%20rel%3D%27noopener%20noreferrer%27%3ECalendar%20data%3C%2Fa%3E,%20grouped%20by%20feature%20from%20training%20dataset%09f_autofe_groupbythenstd_9a84d2fd29%09f_events_date_year_cos8_d2a83ca9%09item_4a33ea%09GroupByThenStd%0ATraining%20dataset%09f_autofe_lag_28d_aaadd46bbb%09target%09%09lag_28d%0A%3Ca%20href%3D%27https%3A%2F%2Fupgini.com%2F%23data_sources%27%20target%3D%27_blank%27%20rel%3D%27noopener%20noreferrer%27%3ECalendar%20data%3C%2Fa%3E,%20grouped%20by%20feature%20from%20training%20dataset%09f_autofe_groupbythenrank_3729e8053b%09f_events_date_week_cos1_f6a8c1fc%09item_4a33ea%09GroupByThenRank%0ATraining%20dataset%09f_autofe_lag_7d_4a1d9c9dff%09target%09%09lag_7d%0ATraining%20dataset%09f_autofe_roll_3d_median_97804b26e6%09target%09%09roll_3d_median%0A'>\n",
              "                    <button>📨 Share</button>\n",
              "                </a>\n",
              "            </div>\n",
              "            <table class='upgini-df'><thead><th>Sources</th><th>Feature name</th><th>Feature 1</th><th>Feature 2</th><th>Function</th></thead><tbody><tr><td class='upgini-text'>Training dataset,<a href='https://upgini.com/#data_sources' target='_blank' rel='noopener noreferrer'>Calendar data</a></td><td class='upgini-text'>f_autofe_roll_3d_min_1a2ad6d8bb</td><td class='upgini-text'>f_events_date_year_cos1_9014a856</td><td class='upgini-text'>&nbsp;</td><td class='upgini-text'>roll_3d_min</td></tr><tr><td class='upgini-text'><a href='https://upgini.com/#data_sources' target='_blank' rel='noopener noreferrer'>Markets data</a>, grouped by feature from training dataset</td><td class='upgini-text'>f_autofe_groupbythenmean_d5f4f809f4</td><td class='upgini-text'>f_financial_date_vix_gap_b64bd2b9</td><td class='upgini-text'>store_824d80</td><td class='upgini-text'>GroupByThenMean</td></tr><tr><td class='upgini-text'>Training dataset,<a href='https://upgini.com/#data_sources' target='_blank' rel='noopener noreferrer'>Calendar data</a></td><td class='upgini-text'>f_autofe_roll_3d_median_8e12f1e1e9</td><td class='upgini-text'>f_events_date_year_cos1_9014a856</td><td class='upgini-text'>&nbsp;</td><td class='upgini-text'>roll_3d_median</td></tr><tr><td class='upgini-text'><a href='https://upgini.com/#data_sources' target='_blank' rel='noopener noreferrer'>Calendar data</a>, grouped by feature from training dataset</td><td class='upgini-text'>f_autofe_groupbythenrank_110e5b8df1</td><td class='upgini-text'>f_events_date_week_cos1_f6a8c1fc</td><td class='upgini-text'>store_824d80</td><td class='upgini-text'>GroupByThenRank</td></tr><tr><td class='upgini-text'><a href='https://upgini.com/#data_sources' target='_blank' rel='noopener noreferrer'>Markets data</a>, grouped by feature from training dataset</td><td class='upgini-text'>f_autofe_groupbythenmedian_64b28257d7</td><td class='upgini-text'>f_financial_date_usd_eur_1d_to_7d_d8b89b5d</td><td class='upgini-text'>item_4a33ea</td><td class='upgini-text'>GroupByThenMedian</td></tr><tr><td class='upgini-text'><a href='https://upgini.com/#data_sources' target='_blank' rel='noopener noreferrer'>Calendar data</a>, grouped by feature from training dataset</td><td class='upgini-text'>f_autofe_groupbythenrank_d595da62f7</td><td class='upgini-text'>f_events_date_week_cos3_7525fe31</td><td class='upgini-text'>store_824d80</td><td class='upgini-text'>GroupByThenRank</td></tr><tr><td class='upgini-text'><a href='https://upgini.com/#data_sources' target='_blank' rel='noopener noreferrer'>Calendar data</a>, grouped by feature from training dataset</td><td class='upgini-text'>f_autofe_groupbythenstd_9a84d2fd29</td><td class='upgini-text'>f_events_date_year_cos8_d2a83ca9</td><td class='upgini-text'>item_4a33ea</td><td class='upgini-text'>GroupByThenStd</td></tr><tr><td class='upgini-text'>Training dataset</td><td class='upgini-text'>f_autofe_lag_28d_aaadd46bbb</td><td class='upgini-text'>target</td><td class='upgini-text'>&nbsp;</td><td class='upgini-text'>lag_28d</td></tr><tr><td class='upgini-text'><a href='https://upgini.com/#data_sources' target='_blank' rel='noopener noreferrer'>Calendar data</a>, grouped by feature from training dataset</td><td class='upgini-text'>f_autofe_groupbythenrank_3729e8053b</td><td class='upgini-text'>f_events_date_week_cos1_f6a8c1fc</td><td class='upgini-text'>item_4a33ea</td><td class='upgini-text'>GroupByThenRank</td></tr><tr><td class='upgini-text'>Training dataset</td><td class='upgini-text'>f_autofe_lag_7d_4a1d9c9dff</td><td class='upgini-text'>target</td><td class='upgini-text'>&nbsp;</td><td class='upgini-text'>lag_7d</td></tr><tr><td class='upgini-text'>Training dataset</td><td class='upgini-text'>f_autofe_roll_3d_median_97804b26e6</td><td class='upgini-text'>target</td><td class='upgini-text'>&nbsp;</td><td class='upgini-text'>roll_3d_median</td></tr></tbody></table>\n",
              "        </div>\n",
              "        "
            ]
          },
          "metadata": {}
        },
        {
          "output_type": "display_data",
          "data": {
            "text/plain": [
              "<IPython.core.display.HTML object>"
            ],
            "text/html": [
              "<a download=\"upgini-report-6ca02a21-8227-48d7-812a-366546fe2a70.pdf\" href=\"data:application/pdf;base64,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\" target=\"_blank\">\n",
              "            <button>📊 Download PDF report</button></a>"
            ]
          },
          "metadata": {}
        },
        {
          "output_type": "stream",
          "name": "stdout",
          "text": [
            "Unregistered-user limit: 1000 rows remaining; you requested 15213.\n"
          ]
        },
        {
          "output_type": "display_data",
          "data": {
            "text/plain": [
              "<IPython.core.display.HTML object>"
            ],
            "text/html": [
              "\n",
              "                <style>\n",
              "                    button.custom-button {\n",
              "                        border: 1px solid #d00 !important;\n",
              "                        background: #fff !important;\n",
              "                        color: #d00 !important;\n",
              "                        white-space: nowrap;\n",
              "                    }\n",
              "                </style>\n",
              "            "
            ]
          },
          "metadata": {}
        },
        {
          "output_type": "display_data",
          "data": {
            "text/plain": [
              "Button(description='Get an API KEY', layout=Layout(width='auto'), style=ButtonStyle(), tooltip='Register', _do…"
            ],
            "application/vnd.jupyter.widget-view+json": {
              "version_major": 2,
              "version_minor": 0,
              "model_id": "ac4f7246c27345748596fabbebca9b24"
            }
          },
          "metadata": {}
        },
        {
          "output_type": "display_data",
          "data": {
            "text/plain": [
              "[============================================================] 100% Finished"
            ],
            "text/html": [
              "<progress style='width:60ex' max='100' value='100'></progress>  100% Finished</br>"
            ]
          },
          "metadata": {}
        },
        {
          "output_type": "stream",
          "name": "stdout",
          "text": [
            "Unregistered-user limit: 1000 rows remaining; you requested 3787.\n"
          ]
        },
        {
          "output_type": "display_data",
          "data": {
            "text/plain": [
              "<IPython.core.display.HTML object>"
            ],
            "text/html": [
              "\n",
              "                <style>\n",
              "                    button.custom-button {\n",
              "                        border: 1px solid #d00 !important;\n",
              "                        background: #fff !important;\n",
              "                        color: #d00 !important;\n",
              "                        white-space: nowrap;\n",
              "                    }\n",
              "                </style>\n",
              "            "
            ]
          },
          "metadata": {}
        },
        {
          "output_type": "display_data",
          "data": {
            "text/plain": [
              "Button(description='Get an API KEY', layout=Layout(width='auto'), style=ButtonStyle(), tooltip='Register', _do…"
            ],
            "application/vnd.jupyter.widget-view+json": {
              "version_major": 2,
              "version_minor": 0,
              "model_id": "8b6ee1edf38442b08486defd7b16d5ce"
            }
          },
          "metadata": {}
        },
        {
          "output_type": "stream",
          "name": "stdout",
          "text": [
            "Enriched features are None - checking alternative methods...\n",
            "Alternative method also failed: 'FeaturesEnricher' object has no attribute '_fit'\n"
          ]
        }
      ]
    },
    {
      "cell_type": "code",
      "source": [
        "model.fit(train_features, train_target)\n",
        "preds = model.predict(test_features)\n",
        "eval_metric(test_target.values, preds, \"SMAPE\")"
      ],
      "metadata": {
        "colab": {
          "base_uri": "https://localhost:8080/"
        },
        "id": "fFlnsILGKMid",
        "outputId": "42ee5a8b-fd23-4572-fa01-9ea142499d7f"
      },
      "execution_count": 13,
      "outputs": [
        {
          "output_type": "execute_result",
          "data": {
            "text/plain": [
              "[37.65141857448004]"
            ]
          },
          "metadata": {},
          "execution_count": 13
        }
      ]
    },
    {
      "cell_type": "code",
      "source": [
        "# First, verify that enriched features are not None\n",
        "print(f\"enriched_train_features type: {type(enriched_train_features)}\")\n",
        "print(f\"enriched_test_features type: {type(enriched_test_features)}\")\n",
        "\n",
        "# If enriched features are None, use original features as fallback\n",
        "if enriched_train_features is None or enriched_test_features is None:\n",
        "    print(\"Using original features as fallback since enrichment failed\")\n",
        "    model.fit(train_features, train_target)\n",
        "    predictions = model.predict(test_features)\n",
        "else:\n",
        "    print(\"Using enriched features for training\")\n",
        "    model.fit(enriched_train_features, train_target)\n",
        "    predictions = model.predict(enriched_test_features)\n",
        "\n",
        "# Calculate MAPE\n",
        "mape = eval_metric(test_target.values, predictions, \"SMAPE\")\n",
        "print(f\"SMAPE: {mape}\")"
      ],
      "metadata": {
        "colab": {
          "base_uri": "https://localhost:8080/"
        },
        "id": "qb2vWEBIK0LR",
        "outputId": "b43a1250-2222-432e-d30c-5e00d67fac76"
      },
      "execution_count": 15,
      "outputs": [
        {
          "output_type": "stream",
          "name": "stdout",
          "text": [
            "enriched_train_features type: <class 'NoneType'>\n",
            "enriched_test_features type: <class 'NoneType'>\n",
            "Using original features as fallback since enrichment failed\n",
            "SMAPE: [37.65141857448004]\n"
          ]
        }
      ]
    },
    {
      "cell_type": "code",
      "source": [
        "# 1. Install Libraries\n",
        "# - Install and update Upgini (for feature enrichment)\n",
        "# - Install and update CatBoost (for sales prediction modeling)\n",
        "\n",
        "# 2. Read & Prepare Data\n",
        "# - Load dataset from local file or GitHub\n",
        "# - Take a sample of 19,000 rows to reduce size\n",
        "# - Convert 'store' and 'item' to string\n",
        "# - Convert 'date' to datetime format\n",
        "# - Sort by date and reset index\n",
        "# - Display first 5 rows\n",
        "\n",
        "# 3. Split Data (Train/Test)\n",
        "# - Train set = rows before 2017\n",
        "# - Test set = rows from 2017 onwards\n",
        "# - Separate features (X) from target 'sales' (y)\n",
        "\n",
        "# 4. Feature Enrichment with Upgini\n",
        "# - Define 'date' as the time key\n",
        "# - Use time series cross-validation\n",
        "# - Fit the enricher on training data and validate on test data\n",
        "# - Goal: add external features (e.g., weather, holidays) to improve accuracy\n",
        "\n",
        "# 5. Define CatBoost Model\n",
        "# - Create CatBoost Regressor for numerical prediction\n",
        "# - Set verbose=False to hide logs\n",
        "# - Set random_state=0 for reproducibility\n",
        "\n",
        "# 6. Evaluate Upgini + CatBoost\n",
        "# - Measure model performance with MAPE (Mean Absolute Percentage Error)\n",
        "# - Purpose: compare accuracy before vs after enrichment\n",
        "\n",
        "# 7. Train Model Without Enrichment\n",
        "# - Train CatBoost on original train set\n",
        "# - Predict sales on test set\n",
        "# - Evaluate with SMAPE (Symmetric Mean Absolute Percentage Error)\n",
        "\n",
        "# 8. Train Model With Enriched Features\n",
        "# - Train CatBoost on enriched train set\n",
        "# - Predict on enriched test set\n",
        "# - Re-evaluate with SMAPE to check performance improvement\n"
      ],
      "metadata": {
        "id": "nB2R6LLzN3wx"
      },
      "execution_count": null,
      "outputs": []
    }
  ]
}