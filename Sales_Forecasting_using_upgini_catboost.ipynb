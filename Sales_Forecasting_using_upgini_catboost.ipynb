{
  "nbformat": 4,
  "nbformat_minor": 0,
  "metadata": {
    "colab": {
      "provenance": [],
      "authorship_tag": "ABX9TyP6OZJPmECbbjQyyoD3dkGq",
      "include_colab_link": true
    },
    "kernelspec": {
      "name": "python3",
      "display_name": "Python 3"
    },
    "language_info": {
      "name": "python"
    }
  },
  "cells": [
    {
      "cell_type": "markdown",
      "metadata": {
        "id": "view-in-github",
        "colab_type": "text"
      },
      "source": [
        "<a href=\"https://colab.research.google.com/github/AIDA2812/Sales_Forecasting_using_upgini_catboost/blob/main/Sales_Forecasting_using_upgini_catboost.ipynb\" target=\"_parent\"><img src=\"https://colab.research.google.com/assets/colab-badge.svg\" alt=\"Open In Colab\"/></a>"
      ]
    },
    {
      "cell_type": "code",
      "execution_count": 4,
      "metadata": {
        "id": "Qbqu5p8Tbbrw",
        "colab": {
          "base_uri": "https://localhost:8080/"
        },
        "outputId": "a78ae08c-ff0d-4259-bc12-d9cc94fb4a12"
      },
      "outputs": [
        {
          "output_type": "stream",
          "name": "stdout",
          "text": [
            "\u001b[2K     \u001b[90m━━━━━━━━━━━━━━━━━━━━━━━━━━━━━━━━━━━━━━━━\u001b[0m \u001b[32m51.1/51.1 kB\u001b[0m \u001b[31m1.3 MB/s\u001b[0m eta \u001b[36m0:00:00\u001b[0m\n",
            "\u001b[2K   \u001b[90m━━━━━━━━━━━━━━━━━━━━━━━━━━━━━━━━━━━━━━━━\u001b[0m \u001b[32m303.3/303.3 kB\u001b[0m \u001b[31m5.0 MB/s\u001b[0m eta \u001b[36m0:00:00\u001b[0m\n",
            "\u001b[2K   \u001b[90m━━━━━━━━━━━━━━━━━━━━━━━━━━━━━━━━━━━━━━━━\u001b[0m \u001b[32m65.3/65.3 kB\u001b[0m \u001b[31m3.1 MB/s\u001b[0m eta \u001b[36m0:00:00\u001b[0m\n",
            "\u001b[2K   \u001b[90m━━━━━━━━━━━━━━━━━━━━━━━━━━━━━━━━━━━━━━━━\u001b[0m \u001b[32m99.2/99.2 MB\u001b[0m \u001b[31m6.9 MB/s\u001b[0m eta \u001b[36m0:00:00\u001b[0m\n",
            "\u001b[2K   \u001b[90m━━━━━━━━━━━━━━━━━━━━━━━━━━━━━━━━━━━━━━━━\u001b[0m \u001b[32m85.7/85.7 kB\u001b[0m \u001b[31m7.2 MB/s\u001b[0m eta \u001b[36m0:00:00\u001b[0m\n",
            "\u001b[2K   \u001b[90m━━━━━━━━━━━━━━━━━━━━━━━━━━━━━━━━━━━━━━━━\u001b[0m \u001b[32m1.8/1.8 MB\u001b[0m \u001b[31m78.2 MB/s\u001b[0m eta \u001b[36m0:00:00\u001b[0m\n",
            "\u001b[2K   \u001b[90m━━━━━━━━━━━━━━━━━━━━━━━━━━━━━━━━━━━━━━━━\u001b[0m \u001b[32m139.8/139.8 kB\u001b[0m \u001b[31m11.9 MB/s\u001b[0m eta \u001b[36m0:00:00\u001b[0m\n",
            "\u001b[2K   \u001b[90m━━━━━━━━━━━━━━━━━━━━━━━━━━━━━━━━━━━━━━━━\u001b[0m \u001b[32m159.9/159.9 kB\u001b[0m \u001b[31m13.8 MB/s\u001b[0m eta \u001b[36m0:00:00\u001b[0m\n",
            "\u001b[2K   \u001b[90m━━━━━━━━━━━━━━━━━━━━━━━━━━━━━━━━━━━━━━━━\u001b[0m \u001b[32m125.0/125.0 kB\u001b[0m \u001b[31m11.8 MB/s\u001b[0m eta \u001b[36m0:00:00\u001b[0m\n",
            "\u001b[2K   \u001b[90m━━━━━━━━━━━━━━━━━━━━━━━━━━━━━━━━━━━━━━━━\u001b[0m \u001b[32m466.2/466.2 kB\u001b[0m \u001b[31m32.4 MB/s\u001b[0m eta \u001b[36m0:00:00\u001b[0m\n",
            "\u001b[2K   \u001b[90m━━━━━━━━━━━━━━━━━━━━━━━━━━━━━━━━━━━━━━━━\u001b[0m \u001b[32m111.8/111.8 kB\u001b[0m \u001b[31m9.2 MB/s\u001b[0m eta \u001b[36m0:00:00\u001b[0m\n",
            "\u001b[2K   \u001b[90m━━━━━━━━━━━━━━━━━━━━━━━━━━━━━━━━━━━━━━━━\u001b[0m \u001b[32m323.5/323.5 kB\u001b[0m \u001b[31m25.5 MB/s\u001b[0m eta \u001b[36m0:00:00\u001b[0m\n",
            "\u001b[2K   \u001b[90m━━━━━━━━━━━━━━━━━━━━━━━━━━━━━━━━━━━━━━━━\u001b[0m \u001b[32m3.2/3.2 MB\u001b[0m \u001b[31m99.4 MB/s\u001b[0m eta \u001b[36m0:00:00\u001b[0m\n",
            "\u001b[2K   \u001b[90m━━━━━━━━━━━━━━━━━━━━━━━━━━━━━━━━━━━━━━━━\u001b[0m \u001b[32m2.0/2.0 MB\u001b[0m \u001b[31m85.8 MB/s\u001b[0m eta \u001b[36m0:00:00\u001b[0m\n",
            "\u001b[2K   \u001b[90m━━━━━━━━━━━━━━━━━━━━━━━━━━━━━━━━━━━━━━━━\u001b[0m \u001b[32m2.2/2.2 MB\u001b[0m \u001b[31m82.7 MB/s\u001b[0m eta \u001b[36m0:00:00\u001b[0m\n",
            "\u001b[2K   \u001b[90m━━━━━━━━━━━━━━━━━━━━━━━━━━━━━━━━━━━━━━━━\u001b[0m \u001b[32m105.0/105.0 kB\u001b[0m \u001b[31m8.7 MB/s\u001b[0m eta \u001b[36m0:00:00\u001b[0m\n",
            "\u001b[2K   \u001b[90m━━━━━━━━━━━━━━━━━━━━━━━━━━━━━━━━━━━━━━━━\u001b[0m \u001b[32m1.6/1.6 MB\u001b[0m \u001b[31m70.8 MB/s\u001b[0m eta \u001b[36m0:00:00\u001b[0m\n",
            "\u001b[2K   \u001b[90m━━━━━━━━━━━━━━━━━━━━━━━━━━━━━━━━━━━━━━━━\u001b[0m \u001b[32m5.3/5.3 MB\u001b[0m \u001b[31m95.0 MB/s\u001b[0m eta \u001b[36m0:00:00\u001b[0m\n",
            "\u001b[2K   \u001b[90m━━━━━━━━━━━━━━━━━━━━━━━━━━━━━━━━━━━━━━━━\u001b[0m \u001b[32m194.6/194.6 kB\u001b[0m \u001b[31m14.1 MB/s\u001b[0m eta \u001b[36m0:00:00\u001b[0m\n",
            "\u001b[2K   \u001b[90m━━━━━━━━━━━━━━━━━━━━━━━━━━━━━━━━━━━━━━━━\u001b[0m \u001b[32m1.0/1.0 MB\u001b[0m \u001b[31m51.1 MB/s\u001b[0m eta \u001b[36m0:00:00\u001b[0m\n",
            "\u001b[?25h"
          ]
        }
      ],
      "source": [
        "%pip install -Uq upgini\n",
        "\n",
        "%pip install -Uq catboost\n"
      ]
    },
    {
      "cell_type": "code",
      "source": [
        "from os.path import exists\n",
        "import pandas as pd\n",
        "df_path = \"train.csv.zip\" if exists(\"train.csv.zip\") else \"https://github.com/upgini/upgini/raw/main/notebooks/train.csv.zip\"\n",
        "df = pd.read_csv(df_path)\n",
        "df = df.sample(n=19_000, random_state=0)\n",
        "df[\"store\"] = df[\"store\"].astype(str)\n",
        "df[\"item\"] = df[\"item\"].astype(str)\n",
        "\n",
        "df[\"date\"] = pd.to_datetime(df[\"date\"])\n",
        "df.sort_values(\"date\", inplace=True)\n",
        "df.reset_index(inplace=True, drop=True)\n",
        "df.head()\n",
        "\n"
      ],
      "metadata": {
        "colab": {
          "base_uri": "https://localhost:8080/",
          "height": 206
        },
        "id": "YEIDO5vHjRV4",
        "outputId": "c99f4d5c-0944-4d70-ea78-d7f10980a51c"
      },
      "execution_count": 5,
      "outputs": [
        {
          "output_type": "execute_result",
          "data": {
            "text/plain": [
              "        date store item  sales\n",
              "0 2013-01-01     7    5      5\n",
              "1 2013-01-01     4    9     19\n",
              "2 2013-01-01     1   33     37\n",
              "3 2013-01-01     3   41     14\n",
              "4 2013-01-01     5   24     26"
            ],
            "text/html": [
              "\n",
              "  <div id=\"df-a5852346-7ffd-4076-88da-c1aac82e62e3\" class=\"colab-df-container\">\n",
              "    <div>\n",
              "<style scoped>\n",
              "    .dataframe tbody tr th:only-of-type {\n",
              "        vertical-align: middle;\n",
              "    }\n",
              "\n",
              "    .dataframe tbody tr th {\n",
              "        vertical-align: top;\n",
              "    }\n",
              "\n",
              "    .dataframe thead th {\n",
              "        text-align: right;\n",
              "    }\n",
              "</style>\n",
              "<table border=\"1\" class=\"dataframe\">\n",
              "  <thead>\n",
              "    <tr style=\"text-align: right;\">\n",
              "      <th></th>\n",
              "      <th>date</th>\n",
              "      <th>store</th>\n",
              "      <th>item</th>\n",
              "      <th>sales</th>\n",
              "    </tr>\n",
              "  </thead>\n",
              "  <tbody>\n",
              "    <tr>\n",
              "      <th>0</th>\n",
              "      <td>2013-01-01</td>\n",
              "      <td>7</td>\n",
              "      <td>5</td>\n",
              "      <td>5</td>\n",
              "    </tr>\n",
              "    <tr>\n",
              "      <th>1</th>\n",
              "      <td>2013-01-01</td>\n",
              "      <td>4</td>\n",
              "      <td>9</td>\n",
              "      <td>19</td>\n",
              "    </tr>\n",
              "    <tr>\n",
              "      <th>2</th>\n",
              "      <td>2013-01-01</td>\n",
              "      <td>1</td>\n",
              "      <td>33</td>\n",
              "      <td>37</td>\n",
              "    </tr>\n",
              "    <tr>\n",
              "      <th>3</th>\n",
              "      <td>2013-01-01</td>\n",
              "      <td>3</td>\n",
              "      <td>41</td>\n",
              "      <td>14</td>\n",
              "    </tr>\n",
              "    <tr>\n",
              "      <th>4</th>\n",
              "      <td>2013-01-01</td>\n",
              "      <td>5</td>\n",
              "      <td>24</td>\n",
              "      <td>26</td>\n",
              "    </tr>\n",
              "  </tbody>\n",
              "</table>\n",
              "</div>\n",
              "    <div class=\"colab-df-buttons\">\n",
              "\n",
              "  <div class=\"colab-df-container\">\n",
              "    <button class=\"colab-df-convert\" onclick=\"convertToInteractive('df-a5852346-7ffd-4076-88da-c1aac82e62e3')\"\n",
              "            title=\"Convert this dataframe to an interactive table.\"\n",
              "            style=\"display:none;\">\n",
              "\n",
              "  <svg xmlns=\"http://www.w3.org/2000/svg\" height=\"24px\" viewBox=\"0 -960 960 960\">\n",
              "    <path d=\"M120-120v-720h720v720H120Zm60-500h600v-160H180v160Zm220 220h160v-160H400v160Zm0 220h160v-160H400v160ZM180-400h160v-160H180v160Zm440 0h160v-160H620v160ZM180-180h160v-160H180v160Zm440 0h160v-160H620v160Z\"/>\n",
              "  </svg>\n",
              "    </button>\n",
              "\n",
              "  <style>\n",
              "    .colab-df-container {\n",
              "      display:flex;\n",
              "      gap: 12px;\n",
              "    }\n",
              "\n",
              "    .colab-df-convert {\n",
              "      background-color: #E8F0FE;\n",
              "      border: none;\n",
              "      border-radius: 50%;\n",
              "      cursor: pointer;\n",
              "      display: none;\n",
              "      fill: #1967D2;\n",
              "      height: 32px;\n",
              "      padding: 0 0 0 0;\n",
              "      width: 32px;\n",
              "    }\n",
              "\n",
              "    .colab-df-convert:hover {\n",
              "      background-color: #E2EBFA;\n",
              "      box-shadow: 0px 1px 2px rgba(60, 64, 67, 0.3), 0px 1px 3px 1px rgba(60, 64, 67, 0.15);\n",
              "      fill: #174EA6;\n",
              "    }\n",
              "\n",
              "    .colab-df-buttons div {\n",
              "      margin-bottom: 4px;\n",
              "    }\n",
              "\n",
              "    [theme=dark] .colab-df-convert {\n",
              "      background-color: #3B4455;\n",
              "      fill: #D2E3FC;\n",
              "    }\n",
              "\n",
              "    [theme=dark] .colab-df-convert:hover {\n",
              "      background-color: #434B5C;\n",
              "      box-shadow: 0px 1px 3px 1px rgba(0, 0, 0, 0.15);\n",
              "      filter: drop-shadow(0px 1px 2px rgba(0, 0, 0, 0.3));\n",
              "      fill: #FFFFFF;\n",
              "    }\n",
              "  </style>\n",
              "\n",
              "    <script>\n",
              "      const buttonEl =\n",
              "        document.querySelector('#df-a5852346-7ffd-4076-88da-c1aac82e62e3 button.colab-df-convert');\n",
              "      buttonEl.style.display =\n",
              "        google.colab.kernel.accessAllowed ? 'block' : 'none';\n",
              "\n",
              "      async function convertToInteractive(key) {\n",
              "        const element = document.querySelector('#df-a5852346-7ffd-4076-88da-c1aac82e62e3');\n",
              "        const dataTable =\n",
              "          await google.colab.kernel.invokeFunction('convertToInteractive',\n",
              "                                                    [key], {});\n",
              "        if (!dataTable) return;\n",
              "\n",
              "        const docLinkHtml = 'Like what you see? Visit the ' +\n",
              "          '<a target=\"_blank\" href=https://colab.research.google.com/notebooks/data_table.ipynb>data table notebook</a>'\n",
              "          + ' to learn more about interactive tables.';\n",
              "        element.innerHTML = '';\n",
              "        dataTable['output_type'] = 'display_data';\n",
              "        await google.colab.output.renderOutput(dataTable, element);\n",
              "        const docLink = document.createElement('div');\n",
              "        docLink.innerHTML = docLinkHtml;\n",
              "        element.appendChild(docLink);\n",
              "      }\n",
              "    </script>\n",
              "  </div>\n",
              "\n",
              "\n",
              "    <div id=\"df-a7a48b5e-8c80-486c-948b-f3e06e93cfae\">\n",
              "      <button class=\"colab-df-quickchart\" onclick=\"quickchart('df-a7a48b5e-8c80-486c-948b-f3e06e93cfae')\"\n",
              "                title=\"Suggest charts\"\n",
              "                style=\"display:none;\">\n",
              "\n",
              "<svg xmlns=\"http://www.w3.org/2000/svg\" height=\"24px\"viewBox=\"0 0 24 24\"\n",
              "     width=\"24px\">\n",
              "    <g>\n",
              "        <path d=\"M19 3H5c-1.1 0-2 .9-2 2v14c0 1.1.9 2 2 2h14c1.1 0 2-.9 2-2V5c0-1.1-.9-2-2-2zM9 17H7v-7h2v7zm4 0h-2V7h2v10zm4 0h-2v-4h2v4z\"/>\n",
              "    </g>\n",
              "</svg>\n",
              "      </button>\n",
              "\n",
              "<style>\n",
              "  .colab-df-quickchart {\n",
              "      --bg-color: #E8F0FE;\n",
              "      --fill-color: #1967D2;\n",
              "      --hover-bg-color: #E2EBFA;\n",
              "      --hover-fill-color: #174EA6;\n",
              "      --disabled-fill-color: #AAA;\n",
              "      --disabled-bg-color: #DDD;\n",
              "  }\n",
              "\n",
              "  [theme=dark] .colab-df-quickchart {\n",
              "      --bg-color: #3B4455;\n",
              "      --fill-color: #D2E3FC;\n",
              "      --hover-bg-color: #434B5C;\n",
              "      --hover-fill-color: #FFFFFF;\n",
              "      --disabled-bg-color: #3B4455;\n",
              "      --disabled-fill-color: #666;\n",
              "  }\n",
              "\n",
              "  .colab-df-quickchart {\n",
              "    background-color: var(--bg-color);\n",
              "    border: none;\n",
              "    border-radius: 50%;\n",
              "    cursor: pointer;\n",
              "    display: none;\n",
              "    fill: var(--fill-color);\n",
              "    height: 32px;\n",
              "    padding: 0;\n",
              "    width: 32px;\n",
              "  }\n",
              "\n",
              "  .colab-df-quickchart:hover {\n",
              "    background-color: var(--hover-bg-color);\n",
              "    box-shadow: 0 1px 2px rgba(60, 64, 67, 0.3), 0 1px 3px 1px rgba(60, 64, 67, 0.15);\n",
              "    fill: var(--button-hover-fill-color);\n",
              "  }\n",
              "\n",
              "  .colab-df-quickchart-complete:disabled,\n",
              "  .colab-df-quickchart-complete:disabled:hover {\n",
              "    background-color: var(--disabled-bg-color);\n",
              "    fill: var(--disabled-fill-color);\n",
              "    box-shadow: none;\n",
              "  }\n",
              "\n",
              "  .colab-df-spinner {\n",
              "    border: 2px solid var(--fill-color);\n",
              "    border-color: transparent;\n",
              "    border-bottom-color: var(--fill-color);\n",
              "    animation:\n",
              "      spin 1s steps(1) infinite;\n",
              "  }\n",
              "\n",
              "  @keyframes spin {\n",
              "    0% {\n",
              "      border-color: transparent;\n",
              "      border-bottom-color: var(--fill-color);\n",
              "      border-left-color: var(--fill-color);\n",
              "    }\n",
              "    20% {\n",
              "      border-color: transparent;\n",
              "      border-left-color: var(--fill-color);\n",
              "      border-top-color: var(--fill-color);\n",
              "    }\n",
              "    30% {\n",
              "      border-color: transparent;\n",
              "      border-left-color: var(--fill-color);\n",
              "      border-top-color: var(--fill-color);\n",
              "      border-right-color: var(--fill-color);\n",
              "    }\n",
              "    40% {\n",
              "      border-color: transparent;\n",
              "      border-right-color: var(--fill-color);\n",
              "      border-top-color: var(--fill-color);\n",
              "    }\n",
              "    60% {\n",
              "      border-color: transparent;\n",
              "      border-right-color: var(--fill-color);\n",
              "    }\n",
              "    80% {\n",
              "      border-color: transparent;\n",
              "      border-right-color: var(--fill-color);\n",
              "      border-bottom-color: var(--fill-color);\n",
              "    }\n",
              "    90% {\n",
              "      border-color: transparent;\n",
              "      border-bottom-color: var(--fill-color);\n",
              "    }\n",
              "  }\n",
              "</style>\n",
              "\n",
              "      <script>\n",
              "        async function quickchart(key) {\n",
              "          const quickchartButtonEl =\n",
              "            document.querySelector('#' + key + ' button');\n",
              "          quickchartButtonEl.disabled = true;  // To prevent multiple clicks.\n",
              "          quickchartButtonEl.classList.add('colab-df-spinner');\n",
              "          try {\n",
              "            const charts = await google.colab.kernel.invokeFunction(\n",
              "                'suggestCharts', [key], {});\n",
              "          } catch (error) {\n",
              "            console.error('Error during call to suggestCharts:', error);\n",
              "          }\n",
              "          quickchartButtonEl.classList.remove('colab-df-spinner');\n",
              "          quickchartButtonEl.classList.add('colab-df-quickchart-complete');\n",
              "        }\n",
              "        (() => {\n",
              "          let quickchartButtonEl =\n",
              "            document.querySelector('#df-a7a48b5e-8c80-486c-948b-f3e06e93cfae button');\n",
              "          quickchartButtonEl.style.display =\n",
              "            google.colab.kernel.accessAllowed ? 'block' : 'none';\n",
              "        })();\n",
              "      </script>\n",
              "    </div>\n",
              "\n",
              "    </div>\n",
              "  </div>\n"
            ],
            "application/vnd.google.colaboratory.intrinsic+json": {
              "type": "dataframe",
              "variable_name": "df",
              "summary": "{\n  \"name\": \"df\",\n  \"rows\": 19000,\n  \"fields\": [\n    {\n      \"column\": \"date\",\n      \"properties\": {\n        \"dtype\": \"date\",\n        \"min\": \"2013-01-01 00:00:00\",\n        \"max\": \"2017-12-31 00:00:00\",\n        \"num_unique_values\": 1826,\n        \"samples\": [\n          \"2015-09-26 00:00:00\",\n          \"2017-02-27 00:00:00\",\n          \"2013-10-26 00:00:00\"\n        ],\n        \"semantic_type\": \"\",\n        \"description\": \"\"\n      }\n    },\n    {\n      \"column\": \"store\",\n      \"properties\": {\n        \"dtype\": \"category\",\n        \"num_unique_values\": 10,\n        \"samples\": [\n          \"9\",\n          \"4\",\n          \"2\"\n        ],\n        \"semantic_type\": \"\",\n        \"description\": \"\"\n      }\n    },\n    {\n      \"column\": \"item\",\n      \"properties\": {\n        \"dtype\": \"category\",\n        \"num_unique_values\": 50,\n        \"samples\": [\n          \"40\",\n          \"43\",\n          \"20\"\n        ],\n        \"semantic_type\": \"\",\n        \"description\": \"\"\n      }\n    },\n    {\n      \"column\": \"sales\",\n      \"properties\": {\n        \"dtype\": \"number\",\n        \"std\": 28,\n        \"min\": 1,\n        \"max\": 205,\n        \"num_unique_values\": 173,\n        \"samples\": [\n          196,\n          63,\n          94\n        ],\n        \"semantic_type\": \"\",\n        \"description\": \"\"\n      }\n    }\n  ]\n}"
            }
          },
          "metadata": {},
          "execution_count": 5
        }
      ]
    },
    {
      "cell_type": "code",
      "source": [
        "train = df[df[\"date\"] < \"2017-01-01\"]\n",
        "test = df[df[\"date\"] >= \"2017-01-01\"]"
      ],
      "metadata": {
        "id": "RfraP4G0o9Cg"
      },
      "execution_count": 6,
      "outputs": []
    },
    {
      "cell_type": "code",
      "source": [
        "train_features = train.drop(columns=[\"sales\"])\n",
        "train_target = train[\"sales\"]\n",
        "test_features = test.drop(columns=[\"sales\"])\n",
        "test_target = test[\"sales\"]\n"
      ],
      "metadata": {
        "id": "nwt5NK-bp69c"
      },
      "execution_count": 7,
      "outputs": []
    },
    {
      "cell_type": "code",
      "source": [
        "from upgini import FeaturesEnricher, SearchKey\n",
        "from upgini.metadata import CVType\n",
        "\n",
        "enricher = FeaturesEnricher(\n",
        "    search_keys={\n",
        "        \"date\": SearchKey.DATE,\n",
        "    },\n",
        "    cv = CVType.time_series\n",
        ")\n",
        "enricher.fit(train_features,\n",
        "             train_target,\n",
        "             eval_set=[(test_features, test_target)]\n",
        "             )"
      ],
      "metadata": {
        "colab": {
          "base_uri": "https://localhost:8080/",
          "height": 1000
        },
        "id": "foJr0ZXsqvSR",
        "outputId": "9db02817-854b-42f9-ce45-4645aacf00cb"
      },
      "execution_count": 8,
      "outputs": [
        {
          "output_type": "display_data",
          "data": {
            "text/plain": [
              "[============================================================] 100% Finished"
            ],
            "text/html": [
              "<progress style='width:60ex' max='100' value='100'></progress>  100% Finished</br>"
            ]
          },
          "metadata": {}
        },
        {
          "output_type": "display_data",
          "data": {
            "text/plain": [
              "<IPython.core.display.Javascript object>"
            ],
            "application/javascript": [
              "\n",
              "                    async function getVisitorId() {\n",
              "                        return import('https://upgini.github.io/upgini/js/a.js')\n",
              "                            .then(FingerprintJS => FingerprintJS.load())\n",
              "                            .then(fp => fp.get())\n",
              "                            .then(result => result.visitorId);\n",
              "                    }\n",
              "                    "
            ]
          },
          "metadata": {}
        },
        {
          "output_type": "stream",
          "name": "stdout",
          "text": [
            "WARNING #1: Search started with DATE search key only\n",
            "Try to add other keys like the COUNTRY, POSTAL_CODE, PHONE NUMBER, EMAIL/HEM, IP to your training dataset\n",
            "for search through all the available data sources.\n",
            "See docs https://github.com/upgini/upgini#-total-239-countries-and-up-to-41-years-of-history\n",
            "\n",
            "\n",
            "Detected task type: ModelTaskType.REGRESSION. Reason: date search key is present, treating as regression\n",
            "You can set task type manually with argument `model_task_type` of FeaturesEnricher constructor if task type detected incorrectly\n",
            "\n",
            "WARNING #2: Your training sample is unstable in number of rows per date. It is recommended to redesign the training sample\n",
            "\n"
          ]
        },
        {
          "output_type": "display_data",
          "data": {
            "text/plain": [
              "<IPython.core.display.Javascript object>"
            ],
            "application/javascript": [
              "\n",
              "                        async function getIP() {\n",
              "                            return fetch(\"https://api64.ipify.org\")\n",
              "                                .then(response => response.text())\n",
              "                                .then(data => data);\n",
              "                        }\n",
              "                        "
            ]
          },
          "metadata": {}
        },
        {
          "output_type": "display_data",
          "data": {
            "text/plain": [
              "<IPython.core.display.HTML object>"
            ],
            "text/html": [
              "<table><tr><th style='font-weight:bold'>Column name</th><th style='font-weight:bold'>Status</th><th style='font-weight:bold'>Errors</th></tr><tr><td>target</td><td style='background-color:#DAF7A6;color:black'>All valid</td><td>-</td></tr><tr><td>date</td><td style='background-color:#DAF7A6;color:black'>All valid</td><td>-</td></tr></table>"
            ]
          },
          "metadata": {}
        },
        {
          "output_type": "stream",
          "name": "stdout",
          "text": [
            "\n",
            "\n",
            "Running search request, search_id=3e3ac7a2-0364-4a74-be44-ffc8b6d8d8be\n",
            "We'll send email notification once it's completed, just use your personal api_key from profile.upgini.com\n",
            "\n"
          ]
        },
        {
          "output_type": "display_data",
          "data": {
            "text/plain": [
              "<IPython.core.display.HTML object>"
            ],
            "text/html": [
              "<style>\n",
              "            .upgini-df thead th {\n",
              "                font-weight:bold;\n",
              "                text-align: center;\n",
              "                padding: 0.5em;\n",
              "                border-bottom: 2px solid black;\n",
              "            }\n",
              "\n",
              "            .upgini-df tbody td {\n",
              "                padding: 0.5em;\n",
              "                color: black;\n",
              "            }\n",
              "\n",
              "            .upgini-df tbody tr:nth-child(odd) {\n",
              "                background-color: #ffffff;\n",
              "            }\n",
              "\n",
              "            .upgini-df tbody tr:nth-child(even) {\n",
              "                background-color: #f2f2f2;\n",
              "            }\n",
              "\n",
              "            .upgini-text {\n",
              "                text-align: left;\n",
              "            }\n",
              "\n",
              "            .upgini-number {\n",
              "                text-align: center;\n",
              "            }\n",
              "        </style>\n",
              "        <h2>Relevant features (19)</h2>\n",
              "        <div style=\"display:flex; flex-direction:column; align-items:flex-end; width: fit-content;\">\n",
              "            \n",
              "            <div style=\"text-align: right\">\n",
              "                <button onclick=navigator.clipboard.writeText(decodeURI('Feature%20name%09SHAP%20value%09PSI%20value%09Coverage%20%25%09Value%20preview%09Provider%09Source%09Updates%0Af_autofe_groupbythenmean_d5f4f809f4%098.4902%09%09100.0%090.0981,%200.0687,%200.0905%09Upgini,%20Training%20dataset%09AutoFE%3A%20feature%20from%20%3Ca%20href%3D%27https%3A%2F%2Fupgini.com%2F%23data_sources%27%20target%3D%27_blank%27%20rel%3D%27noopener%20noreferrer%27%3EMarkets%20data%3C%2Fa%3E,%20grouped%20by%20feature%20from%20training%20dataset%09Daily%0Af_economic_date_cbpol_umap_6_aa0352de%097.3931%09%09100.0%091.0587,%206.9596,%201.0408%09Upgini%09World%20economic%20indicators%09Daily%0Af_autofe_groupbythenmedian_64b28257d7%096.5439%09%09100.0%091.0005,%201.0012,%201.0004%09Upgini,%20Training%20dataset%09AutoFE%3A%20feature%20from%20%3Ca%20href%3D%27https%3A%2F%2Fupgini.com%2F%23data_sources%27%20target%3D%27_blank%27%20rel%3D%27noopener%20noreferrer%27%3EMarkets%20data%3C%2Fa%3E,%20grouped%20by%20feature%20from%20training%20dataset%09Daily%0Af_autofe_groupbythenstd_9a84d2fd29%095.5322%09%09100.0%090.7213,%200.7161,%200.6952%09Upgini,%20Training%20dataset%09AutoFE%3A%20feature%20from%20%3Ca%20href%3D%27https%3A%2F%2Fupgini.com%2F%23data_sources%27%20target%3D%27_blank%27%20rel%3D%27noopener%20noreferrer%27%3ECalendar%20data%3C%2Fa%3E,%20grouped%20by%20feature%20from%20training%20dataset%09Daily%0Af_autofe_groupbythenrank_d595da62f7%093.6036%09%09100.0%090.3398,%200.5069,%200.2105%09Upgini,%20Training%20dataset%09AutoFE%3A%20feature%20from%20%3Ca%20href%3D%27https%3A%2F%2Fupgini.com%2F%23data_sources%27%20target%3D%27_blank%27%20rel%3D%27noopener%20noreferrer%27%3ECalendar%20data%3C%2Fa%3E,%20grouped%20by%20feature%20from%20training%20dataset%09Daily%0Af_events_date_year_cos1_9014a856%092.3165%09%09100.0%090.3253,%20-0.263,%20-0.3496%09Upgini%09Calendar%20data%09Daily%0Af_financial_date_crude_oil_7d_to_1y_c3e0ad17%092.2541%09%09100.0%091.0001,%201.0769,%201.0154%09Upgini%09Markets%20data%09Daily%0Af_autofe_roll_3d_median_8e12f1e1e9%091.4845%09%09100.0%090.309,%20-0.263,%20-0.3496%09Training%20dataset,%20Upgini%09AutoFE%3A%20features%20from%20Training%20dataset,%3Ca%20href%3D%27https%3A%2F%2Fupgini.com%2F%23data_sources%27%20target%3D%27_blank%27%20rel%3D%27noopener%20noreferrer%27%3ECalendar%20data%3C%2Fa%3E%09Daily%0Af_autofe_roll_3d_min_1a2ad6d8bb%091.4531%09%09100.0%090.3253,%20-0.2795,%20-0.3817%09Training%20dataset,%20Upgini%09AutoFE%3A%20features%20from%20Training%20dataset,%3Ca%20href%3D%27https%3A%2F%2Fupgini.com%2F%23data_sources%27%20target%3D%27_blank%27%20rel%3D%27noopener%20noreferrer%27%3ECalendar%20data%3C%2Fa%3E%09Daily%0Aitem%091.0343%09%09100.0%0940,%2030,%2018%09%09%09%0Af_autofe_groupbythenrank_110e5b8df1%090.8715%09%09100.0%090.0758,%200.2147,%200.7818%09Upgini,%20Training%20dataset%09AutoFE%3A%20feature%20from%20%3Ca%20href%3D%27https%3A%2F%2Fupgini.com%2F%23data_sources%27%20target%3D%27_blank%27%20rel%3D%27noopener%20noreferrer%27%3ECalendar%20data%3C%2Fa%3E,%20grouped%20by%20feature%20from%20training%20dataset%09Daily%0Af_autofe_lag_28d_aaadd46bbb%090.824%09%0997.10896960711638%09140.0,%2016.0,%2024.0%09Training%20dataset%09AutoFE%3A%20features%20from%20Training%20dataset%09%0Af_events_date_week_sin1_847b5db1%090.5242%09%09100.0%090.0,%20-0.4339,%20-0.9749%09Upgini%09Calendar%20data%09Daily%0Af_events_date_year_sin2_59955ffd%090.4464%09%09100.0%09-0.6153,%200.3847,%20-0.1628%09Upgini%09Calendar%20data%09Daily%0Af_autofe_lag_7d_4a1d9c9dff%090.4427%09%0999.19517102615694%09140.0,%2016.0,%2024.0%09Training%20dataset%09AutoFE%3A%20features%20from%20Training%20dataset%09%0Astore%090.361%09%09100.0%095,%2010,%207%09%09%09%0Af_autofe_roll_3d_median_97804b26e6%090.3111%09%09100.0%09116.0,%2049.0,%2081.0%09Training%20dataset%09AutoFE%3A%20features%20from%20Training%20dataset%09%0Af_autofe_groupbythenrank_3729e8053b%090.0666%09%09100.0%090.3852,%200.3887,%200.3674%09Upgini,%20Training%20dataset%09AutoFE%3A%20feature%20from%20%3Ca%20href%3D%27https%3A%2F%2Fupgini.com%2F%23data_sources%27%20target%3D%27_blank%27%20rel%3D%27noopener%20noreferrer%27%3ECalendar%20data%3C%2Fa%3E,%20grouped%20by%20feature%20from%20training%20dataset%09Daily%0Af_events_date_week_cos3_7525fe31%090.0392%09%09100.0%091.0,%20-0.2225,%200.6235%09Upgini%09Calendar%20data%09Daily%0A'))>📂 Copy</button>\n",
              "                <a href='mailto:<Share with...>?subject=Relevant external data sources from Upgini.com&body=Feature%20name%09SHAP%20value%09PSI%20value%09Coverage%20%25%09Value%20preview%09Provider%09Source%09Updates%0Af_autofe_groupbythenmean_d5f4f809f4%098.4902%09%09100.0%090.0981,%200.0687,%200.0905%09Upgini,%20Training%20dataset%09AutoFE%3A%20feature%20from%20%3Ca%20href%3D%27https%3A%2F%2Fupgini.com%2F%23data_sources%27%20target%3D%27_blank%27%20rel%3D%27noopener%20noreferrer%27%3EMarkets%20data%3C%2Fa%3E,%20grouped%20by%20feature%20from%20training%20dataset%09Daily%0Af_economic_date_cbpol_umap_6_aa0352de%097.3931%09%09100.0%091.0587,%206.9596,%201.0408%09Upgini%09World%20economic%20indicators%09Daily%0Af_autofe_groupbythenmedian_64b28257d7%096.5439%09%09100.0%091.0005,%201.0012,%201.0004%09Upgini,%20Training%20dataset%09AutoFE%3A%20feature%20from%20%3Ca%20href%3D%27https%3A%2F%2Fupgini.com%2F%23data_sources%27%20target%3D%27_blank%27%20rel%3D%27noopener%20noreferrer%27%3EMarkets%20data%3C%2Fa%3E,%20grouped%20by%20feature%20from%20training%20dataset%09Daily%0Af_autofe_groupbythenstd_9a84d2fd29%095.5322%09%09100.0%090.7213,%200.7161,%200.6952%09Upgini,%20Training%20dataset%09AutoFE%3A%20feature%20from%20%3Ca%20href%3D%27https%3A%2F%2Fupgini.com%2F%23data_sources%27%20target%3D%27_blank%27%20rel%3D%27noopener%20noreferrer%27%3ECalendar%20data%3C%2Fa%3E,%20grouped%20by%20feature%20from%20training%20dataset%09Daily%0Af_autofe_groupbythenrank_d595da62f7%093.6036%09%09100.0%090.3398,%200.5069,%200.2105%09Upgini,%20Training%20dataset%09AutoFE%3A%20feature%20from%20%3Ca%20href%3D%27https%3A%2F%2Fupgini.com%2F%23data_sources%27%20target%3D%27_blank%27%20rel%3D%27noopener%20noreferrer%27%3ECalendar%20data%3C%2Fa%3E,%20grouped%20by%20feature%20from%20training%20dataset%09Daily%0Af_events_date_year_cos1_9014a856%092.3165%09%09100.0%090.3253,%20-0.263,%20-0.3496%09Upgini%09Calendar%20data%09Daily%0Af_financial_date_crude_oil_7d_to_1y_c3e0ad17%092.2541%09%09100.0%091.0001,%201.0769,%201.0154%09Upgini%09Markets%20data%09Daily%0Af_autofe_roll_3d_median_8e12f1e1e9%091.4845%09%09100.0%090.309,%20-0.263,%20-0.3496%09Training%20dataset,%20Upgini%09AutoFE%3A%20features%20from%20Training%20dataset,%3Ca%20href%3D%27https%3A%2F%2Fupgini.com%2F%23data_sources%27%20target%3D%27_blank%27%20rel%3D%27noopener%20noreferrer%27%3ECalendar%20data%3C%2Fa%3E%09Daily%0Af_autofe_roll_3d_min_1a2ad6d8bb%091.4531%09%09100.0%090.3253,%20-0.2795,%20-0.3817%09Training%20dataset,%20Upgini%09AutoFE%3A%20features%20from%20Training%20dataset,%3Ca%20href%3D%27https%3A%2F%2Fupgini.com%2F%23data_sources%27%20target%3D%27_blank%27%20rel%3D%27noopener%20noreferrer%27%3ECalendar%20data%3C%2Fa%3E%09Daily%0Aitem%091.0343%09%09100.0%0940,%2030,%2018%09%09%09%0Af_autofe_groupbythenrank_110e5b8df1%090.8715%09%09100.0%090.0758,%200.2147,%200.7818%09Upgini,%20Training%20dataset%09AutoFE%3A%20feature%20from%20%3Ca%20href%3D%27https%3A%2F%2Fupgini.com%2F%23data_sources%27%20target%3D%27_blank%27%20rel%3D%27noopener%20noreferrer%27%3ECalendar%20data%3C%2Fa%3E,%20grouped%20by%20feature%20from%20training%20dataset%09Daily%0Af_autofe_lag_28d_aaadd46bbb%090.824%09%0997.10896960711638%09140.0,%2016.0,%2024.0%09Training%20dataset%09AutoFE%3A%20features%20from%20Training%20dataset%09%0Af_events_date_week_sin1_847b5db1%090.5242%09%09100.0%090.0,%20-0.4339,%20-0.9749%09Upgini%09Calendar%20data%09Daily%0Af_events_date_year_sin2_59955ffd%090.4464%09%09100.0%09-0.6153,%200.3847,%20-0.1628%09Upgini%09Calendar%20data%09Daily%0Af_autofe_lag_7d_4a1d9c9dff%090.4427%09%0999.19517102615694%09140.0,%2016.0,%2024.0%09Training%20dataset%09AutoFE%3A%20features%20from%20Training%20dataset%09%0Astore%090.361%09%09100.0%095,%2010,%207%09%09%09%0Af_autofe_roll_3d_median_97804b26e6%090.3111%09%09100.0%09116.0,%2049.0,%2081.0%09Training%20dataset%09AutoFE%3A%20features%20from%20Training%20dataset%09%0Af_autofe_groupbythenrank_3729e8053b%090.0666%09%09100.0%090.3852,%200.3887,%200.3674%09Upgini,%20Training%20dataset%09AutoFE%3A%20feature%20from%20%3Ca%20href%3D%27https%3A%2F%2Fupgini.com%2F%23data_sources%27%20target%3D%27_blank%27%20rel%3D%27noopener%20noreferrer%27%3ECalendar%20data%3C%2Fa%3E,%20grouped%20by%20feature%20from%20training%20dataset%09Daily%0Af_events_date_week_cos3_7525fe31%090.0392%09%09100.0%091.0,%20-0.2225,%200.6235%09Upgini%09Calendar%20data%09Daily%0A'>\n",
              "                    <button>📨 Share</button>\n",
              "                </a>\n",
              "            </div>\n",
              "            <table class='upgini-df'><thead><th>Feature name</th><th>SHAP value</th><th>Coverage %</th><th>Value preview</th><th>Provider</th><th>Source</th><th>Updates</th></thead><tbody><tr><td class='upgini-text'>f_autofe_groupbythenmean_d5f4f809f4</td><td class='upgini-number'>8.4902</td><td class='upgini-number'>100.0000</td><td class='upgini-text'>0.0981, 0.0687, 0.0905</td><td class='upgini-text'><a href='https://upgini.com/' target='_blank' rel='noopener noreferrer'>Upgini</a>,Training dataset</td><td class='upgini-text'>AutoFE: feature from <a href='https://upgini.com/#data_sources' target='_blank' rel='noopener noreferrer'>Markets data</a>, grouped by feature from training dataset</td><td class='upgini-text'>Daily</td></tr><tr><td class='upgini-text'><a href='https://docs.upgini.com/public/economics/cbpol_umap#f_economic_date_cbpol_umap_6_aa0352de' target='_blank' rel='noopener noreferrer'>f_economic_date_cbpol_umap_6_aa0352de</a></td><td class='upgini-number'>7.3931</td><td class='upgini-number'>100.0000</td><td class='upgini-text'>1.0587, 6.9596, 1.0408</td><td class='upgini-text'><a href='https://upgini.com/' target='_blank' rel='noopener noreferrer'>Upgini</a></td><td class='upgini-text'><a href='https://upgini.com/#data_sources' target='_blank' rel='noopener noreferrer'>World economic indicators</a></td><td class='upgini-text'>Daily</td></tr><tr><td class='upgini-text'>f_autofe_groupbythenmedian_64b28257d7</td><td class='upgini-number'>6.5439</td><td class='upgini-number'>100.0000</td><td class='upgini-text'>1.0005, 1.0012, 1.0004</td><td class='upgini-text'><a href='https://upgini.com/' target='_blank' rel='noopener noreferrer'>Upgini</a>,Training dataset</td><td class='upgini-text'>AutoFE: feature from <a href='https://upgini.com/#data_sources' target='_blank' rel='noopener noreferrer'>Markets data</a>, grouped by feature from training dataset</td><td class='upgini-text'>Daily</td></tr><tr><td class='upgini-text'>f_autofe_groupbythenstd_9a84d2fd29</td><td class='upgini-number'>5.5322</td><td class='upgini-number'>100.0000</td><td class='upgini-text'>0.7213, 0.7161, 0.6952</td><td class='upgini-text'><a href='https://upgini.com/' target='_blank' rel='noopener noreferrer'>Upgini</a>,Training dataset</td><td class='upgini-text'>AutoFE: feature from <a href='https://upgini.com/#data_sources' target='_blank' rel='noopener noreferrer'>Calendar data</a>, grouped by feature from training dataset</td><td class='upgini-text'>Daily</td></tr><tr><td class='upgini-text'>f_autofe_groupbythenrank_d595da62f7</td><td class='upgini-number'>3.6036</td><td class='upgini-number'>100.0000</td><td class='upgini-text'>0.3398, 0.5069, 0.2105</td><td class='upgini-text'><a href='https://upgini.com/' target='_blank' rel='noopener noreferrer'>Upgini</a>,Training dataset</td><td class='upgini-text'>AutoFE: feature from <a href='https://upgini.com/#data_sources' target='_blank' rel='noopener noreferrer'>Calendar data</a>, grouped by feature from training dataset</td><td class='upgini-text'>Daily</td></tr><tr><td class='upgini-text'><a href='https://docs.upgini.com/public/calendar/calendar#f_events_date_year_cos1_9014a856' target='_blank' rel='noopener noreferrer'>f_events_date_year_cos1_9014a856</a></td><td class='upgini-number'>2.3165</td><td class='upgini-number'>100.0000</td><td class='upgini-text'>0.3253, -0.263, -0.3496</td><td class='upgini-text'><a href='https://upgini.com/' target='_blank' rel='noopener noreferrer'>Upgini</a></td><td class='upgini-text'><a href='https://upgini.com/#data_sources' target='_blank' rel='noopener noreferrer'>Calendar data</a></td><td class='upgini-text'>Daily</td></tr><tr><td class='upgini-text'><a href='https://docs.upgini.com/public/markets/finance#f_financial_date_crude_oil_7d_to_1y_c3e0ad17' target='_blank' rel='noopener noreferrer'>f_financial_date_crude_oil_7d_to_1y_c3e0ad17</a></td><td class='upgini-number'>2.2541</td><td class='upgini-number'>100.0000</td><td class='upgini-text'>1.0001, 1.0769, 1.0154</td><td class='upgini-text'><a href='https://upgini.com/' target='_blank' rel='noopener noreferrer'>Upgini</a></td><td class='upgini-text'><a href='https://upgini.com/#data_sources' target='_blank' rel='noopener noreferrer'>Markets data</a></td><td class='upgini-text'>Daily</td></tr><tr><td class='upgini-text'>f_autofe_roll_3d_median_8e12f1e1e9</td><td class='upgini-number'>1.4845</td><td class='upgini-number'>100.0000</td><td class='upgini-text'>0.309, -0.263, -0.3496</td><td class='upgini-text'>Training dataset,<a href='https://upgini.com/' target='_blank' rel='noopener noreferrer'>Upgini</a></td><td class='upgini-text'>AutoFE: features from Training dataset,<a href='https://upgini.com/#data_sources' target='_blank' rel='noopener noreferrer'>Calendar data</a></td><td class='upgini-text'>Daily</td></tr><tr><td class='upgini-text'>f_autofe_roll_3d_min_1a2ad6d8bb</td><td class='upgini-number'>1.4531</td><td class='upgini-number'>100.0000</td><td class='upgini-text'>0.3253, -0.2795, -0.3817</td><td class='upgini-text'>Training dataset,<a href='https://upgini.com/' target='_blank' rel='noopener noreferrer'>Upgini</a></td><td class='upgini-text'>AutoFE: features from Training dataset,<a href='https://upgini.com/#data_sources' target='_blank' rel='noopener noreferrer'>Calendar data</a></td><td class='upgini-text'>Daily</td></tr><tr><td class='upgini-text'>item</td><td class='upgini-number'>1.0343</td><td class='upgini-number'>100.0000</td><td class='upgini-text'>40, 30, 18</td><td class='upgini-text'>&nbsp;</td><td class='upgini-text'>&nbsp;</td><td class='upgini-text'>&nbsp;</td></tr><tr><td class='upgini-text'>f_autofe_groupbythenrank_110e5b8df1</td><td class='upgini-number'>0.8715</td><td class='upgini-number'>100.0000</td><td class='upgini-text'>0.0758, 0.2147, 0.7818</td><td class='upgini-text'><a href='https://upgini.com/' target='_blank' rel='noopener noreferrer'>Upgini</a>,Training dataset</td><td class='upgini-text'>AutoFE: feature from <a href='https://upgini.com/#data_sources' target='_blank' rel='noopener noreferrer'>Calendar data</a>, grouped by feature from training dataset</td><td class='upgini-text'>Daily</td></tr><tr><td class='upgini-text'>f_autofe_lag_28d_aaadd46bbb</td><td class='upgini-number'>0.8240</td><td class='upgini-number'>97.1090</td><td class='upgini-text'>140.0, 16.0, 24.0</td><td class='upgini-text'>Training dataset</td><td class='upgini-text'>AutoFE: features from Training dataset</td><td class='upgini-text'>&nbsp;</td></tr><tr><td class='upgini-text'><a href='https://docs.upgini.com/public/calendar/calendar#f_events_date_week_sin1_847b5db1' target='_blank' rel='noopener noreferrer'>f_events_date_week_sin1_847b5db1</a></td><td class='upgini-number'>0.5242</td><td class='upgini-number'>100.0000</td><td class='upgini-text'>0.0, -0.4339, -0.9749</td><td class='upgini-text'><a href='https://upgini.com/' target='_blank' rel='noopener noreferrer'>Upgini</a></td><td class='upgini-text'><a href='https://upgini.com/#data_sources' target='_blank' rel='noopener noreferrer'>Calendar data</a></td><td class='upgini-text'>Daily</td></tr><tr><td class='upgini-text'><a href='https://docs.upgini.com/public/calendar/calendar#f_events_date_year_sin2_59955ffd' target='_blank' rel='noopener noreferrer'>f_events_date_year_sin2_59955ffd</a></td><td class='upgini-number'>0.4464</td><td class='upgini-number'>100.0000</td><td class='upgini-text'>-0.6153, 0.3847, -0.1628</td><td class='upgini-text'><a href='https://upgini.com/' target='_blank' rel='noopener noreferrer'>Upgini</a></td><td class='upgini-text'><a href='https://upgini.com/#data_sources' target='_blank' rel='noopener noreferrer'>Calendar data</a></td><td class='upgini-text'>Daily</td></tr><tr><td class='upgini-text'>f_autofe_lag_7d_4a1d9c9dff</td><td class='upgini-number'>0.4427</td><td class='upgini-number'>99.1952</td><td class='upgini-text'>140.0, 16.0, 24.0</td><td class='upgini-text'>Training dataset</td><td class='upgini-text'>AutoFE: features from Training dataset</td><td class='upgini-text'>&nbsp;</td></tr><tr><td class='upgini-text'>store</td><td class='upgini-number'>0.3610</td><td class='upgini-number'>100.0000</td><td class='upgini-text'>5, 10, 7</td><td class='upgini-text'>&nbsp;</td><td class='upgini-text'>&nbsp;</td><td class='upgini-text'>&nbsp;</td></tr><tr><td class='upgini-text'>f_autofe_roll_3d_median_97804b26e6</td><td class='upgini-number'>0.3111</td><td class='upgini-number'>100.0000</td><td class='upgini-text'>116.0, 49.0, 81.0</td><td class='upgini-text'>Training dataset</td><td class='upgini-text'>AutoFE: features from Training dataset</td><td class='upgini-text'>&nbsp;</td></tr><tr><td class='upgini-text'>f_autofe_groupbythenrank_3729e8053b</td><td class='upgini-number'>0.0666</td><td class='upgini-number'>100.0000</td><td class='upgini-text'>0.3852, 0.3887, 0.3674</td><td class='upgini-text'><a href='https://upgini.com/' target='_blank' rel='noopener noreferrer'>Upgini</a>,Training dataset</td><td class='upgini-text'>AutoFE: feature from <a href='https://upgini.com/#data_sources' target='_blank' rel='noopener noreferrer'>Calendar data</a>, grouped by feature from training dataset</td><td class='upgini-text'>Daily</td></tr><tr><td class='upgini-text'><a href='https://docs.upgini.com/public/calendar/calendar#f_events_date_week_cos3_7525fe31' target='_blank' rel='noopener noreferrer'>f_events_date_week_cos3_7525fe31</a></td><td class='upgini-number'>0.0392</td><td class='upgini-number'>100.0000</td><td class='upgini-text'>1.0, -0.2225, 0.6235</td><td class='upgini-text'><a href='https://upgini.com/' target='_blank' rel='noopener noreferrer'>Upgini</a></td><td class='upgini-text'><a href='https://upgini.com/#data_sources' target='_blank' rel='noopener noreferrer'>Calendar data</a></td><td class='upgini-text'>Daily</td></tr></tbody></table>\n",
              "        </div>\n",
              "        "
            ]
          },
          "metadata": {}
        },
        {
          "output_type": "display_data",
          "data": {
            "text/plain": [
              "<IPython.core.display.HTML object>"
            ],
            "text/html": [
              "<style>\n",
              "            .upgini-df thead th {\n",
              "                font-weight:bold;\n",
              "                text-align: center;\n",
              "                padding: 0.5em;\n",
              "                border-bottom: 2px solid black;\n",
              "            }\n",
              "\n",
              "            .upgini-df tbody td {\n",
              "                padding: 0.5em;\n",
              "                color: black;\n",
              "            }\n",
              "\n",
              "            .upgini-df tbody tr:nth-child(odd) {\n",
              "                background-color: #ffffff;\n",
              "            }\n",
              "\n",
              "            .upgini-df tbody tr:nth-child(even) {\n",
              "                background-color: #f2f2f2;\n",
              "            }\n",
              "\n",
              "            .upgini-text {\n",
              "                text-align: left;\n",
              "            }\n",
              "\n",
              "            .upgini-number {\n",
              "                text-align: center;\n",
              "            }\n",
              "        </style>\n",
              "        <h2>Relevant data sources</h2>\n",
              "        <div style=\"display:flex; flex-direction:column; align-items:flex-end; width: fit-content;\">\n",
              "            \n",
              "            <div style=\"text-align: right\">\n",
              "                <button onclick=navigator.clipboard.writeText(decodeURI('Provider%09Source%09All%20features%20SHAP%09Number%20of%20relevant%20features%0AUpgini,%20Training%20dataset%09AutoFE%3A%20feature%20from%20%3Ca%20href%3D%27https%3A%2F%2Fupgini.com%2F%23data_sources%27%20target%3D%27_blank%27%20rel%3D%27noopener%20noreferrer%27%3EMarkets%20data%3C%2Fa%3E,%20grouped%20by%20feature%20from%20training%20dataset%0915.034099999999999%092%0AUpgini,%20Training%20dataset%09AutoFE%3A%20feature%20from%20%3Ca%20href%3D%27https%3A%2F%2Fupgini.com%2F%23data_sources%27%20target%3D%27_blank%27%20rel%3D%27noopener%20noreferrer%27%3ECalendar%20data%3C%2Fa%3E,%20grouped%20by%20feature%20from%20training%20dataset%0910.0739%094%0AUpgini%09World%20economic%20indicators%097.3931%091%0AUpgini%09Calendar%20data%093.3263%094%0ATraining%20dataset,%20Upgini%09AutoFE%3A%20features%20from%20Training%20dataset,%3Ca%20href%3D%27https%3A%2F%2Fupgini.com%2F%23data_sources%27%20target%3D%27_blank%27%20rel%3D%27noopener%20noreferrer%27%3ECalendar%20data%3C%2Fa%3E%092.9375999999999998%092%0AUpgini%09Markets%20data%092.2541%091%0ATraining%20dataset%09AutoFE%3A%20features%20from%20Training%20dataset%091.5777999999999999%093%0A'))>📂 Copy</button>\n",
              "                <a href='mailto:<Share with...>?subject=Relevant external data sources from Upgini.com&body=Provider%09Source%09All%20features%20SHAP%09Number%20of%20relevant%20features%0AUpgini,%20Training%20dataset%09AutoFE%3A%20feature%20from%20%3Ca%20href%3D%27https%3A%2F%2Fupgini.com%2F%23data_sources%27%20target%3D%27_blank%27%20rel%3D%27noopener%20noreferrer%27%3EMarkets%20data%3C%2Fa%3E,%20grouped%20by%20feature%20from%20training%20dataset%0915.034099999999999%092%0AUpgini,%20Training%20dataset%09AutoFE%3A%20feature%20from%20%3Ca%20href%3D%27https%3A%2F%2Fupgini.com%2F%23data_sources%27%20target%3D%27_blank%27%20rel%3D%27noopener%20noreferrer%27%3ECalendar%20data%3C%2Fa%3E,%20grouped%20by%20feature%20from%20training%20dataset%0910.0739%094%0AUpgini%09World%20economic%20indicators%097.3931%091%0AUpgini%09Calendar%20data%093.3263%094%0ATraining%20dataset,%20Upgini%09AutoFE%3A%20features%20from%20Training%20dataset,%3Ca%20href%3D%27https%3A%2F%2Fupgini.com%2F%23data_sources%27%20target%3D%27_blank%27%20rel%3D%27noopener%20noreferrer%27%3ECalendar%20data%3C%2Fa%3E%092.9375999999999998%092%0AUpgini%09Markets%20data%092.2541%091%0ATraining%20dataset%09AutoFE%3A%20features%20from%20Training%20dataset%091.5777999999999999%093%0A'>\n",
              "                    <button>📨 Share</button>\n",
              "                </a>\n",
              "            </div>\n",
              "            <table class='upgini-df'><thead><th>Provider</th><th>Source</th><th>All features SHAP</th><th>Number of relevant features</th></thead><tbody><tr><td class='upgini-text'><a href='https://upgini.com/' target='_blank' rel='noopener noreferrer'>Upgini</a>,Training dataset</td><td class='upgini-text'>AutoFE: feature from <a href='https://upgini.com/#data_sources' target='_blank' rel='noopener noreferrer'>Markets data</a>, grouped by feature from training dataset</td><td class='upgini-number'>15.0341</td><td class='upgini-number'>2</td></tr><tr><td class='upgini-text'><a href='https://upgini.com/' target='_blank' rel='noopener noreferrer'>Upgini</a>,Training dataset</td><td class='upgini-text'>AutoFE: feature from <a href='https://upgini.com/#data_sources' target='_blank' rel='noopener noreferrer'>Calendar data</a>, grouped by feature from training dataset</td><td class='upgini-number'>10.0739</td><td class='upgini-number'>4</td></tr><tr><td class='upgini-text'><a href='https://upgini.com/' target='_blank' rel='noopener noreferrer'>Upgini</a></td><td class='upgini-text'><a href='https://upgini.com/#data_sources' target='_blank' rel='noopener noreferrer'>World economic indicators</a></td><td class='upgini-number'>7.3931</td><td class='upgini-number'>1</td></tr><tr><td class='upgini-text'><a href='https://upgini.com/' target='_blank' rel='noopener noreferrer'>Upgini</a></td><td class='upgini-text'><a href='https://upgini.com/#data_sources' target='_blank' rel='noopener noreferrer'>Calendar data</a></td><td class='upgini-number'>3.3263</td><td class='upgini-number'>4</td></tr><tr><td class='upgini-text'>Training dataset,<a href='https://upgini.com/' target='_blank' rel='noopener noreferrer'>Upgini</a></td><td class='upgini-text'>AutoFE: features from Training dataset,<a href='https://upgini.com/#data_sources' target='_blank' rel='noopener noreferrer'>Calendar data</a></td><td class='upgini-number'>2.9376</td><td class='upgini-number'>2</td></tr><tr><td class='upgini-text'><a href='https://upgini.com/' target='_blank' rel='noopener noreferrer'>Upgini</a></td><td class='upgini-text'><a href='https://upgini.com/#data_sources' target='_blank' rel='noopener noreferrer'>Markets data</a></td><td class='upgini-number'>2.2541</td><td class='upgini-number'>1</td></tr><tr><td class='upgini-text'>Training dataset</td><td class='upgini-text'>AutoFE: features from Training dataset</td><td class='upgini-number'>1.5778</td><td class='upgini-number'>3</td></tr></tbody></table>\n",
              "        </div>\n",
              "        "
            ]
          },
          "metadata": {}
        },
        {
          "output_type": "display_data",
          "data": {
            "text/plain": [
              "<IPython.core.display.HTML object>"
            ],
            "text/html": [
              "<style>\n",
              "            .upgini-df thead th {\n",
              "                font-weight:bold;\n",
              "                text-align: center;\n",
              "                padding: 0.5em;\n",
              "                border-bottom: 2px solid black;\n",
              "            }\n",
              "\n",
              "            .upgini-df tbody td {\n",
              "                padding: 0.5em;\n",
              "                color: black;\n",
              "            }\n",
              "\n",
              "            .upgini-df tbody tr:nth-child(odd) {\n",
              "                background-color: #ffffff;\n",
              "            }\n",
              "\n",
              "            .upgini-df tbody tr:nth-child(even) {\n",
              "                background-color: #f2f2f2;\n",
              "            }\n",
              "\n",
              "            .upgini-text {\n",
              "                text-align: left;\n",
              "            }\n",
              "\n",
              "            .upgini-number {\n",
              "                text-align: center;\n",
              "            }\n",
              "        </style>\n",
              "        <h2>*Description of AutoFE feature names</h2>\n",
              "        <div style=\"display:flex; flex-direction:column; align-items:flex-end; width: fit-content;\">\n",
              "            \n",
              "            <div style=\"text-align: right\">\n",
              "                <button onclick=navigator.clipboard.writeText(decodeURI('Sources%09Feature%20name%09Feature%201%09Feature%202%09Function%0A%3Ca%20href%3D%27https%3A%2F%2Fupgini.com%2F%23data_sources%27%20target%3D%27_blank%27%20rel%3D%27noopener%20noreferrer%27%3EMarkets%20data%3C%2Fa%3E,%20grouped%20by%20feature%20from%20training%20dataset%09f_autofe_groupbythenmean_d5f4f809f4%09f_financial_date_vix_gap_b64bd2b9%09store_824d80%09GroupByThenMean%0A%3Ca%20href%3D%27https%3A%2F%2Fupgini.com%2F%23data_sources%27%20target%3D%27_blank%27%20rel%3D%27noopener%20noreferrer%27%3EMarkets%20data%3C%2Fa%3E,%20grouped%20by%20feature%20from%20training%20dataset%09f_autofe_groupbythenmedian_64b28257d7%09f_financial_date_usd_eur_1d_to_7d_d8b89b5d%09item_4a33ea%09GroupByThenMedian%0A%3Ca%20href%3D%27https%3A%2F%2Fupgini.com%2F%23data_sources%27%20target%3D%27_blank%27%20rel%3D%27noopener%20noreferrer%27%3ECalendar%20data%3C%2Fa%3E,%20grouped%20by%20feature%20from%20training%20dataset%09f_autofe_groupbythenstd_9a84d2fd29%09f_events_date_year_cos8_d2a83ca9%09item_4a33ea%09GroupByThenStd%0A%3Ca%20href%3D%27https%3A%2F%2Fupgini.com%2F%23data_sources%27%20target%3D%27_blank%27%20rel%3D%27noopener%20noreferrer%27%3ECalendar%20data%3C%2Fa%3E,%20grouped%20by%20feature%20from%20training%20dataset%09f_autofe_groupbythenrank_d595da62f7%09f_events_date_week_cos3_7525fe31%09store_824d80%09GroupByThenRank%0ATraining%20dataset,%3Ca%20href%3D%27https%3A%2F%2Fupgini.com%2F%23data_sources%27%20target%3D%27_blank%27%20rel%3D%27noopener%20noreferrer%27%3ECalendar%20data%3C%2Fa%3E%09f_autofe_roll_3d_median_8e12f1e1e9%09f_events_date_year_cos1_9014a856%09%09roll_3d_median%0ATraining%20dataset,%3Ca%20href%3D%27https%3A%2F%2Fupgini.com%2F%23data_sources%27%20target%3D%27_blank%27%20rel%3D%27noopener%20noreferrer%27%3ECalendar%20data%3C%2Fa%3E%09f_autofe_roll_3d_min_1a2ad6d8bb%09f_events_date_year_cos1_9014a856%09%09roll_3d_min%0A%3Ca%20href%3D%27https%3A%2F%2Fupgini.com%2F%23data_sources%27%20target%3D%27_blank%27%20rel%3D%27noopener%20noreferrer%27%3ECalendar%20data%3C%2Fa%3E,%20grouped%20by%20feature%20from%20training%20dataset%09f_autofe_groupbythenrank_110e5b8df1%09f_events_date_week_cos1_f6a8c1fc%09store_824d80%09GroupByThenRank%0ATraining%20dataset%09f_autofe_lag_28d_aaadd46bbb%09target%09%09lag_28d%0ATraining%20dataset%09f_autofe_lag_7d_4a1d9c9dff%09target%09%09lag_7d%0ATraining%20dataset%09f_autofe_roll_3d_median_97804b26e6%09target%09%09roll_3d_median%0A%3Ca%20href%3D%27https%3A%2F%2Fupgini.com%2F%23data_sources%27%20target%3D%27_blank%27%20rel%3D%27noopener%20noreferrer%27%3ECalendar%20data%3C%2Fa%3E,%20grouped%20by%20feature%20from%20training%20dataset%09f_autofe_groupbythenrank_3729e8053b%09f_events_date_week_cos1_f6a8c1fc%09item_4a33ea%09GroupByThenRank%0A'))>📂 Copy</button>\n",
              "                <a href='mailto:<Share with...>?subject=Relevant external data sources from Upgini.com&body=Sources%09Feature%20name%09Feature%201%09Feature%202%09Function%0A%3Ca%20href%3D%27https%3A%2F%2Fupgini.com%2F%23data_sources%27%20target%3D%27_blank%27%20rel%3D%27noopener%20noreferrer%27%3EMarkets%20data%3C%2Fa%3E,%20grouped%20by%20feature%20from%20training%20dataset%09f_autofe_groupbythenmean_d5f4f809f4%09f_financial_date_vix_gap_b64bd2b9%09store_824d80%09GroupByThenMean%0A%3Ca%20href%3D%27https%3A%2F%2Fupgini.com%2F%23data_sources%27%20target%3D%27_blank%27%20rel%3D%27noopener%20noreferrer%27%3EMarkets%20data%3C%2Fa%3E,%20grouped%20by%20feature%20from%20training%20dataset%09f_autofe_groupbythenmedian_64b28257d7%09f_financial_date_usd_eur_1d_to_7d_d8b89b5d%09item_4a33ea%09GroupByThenMedian%0A%3Ca%20href%3D%27https%3A%2F%2Fupgini.com%2F%23data_sources%27%20target%3D%27_blank%27%20rel%3D%27noopener%20noreferrer%27%3ECalendar%20data%3C%2Fa%3E,%20grouped%20by%20feature%20from%20training%20dataset%09f_autofe_groupbythenstd_9a84d2fd29%09f_events_date_year_cos8_d2a83ca9%09item_4a33ea%09GroupByThenStd%0A%3Ca%20href%3D%27https%3A%2F%2Fupgini.com%2F%23data_sources%27%20target%3D%27_blank%27%20rel%3D%27noopener%20noreferrer%27%3ECalendar%20data%3C%2Fa%3E,%20grouped%20by%20feature%20from%20training%20dataset%09f_autofe_groupbythenrank_d595da62f7%09f_events_date_week_cos3_7525fe31%09store_824d80%09GroupByThenRank%0ATraining%20dataset,%3Ca%20href%3D%27https%3A%2F%2Fupgini.com%2F%23data_sources%27%20target%3D%27_blank%27%20rel%3D%27noopener%20noreferrer%27%3ECalendar%20data%3C%2Fa%3E%09f_autofe_roll_3d_median_8e12f1e1e9%09f_events_date_year_cos1_9014a856%09%09roll_3d_median%0ATraining%20dataset,%3Ca%20href%3D%27https%3A%2F%2Fupgini.com%2F%23data_sources%27%20target%3D%27_blank%27%20rel%3D%27noopener%20noreferrer%27%3ECalendar%20data%3C%2Fa%3E%09f_autofe_roll_3d_min_1a2ad6d8bb%09f_events_date_year_cos1_9014a856%09%09roll_3d_min%0A%3Ca%20href%3D%27https%3A%2F%2Fupgini.com%2F%23data_sources%27%20target%3D%27_blank%27%20rel%3D%27noopener%20noreferrer%27%3ECalendar%20data%3C%2Fa%3E,%20grouped%20by%20feature%20from%20training%20dataset%09f_autofe_groupbythenrank_110e5b8df1%09f_events_date_week_cos1_f6a8c1fc%09store_824d80%09GroupByThenRank%0ATraining%20dataset%09f_autofe_lag_28d_aaadd46bbb%09target%09%09lag_28d%0ATraining%20dataset%09f_autofe_lag_7d_4a1d9c9dff%09target%09%09lag_7d%0ATraining%20dataset%09f_autofe_roll_3d_median_97804b26e6%09target%09%09roll_3d_median%0A%3Ca%20href%3D%27https%3A%2F%2Fupgini.com%2F%23data_sources%27%20target%3D%27_blank%27%20rel%3D%27noopener%20noreferrer%27%3ECalendar%20data%3C%2Fa%3E,%20grouped%20by%20feature%20from%20training%20dataset%09f_autofe_groupbythenrank_3729e8053b%09f_events_date_week_cos1_f6a8c1fc%09item_4a33ea%09GroupByThenRank%0A'>\n",
              "                    <button>📨 Share</button>\n",
              "                </a>\n",
              "            </div>\n",
              "            <table class='upgini-df'><thead><th>Sources</th><th>Feature name</th><th>Feature 1</th><th>Feature 2</th><th>Function</th></thead><tbody><tr><td class='upgini-text'><a href='https://upgini.com/#data_sources' target='_blank' rel='noopener noreferrer'>Markets data</a>, grouped by feature from training dataset</td><td class='upgini-text'>f_autofe_groupbythenmean_d5f4f809f4</td><td class='upgini-text'>f_financial_date_vix_gap_b64bd2b9</td><td class='upgini-text'>store_824d80</td><td class='upgini-text'>GroupByThenMean</td></tr><tr><td class='upgini-text'><a href='https://upgini.com/#data_sources' target='_blank' rel='noopener noreferrer'>Markets data</a>, grouped by feature from training dataset</td><td class='upgini-text'>f_autofe_groupbythenmedian_64b28257d7</td><td class='upgini-text'>f_financial_date_usd_eur_1d_to_7d_d8b89b5d</td><td class='upgini-text'>item_4a33ea</td><td class='upgini-text'>GroupByThenMedian</td></tr><tr><td class='upgini-text'><a href='https://upgini.com/#data_sources' target='_blank' rel='noopener noreferrer'>Calendar data</a>, grouped by feature from training dataset</td><td class='upgini-text'>f_autofe_groupbythenstd_9a84d2fd29</td><td class='upgini-text'>f_events_date_year_cos8_d2a83ca9</td><td class='upgini-text'>item_4a33ea</td><td class='upgini-text'>GroupByThenStd</td></tr><tr><td class='upgini-text'><a href='https://upgini.com/#data_sources' target='_blank' rel='noopener noreferrer'>Calendar data</a>, grouped by feature from training dataset</td><td class='upgini-text'>f_autofe_groupbythenrank_d595da62f7</td><td class='upgini-text'>f_events_date_week_cos3_7525fe31</td><td class='upgini-text'>store_824d80</td><td class='upgini-text'>GroupByThenRank</td></tr><tr><td class='upgini-text'>Training dataset,<a href='https://upgini.com/#data_sources' target='_blank' rel='noopener noreferrer'>Calendar data</a></td><td class='upgini-text'>f_autofe_roll_3d_median_8e12f1e1e9</td><td class='upgini-text'>f_events_date_year_cos1_9014a856</td><td class='upgini-text'>&nbsp;</td><td class='upgini-text'>roll_3d_median</td></tr><tr><td class='upgini-text'>Training dataset,<a href='https://upgini.com/#data_sources' target='_blank' rel='noopener noreferrer'>Calendar data</a></td><td class='upgini-text'>f_autofe_roll_3d_min_1a2ad6d8bb</td><td class='upgini-text'>f_events_date_year_cos1_9014a856</td><td class='upgini-text'>&nbsp;</td><td class='upgini-text'>roll_3d_min</td></tr><tr><td class='upgini-text'><a href='https://upgini.com/#data_sources' target='_blank' rel='noopener noreferrer'>Calendar data</a>, grouped by feature from training dataset</td><td class='upgini-text'>f_autofe_groupbythenrank_110e5b8df1</td><td class='upgini-text'>f_events_date_week_cos1_f6a8c1fc</td><td class='upgini-text'>store_824d80</td><td class='upgini-text'>GroupByThenRank</td></tr><tr><td class='upgini-text'>Training dataset</td><td class='upgini-text'>f_autofe_lag_28d_aaadd46bbb</td><td class='upgini-text'>target</td><td class='upgini-text'>&nbsp;</td><td class='upgini-text'>lag_28d</td></tr><tr><td class='upgini-text'>Training dataset</td><td class='upgini-text'>f_autofe_lag_7d_4a1d9c9dff</td><td class='upgini-text'>target</td><td class='upgini-text'>&nbsp;</td><td class='upgini-text'>lag_7d</td></tr><tr><td class='upgini-text'>Training dataset</td><td class='upgini-text'>f_autofe_roll_3d_median_97804b26e6</td><td class='upgini-text'>target</td><td class='upgini-text'>&nbsp;</td><td class='upgini-text'>roll_3d_median</td></tr><tr><td class='upgini-text'><a href='https://upgini.com/#data_sources' target='_blank' rel='noopener noreferrer'>Calendar data</a>, grouped by feature from training dataset</td><td class='upgini-text'>f_autofe_groupbythenrank_3729e8053b</td><td class='upgini-text'>f_events_date_week_cos1_f6a8c1fc</td><td class='upgini-text'>item_4a33ea</td><td class='upgini-text'>GroupByThenRank</td></tr></tbody></table>\n",
              "        </div>\n",
              "        "
            ]
          },
          "metadata": {}
        },
        {
          "output_type": "stream",
          "name": "stdout",
          "text": [
            "We detected 48 outliers in your sample.\n",
            "Examples of outliers with maximum value of target:\n",
            "33    205\n",
            "17    196\n",
            "12    187\n",
            "Name: target, dtype: int64\n",
            "Outliers will be excluded during the metrics calculation.\n",
            "Calculating accuracy uplift after enrichment...\n",
            "y distributions from the training sample and eval_set differ according to the Kolmogorov-Smirnov test,\n",
            "which makes metrics between the train and eval_set incomparable.\n"
          ]
        },
        {
          "output_type": "display_data",
          "data": {
            "text/plain": [
              "<IPython.core.display.HTML object>"
            ],
            "text/html": [
              "<style>\n",
              "            .upgini-df thead th {\n",
              "                font-weight:bold;\n",
              "                text-align: center;\n",
              "                padding: 0.5em;\n",
              "                border-bottom: 2px solid black;\n",
              "            }\n",
              "\n",
              "            .upgini-df tbody td {\n",
              "                padding: 0.5em;\n",
              "                color: black;\n",
              "            }\n",
              "\n",
              "            .upgini-df tbody tr:nth-child(odd) {\n",
              "                background-color: #ffffff;\n",
              "            }\n",
              "\n",
              "            .upgini-df tbody tr:nth-child(even) {\n",
              "                background-color: #f2f2f2;\n",
              "            }\n",
              "\n",
              "            .upgini-text {\n",
              "                text-align: left;\n",
              "            }\n",
              "\n",
              "            .upgini-number {\n",
              "                text-align: center;\n",
              "            }\n",
              "        </style>\n",
              "        <h2>Accuracy after enrichment</h2>\n",
              "        <div style=\"display:flex; flex-direction:column; align-items:flex-end; width: fit-content;\">\n",
              "            \n",
              "            <div style=\"text-align: right\">\n",
              "                <button onclick=navigator.clipboard.writeText(decodeURI('Dataset%20type%09Rows%09Mean%20target%09Baseline%20MAPE%09Enriched%20MAPE%09Uplift,%20abs%09Uplift,%20%25%0ATrain%099418%0953.3352%090.324%20%C2%B1%200.109%090.217%20%C2%B1%200.086%090.107%0933.0%25%0AEval%201%093764%0958.5994%090.278%20%C2%B1%200.009%090.195%20%C2%B1%200.021%090.082%0929.7%25%0A'))>📂 Copy</button>\n",
              "                <a href='mailto:<Share with...>?subject=Relevant external data sources from Upgini.com&body=Dataset%20type%09Rows%09Mean%20target%09Baseline%20MAPE%09Enriched%20MAPE%09Uplift,%20abs%09Uplift,%20%25%0ATrain%099418%0953.3352%090.324%20%C2%B1%200.109%090.217%20%C2%B1%200.086%090.107%0933.0%25%0AEval%201%093764%0958.5994%090.278%20%C2%B1%200.009%090.195%20%C2%B1%200.021%090.082%0929.7%25%0A'>\n",
              "                    <button>📨 Share</button>\n",
              "                </a>\n",
              "            </div>\n",
              "            <table class='upgini-df'><thead><th>Dataset type</th><th>Rows</th><th>Mean target</th><th>Baseline MAPE</th><th>Enriched MAPE</th><th>Uplift, abs</th><th>Uplift, %</th></thead><tbody><tr><td class='upgini-text'>Train</td><td class='upgini-number'>9418</td><td class='upgini-number'>53.3352</td><td class='upgini-text'>0.324 ± 0.109</td><td class='upgini-text'>0.217 ± 0.086</td><td class='upgini-number'>0.1070</td><td class='upgini-text'>33.0%</td></tr><tr><td class='upgini-text'>Eval 1</td><td class='upgini-number'>3764</td><td class='upgini-number'>58.5994</td><td class='upgini-text'>0.278 ± 0.009</td><td class='upgini-text'>0.195 ± 0.021</td><td class='upgini-number'>0.0820</td><td class='upgini-text'>29.7%</td></tr></tbody></table>\n",
              "        </div>\n",
              "        "
            ]
          },
          "metadata": {}
        },
        {
          "output_type": "display_data",
          "data": {
            "text/plain": [
              "<IPython.core.display.HTML object>"
            ],
            "text/html": [
              "<a download=\"upgini-report-46edfcc1-bf3b-491e-8ba4-e4c6abcb4bae.pdf\" href=\"data:application/pdf;base64,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\" target=\"_blank\">\n",
              "            <button>📊 Download PDF report</button></a>"
            ]
          },
          "metadata": {}
        }
      ]
    },
    {
      "cell_type": "markdown",
      "metadata": {
        "id": "e1825f6e"
      },
      "source": [
        "The error `NameError: name 'enricher' is not defined` indicates that the variable `enricher` was not created in the current session. This is likely because the cell where `enricher` is defined and fit (`foJr0ZXsqvSR`) has not been executed. To fix this, we need to run that cell first."
      ]
    },
    {
      "cell_type": "code",
      "source": [
        "\n",
        "from catboost import CatBoostRegressor\n",
        "from catboost.utils import eval_metric\n",
        "\n",
        "model = CatBoostRegressor(verbose=False, allow_writing_files=False, random_state=0)\n",
        "enricher.calculate_metrics(\n",
        "    train_features, train_target,\n",
        "    eval_set=[(test_features, test_target)],\n",
        "    estimator=model,\n",
        "    scoring= \"mean_absolute_percentage_error\"\n",
        ")"
      ],
      "metadata": {
        "colab": {
          "base_uri": "https://localhost:8080/"
        },
        "id": "4czo0-SGIV97",
        "outputId": "78ed9fb5-a88e-4620-e08b-14c9acef62c2"
      },
      "execution_count": null,
      "outputs": [
        {
          "output_type": "stream",
          "name": "stdout",
          "text": [
            "Calculating accuracy uplift after enrichment...\n",
            "-\ry distributions from the training sample and eval_set differ according to the Kolmogorov-Smirnov test,\n",
            "which makes metrics between the train and eval_set incomparable.\n"
          ]
        }
      ]
    },
    {
      "cell_type": "code",
      "source": [
        "enriched_train_features = enricher.fit_transform(train_features, train_target, keep_input=True)\n",
        "enriched_test_features = enricher.transform(test_features, keep_input=True)\n",
        "\n",
        "\n",
        "enriched_train_features.head()"
      ],
      "metadata": {
        "id": "pjbI2bFdJQUj"
      },
      "execution_count": null,
      "outputs": []
    },
    {
      "cell_type": "code",
      "source": [
        "model.fit(train_features, train_target)\n",
        "preds = model.predict(test_features)\n",
        "eval_metric(test_target.values, preds, \"SMAPE\")"
      ],
      "metadata": {
        "id": "fFlnsILGKMid"
      },
      "execution_count": null,
      "outputs": []
    },
    {
      "cell_type": "code",
      "source": [
        "model.fit(enriched_train_features, train_target)\n",
        "enriched_preds = model.predict(enriched_test_features)\n",
        "mape = eval_metric(test_target.values, enriched_preds, \"SMAPE\")"
      ],
      "metadata": {
        "id": "qb2vWEBIK0LR"
      },
      "execution_count": null,
      "outputs": []
    },
    {
      "cell_type": "code",
      "source": [
        "# 1. Install Libraries\n",
        "# - Install and update Upgini (for feature enrichment)\n",
        "# - Install and update CatBoost (for sales prediction modeling)\n",
        "\n",
        "# 2. Read & Prepare Data\n",
        "# - Load dataset from local file or GitHub\n",
        "# - Take a sample of 19,000 rows to reduce size\n",
        "# - Convert 'store' and 'item' to string\n",
        "# - Convert 'date' to datetime format\n",
        "# - Sort by date and reset index\n",
        "# - Display first 5 rows\n",
        "\n",
        "# 3. Split Data (Train/Test)\n",
        "# - Train set = rows before 2017\n",
        "# - Test set = rows from 2017 onwards\n",
        "# - Separate features (X) from target 'sales' (y)\n",
        "\n",
        "# 4. Feature Enrichment with Upgini\n",
        "# - Define 'date' as the time key\n",
        "# - Use time series cross-validation\n",
        "# - Fit the enricher on training data and validate on test data\n",
        "# - Goal: add external features (e.g., weather, holidays) to improve accuracy\n",
        "\n",
        "# 5. Define CatBoost Model\n",
        "# - Create CatBoost Regressor for numerical prediction\n",
        "# - Set verbose=False to hide logs\n",
        "# - Set random_state=0 for reproducibility\n",
        "\n",
        "# 6. Evaluate Upgini + CatBoost\n",
        "# - Measure model performance with MAPE (Mean Absolute Percentage Error)\n",
        "# - Purpose: compare accuracy before vs after enrichment\n",
        "\n",
        "# 7. Train Model Without Enrichment\n",
        "# - Train CatBoost on original train set\n",
        "# - Predict sales on test set\n",
        "# - Evaluate with SMAPE (Symmetric Mean Absolute Percentage Error)\n",
        "\n",
        "# 8. Train Model With Enriched Features\n",
        "# - Train CatBoost on enriched train set\n",
        "# - Predict on enriched test set\n",
        "# - Re-evaluate with SMAPE to check performance improvement\n"
      ],
      "metadata": {
        "id": "nB2R6LLzN3wx"
      },
      "execution_count": null,
      "outputs": []
    }
  ]
}